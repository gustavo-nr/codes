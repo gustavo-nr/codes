{
 "cells": [
  {
   "cell_type": "markdown",
   "metadata": {
    "papermill": {
     "duration": 0.07771,
     "end_time": "2020-12-21T02:52:53.599963",
     "exception": false,
     "start_time": "2020-12-21T02:52:53.522253",
     "status": "completed"
    },
    "tags": []
   },
   "source": [
    "# PMR3508 - Dataset Adult\n",
    "\n",
    "### Análise e predição de dados do Dataset Adult\n",
    "\n",
    "Gustavo Nunes Ribeiro: PMR3508-2020-141"
   ]
  },
  {
   "cell_type": "markdown",
   "metadata": {
    "papermill": {
     "duration": 0.073197,
     "end_time": "2020-12-21T02:52:53.746930",
     "exception": false,
     "start_time": "2020-12-21T02:52:53.673733",
     "status": "completed"
    },
    "tags": []
   },
   "source": [
    "## 1. Bibliotecas"
   ]
  },
  {
   "cell_type": "markdown",
   "metadata": {
    "papermill": {
     "duration": 0.073078,
     "end_time": "2020-12-21T02:52:53.893895",
     "exception": false,
     "start_time": "2020-12-21T02:52:53.820817",
     "status": "completed"
    },
    "tags": []
   },
   "source": [
    "Primeiramente, importaremos algumas bibliotecas essencias para a análise dos dados: pandas e numpy."
   ]
  },
  {
   "cell_type": "code",
   "execution_count": 1,
   "metadata": {
    "execution": {
     "iopub.execute_input": "2020-12-21T02:52:54.048659Z",
     "iopub.status.busy": "2020-12-21T02:52:54.047724Z",
     "iopub.status.idle": "2020-12-21T02:52:54.050204Z",
     "shell.execute_reply": "2020-12-21T02:52:54.050800Z"
    },
    "papermill": {
     "duration": 0.081959,
     "end_time": "2020-12-21T02:52:54.050968",
     "exception": false,
     "start_time": "2020-12-21T02:52:53.969009",
     "status": "completed"
    },
    "tags": []
   },
   "outputs": [],
   "source": [
    "import pandas as pd\n",
    "import numpy as np"
   ]
  },
  {
   "cell_type": "markdown",
   "metadata": {
    "papermill": {
     "duration": 0.073967,
     "end_time": "2020-12-21T02:52:54.199773",
     "exception": false,
     "start_time": "2020-12-21T02:52:54.125806",
     "status": "completed"
    },
    "tags": []
   },
   "source": [
    "Para criar um modelo de predição, utilizaremos a biblioteca sklearn."
   ]
  },
  {
   "cell_type": "code",
   "execution_count": 2,
   "metadata": {
    "execution": {
     "iopub.execute_input": "2020-12-21T02:52:54.353727Z",
     "iopub.status.busy": "2020-12-21T02:52:54.352979Z",
     "iopub.status.idle": "2020-12-21T02:52:55.130210Z",
     "shell.execute_reply": "2020-12-21T02:52:55.129642Z"
    },
    "papermill": {
     "duration": 0.856329,
     "end_time": "2020-12-21T02:52:55.130355",
     "exception": false,
     "start_time": "2020-12-21T02:52:54.274026",
     "status": "completed"
    },
    "tags": []
   },
   "outputs": [],
   "source": [
    "import sklearn"
   ]
  },
  {
   "cell_type": "markdown",
   "metadata": {
    "papermill": {
     "duration": 0.075019,
     "end_time": "2020-12-21T02:52:55.282275",
     "exception": false,
     "start_time": "2020-12-21T02:52:55.207256",
     "status": "completed"
    },
    "tags": []
   },
   "source": [
    "Para analisar os dados graficamente e numéricamente, utilizaremos as seguintes bibliotecas:"
   ]
  },
  {
   "cell_type": "code",
   "execution_count": 3,
   "metadata": {
    "execution": {
     "iopub.execute_input": "2020-12-21T02:52:55.441218Z",
     "iopub.status.busy": "2020-12-21T02:52:55.440385Z",
     "iopub.status.idle": "2020-12-21T02:52:55.544539Z",
     "shell.execute_reply": "2020-12-21T02:52:55.542825Z"
    },
    "papermill": {
     "duration": 0.185793,
     "end_time": "2020-12-21T02:52:55.544683",
     "exception": false,
     "start_time": "2020-12-21T02:52:55.358890",
     "status": "completed"
    },
    "tags": []
   },
   "outputs": [],
   "source": [
    "import matplotlib.pyplot as plt\n",
    "import seaborn as sns"
   ]
  },
  {
   "cell_type": "markdown",
   "metadata": {
    "papermill": {
     "duration": 0.083621,
     "end_time": "2020-12-21T02:52:55.713283",
     "exception": false,
     "start_time": "2020-12-21T02:52:55.629662",
     "status": "completed"
    },
    "tags": []
   },
   "source": [
    "## 2. Importação dos Dados"
   ]
  },
  {
   "cell_type": "markdown",
   "metadata": {
    "papermill": {
     "duration": 0.082949,
     "end_time": "2020-12-21T02:52:55.879837",
     "exception": false,
     "start_time": "2020-12-21T02:52:55.796888",
     "status": "completed"
    },
    "tags": []
   },
   "source": [
    "Para importar os dados, utilizaremos o comando `csv_read` a partir da biblioteca pandas."
   ]
  },
  {
   "cell_type": "code",
   "execution_count": 4,
   "metadata": {
    "execution": {
     "iopub.execute_input": "2020-12-21T02:52:56.053887Z",
     "iopub.status.busy": "2020-12-21T02:52:56.053284Z",
     "iopub.status.idle": "2020-12-21T02:52:56.221764Z",
     "shell.execute_reply": "2020-12-21T02:52:56.220488Z"
    },
    "papermill": {
     "duration": 0.259384,
     "end_time": "2020-12-21T02:52:56.221942",
     "exception": false,
     "start_time": "2020-12-21T02:52:55.962558",
     "status": "completed"
    },
    "tags": []
   },
   "outputs": [],
   "source": [
    "train = pd.read_csv(\"../input/adult-pmr3508/train_data.csv\",index_col=['Id'],na_values = '?')"
   ]
  },
  {
   "cell_type": "markdown",
   "metadata": {
    "papermill": {
     "duration": 0.077145,
     "end_time": "2020-12-21T02:52:56.378990",
     "exception": false,
     "start_time": "2020-12-21T02:52:56.301845",
     "status": "completed"
    },
    "tags": []
   },
   "source": [
    "Utilizando o comando `head`, podemos analisar as colunas e as primeiras linhas do dataset."
   ]
  },
  {
   "cell_type": "code",
   "execution_count": 5,
   "metadata": {
    "execution": {
     "iopub.execute_input": "2020-12-21T02:52:56.564518Z",
     "iopub.status.busy": "2020-12-21T02:52:56.563503Z",
     "iopub.status.idle": "2020-12-21T02:52:56.577762Z",
     "shell.execute_reply": "2020-12-21T02:52:56.578381Z"
    },
    "papermill": {
     "duration": 0.112158,
     "end_time": "2020-12-21T02:52:56.578519",
     "exception": false,
     "start_time": "2020-12-21T02:52:56.466361",
     "status": "completed"
    },
    "tags": []
   },
   "outputs": [
    {
     "data": {
      "text/html": [
       "<div>\n",
       "<style scoped>\n",
       "    .dataframe tbody tr th:only-of-type {\n",
       "        vertical-align: middle;\n",
       "    }\n",
       "\n",
       "    .dataframe tbody tr th {\n",
       "        vertical-align: top;\n",
       "    }\n",
       "\n",
       "    .dataframe thead th {\n",
       "        text-align: right;\n",
       "    }\n",
       "</style>\n",
       "<table border=\"1\" class=\"dataframe\">\n",
       "  <thead>\n",
       "    <tr style=\"text-align: right;\">\n",
       "      <th></th>\n",
       "      <th>age</th>\n",
       "      <th>workclass</th>\n",
       "      <th>fnlwgt</th>\n",
       "      <th>education</th>\n",
       "      <th>education.num</th>\n",
       "      <th>marital.status</th>\n",
       "      <th>occupation</th>\n",
       "      <th>relationship</th>\n",
       "      <th>race</th>\n",
       "      <th>sex</th>\n",
       "      <th>capital.gain</th>\n",
       "      <th>capital.loss</th>\n",
       "      <th>hours.per.week</th>\n",
       "      <th>native.country</th>\n",
       "      <th>income</th>\n",
       "    </tr>\n",
       "    <tr>\n",
       "      <th>Id</th>\n",
       "      <th></th>\n",
       "      <th></th>\n",
       "      <th></th>\n",
       "      <th></th>\n",
       "      <th></th>\n",
       "      <th></th>\n",
       "      <th></th>\n",
       "      <th></th>\n",
       "      <th></th>\n",
       "      <th></th>\n",
       "      <th></th>\n",
       "      <th></th>\n",
       "      <th></th>\n",
       "      <th></th>\n",
       "      <th></th>\n",
       "    </tr>\n",
       "  </thead>\n",
       "  <tbody>\n",
       "    <tr>\n",
       "      <th>16280</th>\n",
       "      <td>34</td>\n",
       "      <td>Private</td>\n",
       "      <td>204991</td>\n",
       "      <td>Some-college</td>\n",
       "      <td>10</td>\n",
       "      <td>Divorced</td>\n",
       "      <td>Exec-managerial</td>\n",
       "      <td>Own-child</td>\n",
       "      <td>White</td>\n",
       "      <td>Male</td>\n",
       "      <td>0</td>\n",
       "      <td>0</td>\n",
       "      <td>44</td>\n",
       "      <td>United-States</td>\n",
       "      <td>&lt;=50K</td>\n",
       "    </tr>\n",
       "    <tr>\n",
       "      <th>16281</th>\n",
       "      <td>58</td>\n",
       "      <td>Local-gov</td>\n",
       "      <td>310085</td>\n",
       "      <td>10th</td>\n",
       "      <td>6</td>\n",
       "      <td>Married-civ-spouse</td>\n",
       "      <td>Transport-moving</td>\n",
       "      <td>Husband</td>\n",
       "      <td>White</td>\n",
       "      <td>Male</td>\n",
       "      <td>0</td>\n",
       "      <td>0</td>\n",
       "      <td>40</td>\n",
       "      <td>United-States</td>\n",
       "      <td>&lt;=50K</td>\n",
       "    </tr>\n",
       "    <tr>\n",
       "      <th>16282</th>\n",
       "      <td>25</td>\n",
       "      <td>Private</td>\n",
       "      <td>146117</td>\n",
       "      <td>Some-college</td>\n",
       "      <td>10</td>\n",
       "      <td>Never-married</td>\n",
       "      <td>Machine-op-inspct</td>\n",
       "      <td>Not-in-family</td>\n",
       "      <td>White</td>\n",
       "      <td>Male</td>\n",
       "      <td>0</td>\n",
       "      <td>0</td>\n",
       "      <td>42</td>\n",
       "      <td>United-States</td>\n",
       "      <td>&lt;=50K</td>\n",
       "    </tr>\n",
       "    <tr>\n",
       "      <th>16283</th>\n",
       "      <td>24</td>\n",
       "      <td>Private</td>\n",
       "      <td>138938</td>\n",
       "      <td>Some-college</td>\n",
       "      <td>10</td>\n",
       "      <td>Divorced</td>\n",
       "      <td>Adm-clerical</td>\n",
       "      <td>Not-in-family</td>\n",
       "      <td>White</td>\n",
       "      <td>Female</td>\n",
       "      <td>0</td>\n",
       "      <td>0</td>\n",
       "      <td>40</td>\n",
       "      <td>United-States</td>\n",
       "      <td>&lt;=50K</td>\n",
       "    </tr>\n",
       "    <tr>\n",
       "      <th>16284</th>\n",
       "      <td>57</td>\n",
       "      <td>Self-emp-inc</td>\n",
       "      <td>258883</td>\n",
       "      <td>HS-grad</td>\n",
       "      <td>9</td>\n",
       "      <td>Married-civ-spouse</td>\n",
       "      <td>Transport-moving</td>\n",
       "      <td>Husband</td>\n",
       "      <td>White</td>\n",
       "      <td>Male</td>\n",
       "      <td>5178</td>\n",
       "      <td>0</td>\n",
       "      <td>60</td>\n",
       "      <td>Hungary</td>\n",
       "      <td>&gt;50K</td>\n",
       "    </tr>\n",
       "  </tbody>\n",
       "</table>\n",
       "</div>"
      ],
      "text/plain": [
       "       age     workclass  fnlwgt     education  education.num  \\\n",
       "Id                                                              \n",
       "16280   34       Private  204991  Some-college             10   \n",
       "16281   58     Local-gov  310085          10th              6   \n",
       "16282   25       Private  146117  Some-college             10   \n",
       "16283   24       Private  138938  Some-college             10   \n",
       "16284   57  Self-emp-inc  258883       HS-grad              9   \n",
       "\n",
       "           marital.status         occupation   relationship   race     sex  \\\n",
       "Id                                                                           \n",
       "16280            Divorced    Exec-managerial      Own-child  White    Male   \n",
       "16281  Married-civ-spouse   Transport-moving        Husband  White    Male   \n",
       "16282       Never-married  Machine-op-inspct  Not-in-family  White    Male   \n",
       "16283            Divorced       Adm-clerical  Not-in-family  White  Female   \n",
       "16284  Married-civ-spouse   Transport-moving        Husband  White    Male   \n",
       "\n",
       "       capital.gain  capital.loss  hours.per.week native.country income  \n",
       "Id                                                                       \n",
       "16280             0             0              44  United-States  <=50K  \n",
       "16281             0             0              40  United-States  <=50K  \n",
       "16282             0             0              42  United-States  <=50K  \n",
       "16283             0             0              40  United-States  <=50K  \n",
       "16284          5178             0              60        Hungary   >50K  "
      ]
     },
     "execution_count": 5,
     "metadata": {},
     "output_type": "execute_result"
    }
   ],
   "source": [
    "train.head()"
   ]
  },
  {
   "cell_type": "markdown",
   "metadata": {
    "papermill": {
     "duration": 0.078786,
     "end_time": "2020-12-21T02:52:56.742111",
     "exception": false,
     "start_time": "2020-12-21T02:52:56.663325",
     "status": "completed"
    },
    "tags": []
   },
   "source": [
    "A partir do método `info`, pode-se comprender melhor as váriaveis com que trabalharemos."
   ]
  },
  {
   "cell_type": "code",
   "execution_count": 6,
   "metadata": {
    "execution": {
     "iopub.execute_input": "2020-12-21T02:52:56.936957Z",
     "iopub.status.busy": "2020-12-21T02:52:56.935984Z",
     "iopub.status.idle": "2020-12-21T02:52:56.951255Z",
     "shell.execute_reply": "2020-12-21T02:52:56.950642Z"
    },
    "papermill": {
     "duration": 0.131176,
     "end_time": "2020-12-21T02:52:56.951367",
     "exception": false,
     "start_time": "2020-12-21T02:52:56.820191",
     "status": "completed"
    },
    "tags": []
   },
   "outputs": [
    {
     "name": "stdout",
     "output_type": "stream",
     "text": [
      "<class 'pandas.core.frame.DataFrame'>\n",
      "Int64Index: 32560 entries, 16280 to 48839\n",
      "Data columns (total 15 columns):\n",
      " #   Column          Non-Null Count  Dtype \n",
      "---  ------          --------------  ----- \n",
      " 0   age             32560 non-null  int64 \n",
      " 1   workclass       30724 non-null  object\n",
      " 2   fnlwgt          32560 non-null  int64 \n",
      " 3   education       32560 non-null  object\n",
      " 4   education.num   32560 non-null  int64 \n",
      " 5   marital.status  32560 non-null  object\n",
      " 6   occupation      30717 non-null  object\n",
      " 7   relationship    32560 non-null  object\n",
      " 8   race            32560 non-null  object\n",
      " 9   sex             32560 non-null  object\n",
      " 10  capital.gain    32560 non-null  int64 \n",
      " 11  capital.loss    32560 non-null  int64 \n",
      " 12  hours.per.week  32560 non-null  int64 \n",
      " 13  native.country  31977 non-null  object\n",
      " 14  income          32560 non-null  object\n",
      "dtypes: int64(6), object(9)\n",
      "memory usage: 4.0+ MB\n"
     ]
    }
   ],
   "source": [
    "train.info()"
   ]
  },
  {
   "cell_type": "markdown",
   "metadata": {
    "papermill": {
     "duration": 0.082221,
     "end_time": "2020-12-21T02:52:57.122857",
     "exception": false,
     "start_time": "2020-12-21T02:52:57.040636",
     "status": "completed"
    },
    "tags": []
   },
   "source": [
    "Pode-se notar a presença de dados com valores númericos e com valores não numéricos, além disso, a coluna \"income\" representa a nossa variável dependente. Tendo essas informações básicas, analisaremos mais afundo os dados existentes."
   ]
  },
  {
   "cell_type": "markdown",
   "metadata": {
    "papermill": {
     "duration": 0.079879,
     "end_time": "2020-12-21T02:52:57.280451",
     "exception": false,
     "start_time": "2020-12-21T02:52:57.200572",
     "status": "completed"
    },
    "tags": []
   },
   "source": [
    "## 3. Análise dos dados"
   ]
  },
  {
   "cell_type": "markdown",
   "metadata": {
    "papermill": {
     "duration": 0.084007,
     "end_time": "2020-12-21T02:52:57.447528",
     "exception": false,
     "start_time": "2020-12-21T02:52:57.363521",
     "status": "completed"
    },
    "tags": []
   },
   "source": [
    "Utilizaremos o médoto `describe` para analisar as métricas que envolvem os dados."
   ]
  },
  {
   "cell_type": "code",
   "execution_count": 7,
   "metadata": {
    "execution": {
     "iopub.execute_input": "2020-12-21T02:52:57.617786Z",
     "iopub.status.busy": "2020-12-21T02:52:57.616978Z",
     "iopub.status.idle": "2020-12-21T02:52:57.650824Z",
     "shell.execute_reply": "2020-12-21T02:52:57.650269Z"
    },
    "papermill": {
     "duration": 0.124815,
     "end_time": "2020-12-21T02:52:57.650962",
     "exception": false,
     "start_time": "2020-12-21T02:52:57.526147",
     "status": "completed"
    },
    "tags": []
   },
   "outputs": [
    {
     "data": {
      "text/html": [
       "<div>\n",
       "<style scoped>\n",
       "    .dataframe tbody tr th:only-of-type {\n",
       "        vertical-align: middle;\n",
       "    }\n",
       "\n",
       "    .dataframe tbody tr th {\n",
       "        vertical-align: top;\n",
       "    }\n",
       "\n",
       "    .dataframe thead th {\n",
       "        text-align: right;\n",
       "    }\n",
       "</style>\n",
       "<table border=\"1\" class=\"dataframe\">\n",
       "  <thead>\n",
       "    <tr style=\"text-align: right;\">\n",
       "      <th></th>\n",
       "      <th>age</th>\n",
       "      <th>fnlwgt</th>\n",
       "      <th>education.num</th>\n",
       "      <th>capital.gain</th>\n",
       "      <th>capital.loss</th>\n",
       "      <th>hours.per.week</th>\n",
       "    </tr>\n",
       "  </thead>\n",
       "  <tbody>\n",
       "    <tr>\n",
       "      <th>count</th>\n",
       "      <td>32560.000000</td>\n",
       "      <td>3.256000e+04</td>\n",
       "      <td>32560.000000</td>\n",
       "      <td>32560.000000</td>\n",
       "      <td>32560.000000</td>\n",
       "      <td>32560.000000</td>\n",
       "    </tr>\n",
       "    <tr>\n",
       "      <th>mean</th>\n",
       "      <td>38.581634</td>\n",
       "      <td>1.897818e+05</td>\n",
       "      <td>10.080590</td>\n",
       "      <td>1077.615172</td>\n",
       "      <td>87.306511</td>\n",
       "      <td>40.437469</td>\n",
       "    </tr>\n",
       "    <tr>\n",
       "      <th>std</th>\n",
       "      <td>13.640642</td>\n",
       "      <td>1.055498e+05</td>\n",
       "      <td>2.572709</td>\n",
       "      <td>7385.402999</td>\n",
       "      <td>402.966116</td>\n",
       "      <td>12.347618</td>\n",
       "    </tr>\n",
       "    <tr>\n",
       "      <th>min</th>\n",
       "      <td>17.000000</td>\n",
       "      <td>1.228500e+04</td>\n",
       "      <td>1.000000</td>\n",
       "      <td>0.000000</td>\n",
       "      <td>0.000000</td>\n",
       "      <td>1.000000</td>\n",
       "    </tr>\n",
       "    <tr>\n",
       "      <th>25%</th>\n",
       "      <td>28.000000</td>\n",
       "      <td>1.178315e+05</td>\n",
       "      <td>9.000000</td>\n",
       "      <td>0.000000</td>\n",
       "      <td>0.000000</td>\n",
       "      <td>40.000000</td>\n",
       "    </tr>\n",
       "    <tr>\n",
       "      <th>50%</th>\n",
       "      <td>37.000000</td>\n",
       "      <td>1.783630e+05</td>\n",
       "      <td>10.000000</td>\n",
       "      <td>0.000000</td>\n",
       "      <td>0.000000</td>\n",
       "      <td>40.000000</td>\n",
       "    </tr>\n",
       "    <tr>\n",
       "      <th>75%</th>\n",
       "      <td>48.000000</td>\n",
       "      <td>2.370545e+05</td>\n",
       "      <td>12.000000</td>\n",
       "      <td>0.000000</td>\n",
       "      <td>0.000000</td>\n",
       "      <td>45.000000</td>\n",
       "    </tr>\n",
       "    <tr>\n",
       "      <th>max</th>\n",
       "      <td>90.000000</td>\n",
       "      <td>1.484705e+06</td>\n",
       "      <td>16.000000</td>\n",
       "      <td>99999.000000</td>\n",
       "      <td>4356.000000</td>\n",
       "      <td>99.000000</td>\n",
       "    </tr>\n",
       "  </tbody>\n",
       "</table>\n",
       "</div>"
      ],
      "text/plain": [
       "                age        fnlwgt  education.num  capital.gain  capital.loss  \\\n",
       "count  32560.000000  3.256000e+04   32560.000000  32560.000000  32560.000000   \n",
       "mean      38.581634  1.897818e+05      10.080590   1077.615172     87.306511   \n",
       "std       13.640642  1.055498e+05       2.572709   7385.402999    402.966116   \n",
       "min       17.000000  1.228500e+04       1.000000      0.000000      0.000000   \n",
       "25%       28.000000  1.178315e+05       9.000000      0.000000      0.000000   \n",
       "50%       37.000000  1.783630e+05      10.000000      0.000000      0.000000   \n",
       "75%       48.000000  2.370545e+05      12.000000      0.000000      0.000000   \n",
       "max       90.000000  1.484705e+06      16.000000  99999.000000   4356.000000   \n",
       "\n",
       "       hours.per.week  \n",
       "count    32560.000000  \n",
       "mean        40.437469  \n",
       "std         12.347618  \n",
       "min          1.000000  \n",
       "25%         40.000000  \n",
       "50%         40.000000  \n",
       "75%         45.000000  \n",
       "max         99.000000  "
      ]
     },
     "execution_count": 7,
     "metadata": {},
     "output_type": "execute_result"
    }
   ],
   "source": [
    "train.describe()"
   ]
  },
  {
   "cell_type": "markdown",
   "metadata": {
    "papermill": {
     "duration": 0.086133,
     "end_time": "2020-12-21T02:52:57.825323",
     "exception": false,
     "start_time": "2020-12-21T02:52:57.739190",
     "status": "completed"
    },
    "tags": []
   },
   "source": [
    "Pode-se notar, através de uma análise prévia, a presença de outliers nas colunas \"capital gain\", \"capital loss\" e \"hour per week\", justamente por terem valores de máximo muito elevados.\n",
    "\n",
    "Além disso, nota-se um desvio padrão elevado para as colunas \"capital gain\" e \"capital loss\", indicando a dispersão dos dados.\n"
   ]
  },
  {
   "cell_type": "markdown",
   "metadata": {
    "papermill": {
     "duration": 0.078015,
     "end_time": "2020-12-21T02:52:57.989533",
     "exception": false,
     "start_time": "2020-12-21T02:52:57.911518",
     "status": "completed"
    },
    "tags": []
   },
   "source": [
    "### 3. 1 Visualização dos Dados"
   ]
  },
  {
   "cell_type": "markdown",
   "metadata": {
    "papermill": {
     "duration": 0.078326,
     "end_time": "2020-12-21T02:52:58.144762",
     "exception": false,
     "start_time": "2020-12-21T02:52:58.066436",
     "status": "completed"
    },
    "tags": []
   },
   "source": [
    "#### 3.1.1 Dados Numéricos "
   ]
  },
  {
   "cell_type": "markdown",
   "metadata": {
    "papermill": {
     "duration": 0.0795,
     "end_time": "2020-12-21T02:52:58.302846",
     "exception": false,
     "start_time": "2020-12-21T02:52:58.223346",
     "status": "completed"
    },
    "tags": []
   },
   "source": [
    "Nessa etapa, plotaremos uma série de gráficos que mostrarão como os dados estão organizados, como se relacionam com a variável dependente e como se relacionam entre si."
   ]
  },
  {
   "cell_type": "code",
   "execution_count": 8,
   "metadata": {
    "execution": {
     "iopub.execute_input": "2020-12-21T02:52:58.510238Z",
     "iopub.status.busy": "2020-12-21T02:52:58.509096Z",
     "iopub.status.idle": "2020-12-21T02:52:59.178693Z",
     "shell.execute_reply": "2020-12-21T02:52:59.179767Z"
    },
    "papermill": {
     "duration": 0.799235,
     "end_time": "2020-12-21T02:52:59.179983",
     "exception": false,
     "start_time": "2020-12-21T02:52:58.380748",
     "status": "completed"
    },
    "tags": []
   },
   "outputs": [
    {
     "data": {
      "text/plain": [
       "<seaborn.axisgrid.FacetGrid at 0x7ff5616d3610>"
      ]
     },
     "execution_count": 8,
     "metadata": {},
     "output_type": "execute_result"
    },
    {
     "data": {
      "image/png": "[encoded data removed]",
      "text/plain": [
       "<Figure size 720x360 with 1 Axes>"
      ]
     },
     "metadata": {
      "needs_background": "light"
     },
     "output_type": "display_data"
    }
   ],
   "source": [
    "sns.catplot(x=\"age\", y=\"income\", kind=\"violin\", data=train, aspect=2)"
   ]
  },
  {
   "cell_type": "markdown",
   "metadata": {
    "papermill": {
     "duration": 0.108249,
     "end_time": "2020-12-21T02:52:59.407367",
     "exception": false,
     "start_time": "2020-12-21T02:52:59.299118",
     "status": "completed"
    },
    "tags": []
   },
   "source": [
    "Nota-se que a idade é um fator considerável na definição do rótulo, já que as pessoas que ganham mais tendem a ser mais velhas."
   ]
  },
  {
   "cell_type": "code",
   "execution_count": 9,
   "metadata": {
    "execution": {
     "iopub.execute_input": "2020-12-21T02:52:59.672752Z",
     "iopub.status.busy": "2020-12-21T02:52:59.671916Z",
     "iopub.status.idle": "2020-12-21T02:53:00.035358Z",
     "shell.execute_reply": "2020-12-21T02:53:00.034174Z"
    },
    "papermill": {
     "duration": 0.52608,
     "end_time": "2020-12-21T02:53:00.035503",
     "exception": false,
     "start_time": "2020-12-21T02:52:59.509423",
     "status": "completed"
    },
    "tags": []
   },
   "outputs": [
    {
     "data": {
      "text/plain": [
       "<seaborn.axisgrid.FacetGrid at 0x7ff561ab3d50>"
      ]
     },
     "execution_count": 9,
     "metadata": {},
     "output_type": "execute_result"
    },
    {
     "data": {
      "image/png": "[encoded data removed]",
      "text/plain": [
       "<Figure size 720x360 with 1 Axes>"
      ]
     },
     "metadata": {
      "needs_background": "light"
     },
     "output_type": "display_data"
    }
   ],
   "source": [
    "sns.catplot(x = \"fnlwgt\",y = \"income\", kind = \"violin\", data = train, aspect = 2)"
   ]
  },
  {
   "cell_type": "markdown",
   "metadata": {
    "papermill": {
     "duration": 0.080363,
     "end_time": "2020-12-21T02:53:00.204760",
     "exception": false,
     "start_time": "2020-12-21T02:53:00.124397",
     "status": "completed"
    },
    "tags": []
   },
   "source": [
    "É notável que se trata de uma variável pouco decisiva na escolha do rótulo \"income\", portanto, a coluna será \"dropada\" posteriormente.\n"
   ]
  },
  {
   "cell_type": "code",
   "execution_count": 10,
   "metadata": {
    "execution": {
     "iopub.execute_input": "2020-12-21T02:53:00.378034Z",
     "iopub.status.busy": "2020-12-21T02:53:00.377131Z",
     "iopub.status.idle": "2020-12-21T02:53:00.681568Z",
     "shell.execute_reply": "2020-12-21T02:53:00.680362Z"
    },
    "papermill": {
     "duration": 0.393349,
     "end_time": "2020-12-21T02:53:00.681715",
     "exception": false,
     "start_time": "2020-12-21T02:53:00.288366",
     "status": "completed"
    },
    "tags": []
   },
   "outputs": [
    {
     "data": {
      "text/plain": [
       "<seaborn.axisgrid.FacetGrid at 0x7ff56146db50>"
      ]
     },
     "execution_count": 10,
     "metadata": {},
     "output_type": "execute_result"
    },
    {
     "data": {
      "image/png": "[encoded data removed]",
      "text/plain": [
       "<Figure size 720x360 with 1 Axes>"
      ]
     },
     "metadata": {
      "needs_background": "light"
     },
     "output_type": "display_data"
    }
   ],
   "source": [
    "sns.catplot(x = \"education.num\",y = \"income\", kind = \"violin\", data = train, aspect = 2)"
   ]
  },
  {
   "cell_type": "markdown",
   "metadata": {
    "papermill": {
     "duration": 0.085181,
     "end_time": "2020-12-21T02:53:00.858337",
     "exception": false,
     "start_time": "2020-12-21T02:53:00.773156",
     "status": "completed"
    },
    "tags": []
   },
   "source": [
    "O gráfico demonstra uma relação clara entre o tempo de estudo e o rótulo \"income\"."
   ]
  },
  {
   "cell_type": "code",
   "execution_count": 11,
   "metadata": {
    "execution": {
     "iopub.execute_input": "2020-12-21T02:53:01.035502Z",
     "iopub.status.busy": "2020-12-21T02:53:01.034527Z",
     "iopub.status.idle": "2020-12-21T02:53:01.431202Z",
     "shell.execute_reply": "2020-12-21T02:53:01.432476Z"
    },
    "papermill": {
     "duration": 0.489387,
     "end_time": "2020-12-21T02:53:01.432683",
     "exception": false,
     "start_time": "2020-12-21T02:53:00.943296",
     "status": "completed"
    },
    "tags": []
   },
   "outputs": [
    {
     "data": {
      "text/plain": [
       "<seaborn.axisgrid.FacetGrid at 0x7ff5613d8790>"
      ]
     },
     "execution_count": 11,
     "metadata": {},
     "output_type": "execute_result"
    },
    {
     "data": {
      "image/png": "[encoded data removed]",
      "text/plain": [
       "<Figure size 720x360 with 1 Axes>"
      ]
     },
     "metadata": {
      "needs_background": "light"
     },
     "output_type": "display_data"
    }
   ],
   "source": [
    "sns.catplot(x = \"capital.gain\",y = \"income\", kind = \"violin\", data = train, aspect = 2)"
   ]
  },
  {
   "cell_type": "markdown",
   "metadata": {
    "papermill": {
     "duration": 0.132856,
     "end_time": "2020-12-21T02:53:01.700299",
     "exception": false,
     "start_time": "2020-12-21T02:53:01.567443",
     "status": "completed"
    },
    "tags": []
   },
   "source": [
    "Para esse dado, nota-se uma grande desbalanceamento da distribuição, embora seja possível observar que há uma concentração massisa de pessoas que recebem menos de 50k em torno do valor 0 da abcissa. "
   ]
  },
  {
   "cell_type": "code",
   "execution_count": 12,
   "metadata": {
    "execution": {
     "iopub.execute_input": "2020-12-21T02:53:02.005886Z",
     "iopub.status.busy": "2020-12-21T02:53:02.004948Z",
     "iopub.status.idle": "2020-12-21T02:53:02.436405Z",
     "shell.execute_reply": "2020-12-21T02:53:02.437692Z"
    },
    "papermill": {
     "duration": 0.580164,
     "end_time": "2020-12-21T02:53:02.437914",
     "exception": false,
     "start_time": "2020-12-21T02:53:01.857750",
     "status": "completed"
    },
    "tags": []
   },
   "outputs": [
    {
     "data": {
      "text/plain": [
       "<seaborn.axisgrid.FacetGrid at 0x7ff5613971d0>"
      ]
     },
     "execution_count": 12,
     "metadata": {},
     "output_type": "execute_result"
    },
    {
     "data": {
      "image/png": "[encoded data removed]",
      "text/plain": [
       "<Figure size 720x360 with 1 Axes>"
      ]
     },
     "metadata": {
      "needs_background": "light"
     },
     "output_type": "display_data"
    }
   ],
   "source": [
    "sns.catplot(x = \"capital.loss\",y = \"income\", kind = \"violin\", data = train, aspect = 2)"
   ]
  },
  {
   "cell_type": "markdown",
   "metadata": {
    "papermill": {
     "duration": 0.095323,
     "end_time": "2020-12-21T02:53:02.664273",
     "exception": false,
     "start_time": "2020-12-21T02:53:02.568950",
     "status": "completed"
    },
    "tags": []
   },
   "source": [
    "A mesma análise anterior pode ser feita para essa coluna."
   ]
  },
  {
   "cell_type": "code",
   "execution_count": 13,
   "metadata": {
    "execution": {
     "iopub.execute_input": "2020-12-21T02:53:02.848014Z",
     "iopub.status.busy": "2020-12-21T02:53:02.847072Z",
     "iopub.status.idle": "2020-12-21T02:53:03.214112Z",
     "shell.execute_reply": "2020-12-21T02:53:03.214666Z"
    },
    "papermill": {
     "duration": 0.464411,
     "end_time": "2020-12-21T02:53:03.214826",
     "exception": false,
     "start_time": "2020-12-21T02:53:02.750415",
     "status": "completed"
    },
    "tags": []
   },
   "outputs": [
    {
     "data": {
      "text/plain": [
       "<seaborn.axisgrid.FacetGrid at 0x7ff5612df490>"
      ]
     },
     "execution_count": 13,
     "metadata": {},
     "output_type": "execute_result"
    },
    {
     "data": {
      "image/png": "[encoded data removed]",
      "text/plain": [
       "<Figure size 720x360 with 1 Axes>"
      ]
     },
     "metadata": {
      "needs_background": "light"
     },
     "output_type": "display_data"
    }
   ],
   "source": [
    "sns.catplot(x = \"hours.per.week\",y = \"income\", kind = \"violin\", data = train, aspect = 2)"
   ]
  },
  {
   "cell_type": "markdown",
   "metadata": {
    "papermill": {
     "duration": 0.0871,
     "end_time": "2020-12-21T02:53:03.393921",
     "exception": false,
     "start_time": "2020-12-21T02:53:03.306821",
     "status": "completed"
    },
    "tags": []
   },
   "source": [
    "Nota-se uma concentração de pessoas que trabalham em torno de 40 horas semanais. Além disso, para aquelas que recebem menos do que 50K, a \"segunda maior\" concentração é maior à esquerda do pico (menos do que 40 horas), já para aquelas que recebem mais do que 50K, essa concentração é maior à direita (mais do que 40 horas)."
   ]
  },
  {
   "cell_type": "markdown",
   "metadata": {
    "papermill": {
     "duration": 0.091305,
     "end_time": "2020-12-21T02:53:03.574779",
     "exception": false,
     "start_time": "2020-12-21T02:53:03.483474",
     "status": "completed"
    },
    "tags": []
   },
   "source": [
    "#### 3.1.2 Dados Categóricos"
   ]
  },
  {
   "cell_type": "code",
   "execution_count": 14,
   "metadata": {
    "execution": {
     "iopub.execute_input": "2020-12-21T02:53:03.766205Z",
     "iopub.status.busy": "2020-12-21T02:53:03.765297Z",
     "iopub.status.idle": "2020-12-21T02:53:04.157432Z",
     "shell.execute_reply": "2020-12-21T02:53:04.157947Z"
    },
    "papermill": {
     "duration": 0.496818,
     "end_time": "2020-12-21T02:53:04.158082",
     "exception": false,
     "start_time": "2020-12-21T02:53:03.661264",
     "status": "completed"
    },
    "tags": []
   },
   "outputs": [
    {
     "data": {
      "text/plain": [
       "(array([0, 1, 2, 3, 4, 5, 6, 7]), <a list of 8 Text major ticklabel objects>)"
      ]
     },
     "execution_count": 14,
     "metadata": {},
     "output_type": "execute_result"
    },
    {
     "data": {
      "image/png": "[encoded data removed]",
      "text/plain": [
       "<Figure size 575.875x504 with 1 Axes>"
      ]
     },
     "metadata": {
      "needs_background": "light"
     },
     "output_type": "display_data"
    }
   ],
   "source": [
    "sns.catplot( x = \"workclass\", hue = \"income\", kind = \"count\", data = train, height=7, aspect=1)\n",
    "plt.xticks(rotation=30)"
   ]
  },
  {
   "cell_type": "markdown",
   "metadata": {
    "papermill": {
     "duration": 0.090105,
     "end_time": "2020-12-21T02:53:04.337700",
     "exception": false,
     "start_time": "2020-12-21T02:53:04.247595",
     "status": "completed"
    },
    "tags": []
   },
   "source": [
    "Podemos observar um certo desbalanceamento dos dados, que estão mais concentrados no setor privado. Além disso, nota-se uma grande influência de cada categoria para o rótulo."
   ]
  },
  {
   "cell_type": "code",
   "execution_count": 15,
   "metadata": {
    "execution": {
     "iopub.execute_input": "2020-12-21T02:53:04.527107Z",
     "iopub.status.busy": "2020-12-21T02:53:04.526166Z",
     "iopub.status.idle": "2020-12-21T02:53:05.040155Z",
     "shell.execute_reply": "2020-12-21T02:53:05.040792Z"
    },
    "papermill": {
     "duration": 0.611548,
     "end_time": "2020-12-21T02:53:05.040977",
     "exception": false,
     "start_time": "2020-12-21T02:53:04.429429",
     "status": "completed"
    },
    "tags": []
   },
   "outputs": [
    {
     "data": {
      "text/plain": [
       "(array([ 0,  1,  2,  3,  4,  5,  6,  7,  8,  9, 10, 11, 12, 13, 14, 15]),\n",
       " <a list of 16 Text major ticklabel objects>)"
      ]
     },
     "execution_count": 15,
     "metadata": {},
     "output_type": "execute_result"
    },
    {
     "data": {
      "image/png": "[encoded data removed]",
      "text/plain": [
       "<Figure size 1079.88x504 with 1 Axes>"
      ]
     },
     "metadata": {
      "needs_background": "light"
     },
     "output_type": "display_data"
    }
   ],
   "source": [
    "sns.catplot( x = \"education\", hue = \"income\", kind = \"count\", data = train, height=7, aspect=2)\n",
    "plt.xticks(rotation=30)"
   ]
  },
  {
   "cell_type": "markdown",
   "metadata": {
    "papermill": {
     "duration": 0.090874,
     "end_time": "2020-12-21T02:53:05.229848",
     "exception": false,
     "start_time": "2020-12-21T02:53:05.138974",
     "status": "completed"
    },
    "tags": []
   },
   "source": [
    "Novamente, uma relação muito forte entre maior tempo de estudo e maior remuneração."
   ]
  },
  {
   "cell_type": "code",
   "execution_count": 16,
   "metadata": {
    "execution": {
     "iopub.execute_input": "2020-12-21T02:53:05.422532Z",
     "iopub.status.busy": "2020-12-21T02:53:05.421550Z",
     "iopub.status.idle": "2020-12-21T02:53:05.810880Z",
     "shell.execute_reply": "2020-12-21T02:53:05.811457Z"
    },
    "papermill": {
     "duration": 0.48991,
     "end_time": "2020-12-21T02:53:05.811606",
     "exception": false,
     "start_time": "2020-12-21T02:53:05.321696",
     "status": "completed"
    },
    "tags": []
   },
   "outputs": [
    {
     "data": {
      "text/plain": [
       "(array([0, 1, 2, 3, 4, 5, 6]), <a list of 7 Text major ticklabel objects>)"
      ]
     },
     "execution_count": 16,
     "metadata": {},
     "output_type": "execute_result"
    },
    {
     "data": {
      "image/png": "[encoded data removed]",
      "text/plain": [
       "<Figure size 575.875x504 with 1 Axes>"
      ]
     },
     "metadata": {
      "needs_background": "light"
     },
     "output_type": "display_data"
    }
   ],
   "source": [
    "sns.catplot( x = \"marital.status\", hue = \"income\", kind = \"count\", data = train, height=7, aspect=1)\n",
    "plt.xticks(rotation=30)"
   ]
  },
  {
   "cell_type": "markdown",
   "metadata": {
    "papermill": {
     "duration": 0.097981,
     "end_time": "2020-12-21T02:53:06.010598",
     "exception": false,
     "start_time": "2020-12-21T02:53:05.912617",
     "status": "completed"
    },
    "tags": []
   },
   "source": [
    "Nota-se uma tendência de pessoas civis casadas receberem mais de 50K em relação as outras classes."
   ]
  },
  {
   "cell_type": "code",
   "execution_count": 17,
   "metadata": {
    "execution": {
     "iopub.execute_input": "2020-12-21T02:53:06.221046Z",
     "iopub.status.busy": "2020-12-21T02:53:06.220049Z",
     "iopub.status.idle": "2020-12-21T02:53:06.726920Z",
     "shell.execute_reply": "2020-12-21T02:53:06.727460Z"
    },
    "papermill": {
     "duration": 0.615652,
     "end_time": "2020-12-21T02:53:06.727598",
     "exception": false,
     "start_time": "2020-12-21T02:53:06.111946",
     "status": "completed"
    },
    "tags": []
   },
   "outputs": [
    {
     "data": {
      "text/plain": [
       "(array([ 0,  1,  2,  3,  4,  5,  6,  7,  8,  9, 10, 11, 12, 13]),\n",
       " <a list of 14 Text major ticklabel objects>)"
      ]
     },
     "execution_count": 17,
     "metadata": {},
     "output_type": "execute_result"
    },
    {
     "data": {
      "image/png": "[encoded data removed]",
      "text/plain": [
       "<Figure size 1079.88x504 with 1 Axes>"
      ]
     },
     "metadata": {
      "needs_background": "light"
     },
     "output_type": "display_data"
    }
   ],
   "source": [
    "sns.catplot( x = \"occupation\", hue = \"income\", kind = \"count\", data = train, height=7, aspect=2)\n",
    "plt.xticks(rotation=30)"
   ]
  },
  {
   "cell_type": "markdown",
   "metadata": {
    "papermill": {
     "duration": 0.103479,
     "end_time": "2020-12-21T02:53:06.940010",
     "exception": false,
     "start_time": "2020-12-21T02:53:06.836531",
     "status": "completed"
    },
    "tags": []
   },
   "source": [
    "Nota-se uma relação importante na definição da variável dependente."
   ]
  },
  {
   "cell_type": "code",
   "execution_count": 18,
   "metadata": {
    "execution": {
     "iopub.execute_input": "2020-12-21T02:53:07.138429Z",
     "iopub.status.busy": "2020-12-21T02:53:07.137543Z",
     "iopub.status.idle": "2020-12-21T02:53:07.513367Z",
     "shell.execute_reply": "2020-12-21T02:53:07.513845Z"
    },
    "papermill": {
     "duration": 0.476064,
     "end_time": "2020-12-21T02:53:07.514020",
     "exception": false,
     "start_time": "2020-12-21T02:53:07.037956",
     "status": "completed"
    },
    "tags": []
   },
   "outputs": [
    {
     "data": {
      "text/plain": [
       "(array([0, 1, 2, 3, 4]), <a list of 5 Text major ticklabel objects>)"
      ]
     },
     "execution_count": 18,
     "metadata": {},
     "output_type": "execute_result"
    },
    {
     "data": {
      "image/png": "[encoded data removed]",
      "text/plain": [
       "<Figure size 1079.88x504 with 1 Axes>"
      ]
     },
     "metadata": {
      "needs_background": "light"
     },
     "output_type": "display_data"
    }
   ],
   "source": [
    "sns.catplot( x = \"race\", hue = \"income\", kind = \"count\", data = train, height=7, aspect=2)\n",
    "plt.xticks(rotation=30)"
   ]
  },
  {
   "cell_type": "markdown",
   "metadata": {
    "papermill": {
     "duration": 0.099194,
     "end_time": "2020-12-21T02:53:07.718966",
     "exception": false,
     "start_time": "2020-12-21T02:53:07.619772",
     "status": "completed"
    },
    "tags": []
   },
   "source": [
    "Com esse gráfico, pode-se notar que a proporção de pessoas que recebem mais de 50K em relação em relação às pessoas que recebem menos de 50K é maior para a população branca e asiática, se comparada a população negra e a outras."
   ]
  },
  {
   "cell_type": "code",
   "execution_count": 19,
   "metadata": {
    "execution": {
     "iopub.execute_input": "2020-12-21T02:53:07.919480Z",
     "iopub.status.busy": "2020-12-21T02:53:07.918551Z",
     "iopub.status.idle": "2020-12-21T02:53:08.242626Z",
     "shell.execute_reply": "2020-12-21T02:53:08.243181Z"
    },
    "papermill": {
     "duration": 0.429372,
     "end_time": "2020-12-21T02:53:08.243337",
     "exception": false,
     "start_time": "2020-12-21T02:53:07.813965",
     "status": "completed"
    },
    "tags": []
   },
   "outputs": [
    {
     "data": {
      "text/plain": [
       "(array([0, 1]), <a list of 2 Text major ticklabel objects>)"
      ]
     },
     "execution_count": 19,
     "metadata": {},
     "output_type": "execute_result"
    },
    {
     "data": {
      "image/png": "[encoded data removed]",
      "text/plain": [
       "<Figure size 1079.88x504 with 1 Axes>"
      ]
     },
     "metadata": {
      "needs_background": "light"
     },
     "output_type": "display_data"
    }
   ],
   "source": [
    "sns.catplot( x = \"sex\", hue = \"income\", kind = \"count\", data = train, height=7, aspect=2)\n",
    "plt.xticks(rotation=30)"
   ]
  },
  {
   "cell_type": "markdown",
   "metadata": {
    "papermill": {
     "duration": 0.097079,
     "end_time": "2020-12-21T02:53:08.438673",
     "exception": false,
     "start_time": "2020-12-21T02:53:08.341594",
     "status": "completed"
    },
    "tags": []
   },
   "source": [
    "Nota-se uma desigualdade explícita entre a remuneração de homens e mulheres. Um homem possui maior chance de receber mais de 50K do que uma mulher."
   ]
  },
  {
   "cell_type": "code",
   "execution_count": 20,
   "metadata": {
    "execution": {
     "iopub.execute_input": "2020-12-21T02:53:08.638823Z",
     "iopub.status.busy": "2020-12-21T02:53:08.637979Z",
     "iopub.status.idle": "2020-12-21T02:53:09.013837Z",
     "shell.execute_reply": "2020-12-21T02:53:09.014344Z"
    },
    "papermill": {
     "duration": 0.478047,
     "end_time": "2020-12-21T02:53:09.014473",
     "exception": false,
     "start_time": "2020-12-21T02:53:08.536426",
     "status": "completed"
    },
    "tags": []
   },
   "outputs": [
    {
     "data": {
      "text/plain": [
       "(array([0, 1, 2, 3, 4, 5]), <a list of 6 Text major ticklabel objects>)"
      ]
     },
     "execution_count": 20,
     "metadata": {},
     "output_type": "execute_result"
    },
    {
     "data": {
      "image/png": "[encoded data removed]",
      "text/plain": [
       "<Figure size 1079.88x504 with 1 Axes>"
      ]
     },
     "metadata": {
      "needs_background": "light"
     },
     "output_type": "display_data"
    }
   ],
   "source": [
    "sns.catplot( x = \"relationship\", hue = \"income\", kind = \"count\", data = train, height=7, aspect=2)\n",
    "plt.xticks(rotation=30)"
   ]
  },
  {
   "cell_type": "markdown",
   "metadata": {
    "papermill": {
     "duration": 0.097569,
     "end_time": "2020-12-21T02:53:09.206847",
     "exception": false,
     "start_time": "2020-12-21T02:53:09.109278",
     "status": "completed"
    },
    "tags": []
   },
   "source": [
    "Pela informações contidas, provavelmente possui forte correlação com a coluna \"marital status\"."
   ]
  },
  {
   "cell_type": "code",
   "execution_count": 21,
   "metadata": {
    "execution": {
     "iopub.execute_input": "2020-12-21T02:53:09.433950Z",
     "iopub.status.busy": "2020-12-21T02:53:09.432238Z",
     "iopub.status.idle": "2020-12-21T02:53:09.449238Z",
     "shell.execute_reply": "2020-12-21T02:53:09.450579Z"
    },
    "papermill": {
     "duration": 0.146763,
     "end_time": "2020-12-21T02:53:09.450786",
     "exception": false,
     "start_time": "2020-12-21T02:53:09.304023",
     "status": "completed"
    },
    "tags": []
   },
   "outputs": [
    {
     "data": {
      "text/plain": [
       "United-States                 29169\n",
       "Mexico                          643\n",
       "Philippines                     198\n",
       "Germany                         137\n",
       "Canada                          121\n",
       "Puerto-Rico                     114\n",
       "El-Salvador                     106\n",
       "India                           100\n",
       "Cuba                             95\n",
       "England                          90\n",
       "Jamaica                          81\n",
       "South                            80\n",
       "China                            75\n",
       "Italy                            73\n",
       "Dominican-Republic               70\n",
       "Vietnam                          67\n",
       "Guatemala                        64\n",
       "Japan                            62\n",
       "Poland                           60\n",
       "Columbia                         59\n",
       "Taiwan                           51\n",
       "Haiti                            44\n",
       "Iran                             43\n",
       "Portugal                         37\n",
       "Nicaragua                        34\n",
       "Peru                             31\n",
       "France                           29\n",
       "Greece                           29\n",
       "Ecuador                          28\n",
       "Ireland                          24\n",
       "Hong                             20\n",
       "Trinadad&Tobago                  19\n",
       "Cambodia                         19\n",
       "Thailand                         18\n",
       "Laos                             18\n",
       "Yugoslavia                       16\n",
       "Outlying-US(Guam-USVI-etc)       14\n",
       "Hungary                          13\n",
       "Honduras                         13\n",
       "Scotland                         12\n",
       "Holand-Netherlands                1\n",
       "Name: native.country, dtype: int64"
      ]
     },
     "execution_count": 21,
     "metadata": {},
     "output_type": "execute_result"
    }
   ],
   "source": [
    "train[\"native.country\"].value_counts()"
   ]
  },
  {
   "cell_type": "markdown",
   "metadata": {
    "papermill": {
     "duration": 0.140165,
     "end_time": "2020-12-21T02:53:09.747994",
     "exception": false,
     "start_time": "2020-12-21T02:53:09.607829",
     "status": "completed"
    },
    "tags": []
   },
   "source": [
    "Nota-se uma grande concentração dos dados nos Estados Unidos. Como está extremamente desbalanceada, provavelmente tiraremos da análise preditiva."
   ]
  },
  {
   "cell_type": "markdown",
   "metadata": {
    "papermill": {
     "duration": 0.152992,
     "end_time": "2020-12-21T02:53:10.073737",
     "exception": false,
     "start_time": "2020-12-21T02:53:09.920745",
     "status": "completed"
    },
    "tags": []
   },
   "source": [
    "### 3. 2. Correlações"
   ]
  },
  {
   "cell_type": "markdown",
   "metadata": {
    "papermill": {
     "duration": 0.127345,
     "end_time": "2020-12-21T02:53:10.341025",
     "exception": false,
     "start_time": "2020-12-21T02:53:10.213680",
     "status": "completed"
    },
    "tags": []
   },
   "source": [
    "Nesse momento, analisaremos as relações presente entre os atributos.\n"
   ]
  },
  {
   "cell_type": "code",
   "execution_count": 22,
   "metadata": {
    "execution": {
     "iopub.execute_input": "2020-12-21T02:53:10.613827Z",
     "iopub.status.busy": "2020-12-21T02:53:10.611317Z",
     "iopub.status.idle": "2020-12-21T02:53:10.616901Z",
     "shell.execute_reply": "2020-12-21T02:53:10.618290Z"
    },
    "papermill": {
     "duration": 0.152283,
     "end_time": "2020-12-21T02:53:10.618444",
     "exception": false,
     "start_time": "2020-12-21T02:53:10.466161",
     "status": "completed"
    },
    "tags": []
   },
   "outputs": [],
   "source": [
    "train_corr = train.copy()"
   ]
  },
  {
   "cell_type": "code",
   "execution_count": 23,
   "metadata": {
    "execution": {
     "iopub.execute_input": "2020-12-21T02:53:10.851824Z",
     "iopub.status.busy": "2020-12-21T02:53:10.851005Z",
     "iopub.status.idle": "2020-12-21T02:53:10.895636Z",
     "shell.execute_reply": "2020-12-21T02:53:10.895094Z"
    },
    "papermill": {
     "duration": 0.150313,
     "end_time": "2020-12-21T02:53:10.895777",
     "exception": false,
     "start_time": "2020-12-21T02:53:10.745464",
     "status": "completed"
    },
    "tags": []
   },
   "outputs": [],
   "source": [
    "from sklearn.preprocessing import LabelEncoder\n",
    "\n",
    "# Instanciando o LabelEncoder\n",
    "le = LabelEncoder()\n",
    "\n",
    "# Modificando o nosso dataframe, transformando a variável de classe em 0s e 1s\n",
    "train_corr['income'] = le.fit_transform(train_corr['income'])"
   ]
  },
  {
   "cell_type": "code",
   "execution_count": 24,
   "metadata": {
    "execution": {
     "iopub.execute_input": "2020-12-21T02:53:11.099148Z",
     "iopub.status.busy": "2020-12-21T02:53:11.098535Z",
     "iopub.status.idle": "2020-12-21T02:53:11.518781Z",
     "shell.execute_reply": "2020-12-21T02:53:11.518268Z"
    },
    "papermill": {
     "duration": 0.523898,
     "end_time": "2020-12-21T02:53:11.518944",
     "exception": false,
     "start_time": "2020-12-21T02:53:10.995046",
     "status": "completed"
    },
    "tags": []
   },
   "outputs": [
    {
     "data": {
      "image/png": "[encoded data removed]",
      "text/plain": [
       "<Figure size 720x720 with 2 Axes>"
      ]
     },
     "metadata": {
      "needs_background": "light"
     },
     "output_type": "display_data"
    }
   ],
   "source": [
    "plt.figure(figsize=(10,10))\n",
    "\n",
    "sns.heatmap(train_corr.corr(), square = True, annot=True, vmin=-0.5, vmax=1, cmap='cool')\n",
    "plt.show()"
   ]
  },
  {
   "cell_type": "markdown",
   "metadata": {
    "papermill": {
     "duration": 0.108831,
     "end_time": "2020-12-21T02:53:11.738393",
     "exception": false,
     "start_time": "2020-12-21T02:53:11.629562",
     "status": "completed"
    },
    "tags": []
   },
   "source": [
    "Como a correlação entre a variável dependente \"income\" e a váriavel independente \"fnlwgt\" é baixíssima, podemos considerar que ambas não se relacionam para resolver o nosso problema."
   ]
  },
  {
   "cell_type": "markdown",
   "metadata": {
    "papermill": {
     "duration": 0.107083,
     "end_time": "2020-12-21T02:53:11.966496",
     "exception": false,
     "start_time": "2020-12-21T02:53:11.859413",
     "status": "completed"
    },
    "tags": []
   },
   "source": [
    "## 4. Limpeza de dados"
   ]
  },
  {
   "cell_type": "markdown",
   "metadata": {
    "papermill": {
     "duration": 0.097649,
     "end_time": "2020-12-21T02:53:12.164772",
     "exception": false,
     "start_time": "2020-12-21T02:53:12.067123",
     "status": "completed"
    },
    "tags": []
   },
   "source": [
    "### 4. 1 Removendo Dados"
   ]
  },
  {
   "cell_type": "markdown",
   "metadata": {
    "papermill": {
     "duration": 0.09986,
     "end_time": "2020-12-21T02:53:12.364784",
     "exception": false,
     "start_time": "2020-12-21T02:53:12.264924",
     "status": "completed"
    },
    "tags": []
   },
   "source": [
    "Iniciaremos o processo de limpeza de dados removendo as linhas duplicadas (ou *duplicatas*)."
   ]
  },
  {
   "cell_type": "code",
   "execution_count": 25,
   "metadata": {
    "execution": {
     "iopub.execute_input": "2020-12-21T02:53:12.571448Z",
     "iopub.status.busy": "2020-12-21T02:53:12.570515Z",
     "iopub.status.idle": "2020-12-21T02:53:12.619958Z",
     "shell.execute_reply": "2020-12-21T02:53:12.619370Z"
    },
    "papermill": {
     "duration": 0.156637,
     "end_time": "2020-12-21T02:53:12.620080",
     "exception": false,
     "start_time": "2020-12-21T02:53:12.463443",
     "status": "completed"
    },
    "tags": []
   },
   "outputs": [],
   "source": [
    "train.drop_duplicates(keep='first', inplace=True)"
   ]
  },
  {
   "cell_type": "markdown",
   "metadata": {
    "papermill": {
     "duration": 0.100441,
     "end_time": "2020-12-21T02:53:12.831053",
     "exception": false,
     "start_time": "2020-12-21T02:53:12.730612",
     "status": "completed"
    },
    "tags": []
   },
   "source": [
    "Em seguida, \"droparemos\" duas colunas que analisamos como desprezíveis: 'fnlwgt' pela baixa correlação e 'native.country' pelo excessivo desbalanceamento."
   ]
  },
  {
   "cell_type": "code",
   "execution_count": 26,
   "metadata": {
    "execution": {
     "iopub.execute_input": "2020-12-21T02:53:13.043986Z",
     "iopub.status.busy": "2020-12-21T02:53:13.041463Z",
     "iopub.status.idle": "2020-12-21T02:53:13.047701Z",
     "shell.execute_reply": "2020-12-21T02:53:13.047150Z"
    },
    "papermill": {
     "duration": 0.112726,
     "end_time": "2020-12-21T02:53:13.047799",
     "exception": false,
     "start_time": "2020-12-21T02:53:12.935073",
     "status": "completed"
    },
    "tags": []
   },
   "outputs": [],
   "source": [
    "train = train.drop(['fnlwgt', 'native.country','education'], axis = 1)"
   ]
  },
  {
   "cell_type": "code",
   "execution_count": 27,
   "metadata": {
    "execution": {
     "iopub.execute_input": "2020-12-21T02:53:13.270202Z",
     "iopub.status.busy": "2020-12-21T02:53:13.268907Z",
     "iopub.status.idle": "2020-12-21T02:53:13.272704Z",
     "shell.execute_reply": "2020-12-21T02:53:13.273228Z"
    },
    "papermill": {
     "duration": 0.124064,
     "end_time": "2020-12-21T02:53:13.273359",
     "exception": false,
     "start_time": "2020-12-21T02:53:13.149295",
     "status": "completed"
    },
    "tags": []
   },
   "outputs": [
    {
     "data": {
      "text/html": [
       "<div>\n",
       "<style scoped>\n",
       "    .dataframe tbody tr th:only-of-type {\n",
       "        vertical-align: middle;\n",
       "    }\n",
       "\n",
       "    .dataframe tbody tr th {\n",
       "        vertical-align: top;\n",
       "    }\n",
       "\n",
       "    .dataframe thead th {\n",
       "        text-align: right;\n",
       "    }\n",
       "</style>\n",
       "<table border=\"1\" class=\"dataframe\">\n",
       "  <thead>\n",
       "    <tr style=\"text-align: right;\">\n",
       "      <th></th>\n",
       "      <th>age</th>\n",
       "      <th>workclass</th>\n",
       "      <th>education.num</th>\n",
       "      <th>marital.status</th>\n",
       "      <th>occupation</th>\n",
       "      <th>relationship</th>\n",
       "      <th>race</th>\n",
       "      <th>sex</th>\n",
       "      <th>capital.gain</th>\n",
       "      <th>capital.loss</th>\n",
       "      <th>hours.per.week</th>\n",
       "      <th>income</th>\n",
       "    </tr>\n",
       "    <tr>\n",
       "      <th>Id</th>\n",
       "      <th></th>\n",
       "      <th></th>\n",
       "      <th></th>\n",
       "      <th></th>\n",
       "      <th></th>\n",
       "      <th></th>\n",
       "      <th></th>\n",
       "      <th></th>\n",
       "      <th></th>\n",
       "      <th></th>\n",
       "      <th></th>\n",
       "      <th></th>\n",
       "    </tr>\n",
       "  </thead>\n",
       "  <tbody>\n",
       "    <tr>\n",
       "      <th>16280</th>\n",
       "      <td>34</td>\n",
       "      <td>Private</td>\n",
       "      <td>10</td>\n",
       "      <td>Divorced</td>\n",
       "      <td>Exec-managerial</td>\n",
       "      <td>Own-child</td>\n",
       "      <td>White</td>\n",
       "      <td>Male</td>\n",
       "      <td>0</td>\n",
       "      <td>0</td>\n",
       "      <td>44</td>\n",
       "      <td>&lt;=50K</td>\n",
       "    </tr>\n",
       "    <tr>\n",
       "      <th>16281</th>\n",
       "      <td>58</td>\n",
       "      <td>Local-gov</td>\n",
       "      <td>6</td>\n",
       "      <td>Married-civ-spouse</td>\n",
       "      <td>Transport-moving</td>\n",
       "      <td>Husband</td>\n",
       "      <td>White</td>\n",
       "      <td>Male</td>\n",
       "      <td>0</td>\n",
       "      <td>0</td>\n",
       "      <td>40</td>\n",
       "      <td>&lt;=50K</td>\n",
       "    </tr>\n",
       "    <tr>\n",
       "      <th>16282</th>\n",
       "      <td>25</td>\n",
       "      <td>Private</td>\n",
       "      <td>10</td>\n",
       "      <td>Never-married</td>\n",
       "      <td>Machine-op-inspct</td>\n",
       "      <td>Not-in-family</td>\n",
       "      <td>White</td>\n",
       "      <td>Male</td>\n",
       "      <td>0</td>\n",
       "      <td>0</td>\n",
       "      <td>42</td>\n",
       "      <td>&lt;=50K</td>\n",
       "    </tr>\n",
       "    <tr>\n",
       "      <th>16283</th>\n",
       "      <td>24</td>\n",
       "      <td>Private</td>\n",
       "      <td>10</td>\n",
       "      <td>Divorced</td>\n",
       "      <td>Adm-clerical</td>\n",
       "      <td>Not-in-family</td>\n",
       "      <td>White</td>\n",
       "      <td>Female</td>\n",
       "      <td>0</td>\n",
       "      <td>0</td>\n",
       "      <td>40</td>\n",
       "      <td>&lt;=50K</td>\n",
       "    </tr>\n",
       "    <tr>\n",
       "      <th>16284</th>\n",
       "      <td>57</td>\n",
       "      <td>Self-emp-inc</td>\n",
       "      <td>9</td>\n",
       "      <td>Married-civ-spouse</td>\n",
       "      <td>Transport-moving</td>\n",
       "      <td>Husband</td>\n",
       "      <td>White</td>\n",
       "      <td>Male</td>\n",
       "      <td>5178</td>\n",
       "      <td>0</td>\n",
       "      <td>60</td>\n",
       "      <td>&gt;50K</td>\n",
       "    </tr>\n",
       "  </tbody>\n",
       "</table>\n",
       "</div>"
      ],
      "text/plain": [
       "       age     workclass  education.num      marital.status  \\\n",
       "Id                                                            \n",
       "16280   34       Private             10            Divorced   \n",
       "16281   58     Local-gov              6  Married-civ-spouse   \n",
       "16282   25       Private             10       Never-married   \n",
       "16283   24       Private             10            Divorced   \n",
       "16284   57  Self-emp-inc              9  Married-civ-spouse   \n",
       "\n",
       "              occupation   relationship   race     sex  capital.gain  \\\n",
       "Id                                                                     \n",
       "16280    Exec-managerial      Own-child  White    Male             0   \n",
       "16281   Transport-moving        Husband  White    Male             0   \n",
       "16282  Machine-op-inspct  Not-in-family  White    Male             0   \n",
       "16283       Adm-clerical  Not-in-family  White  Female             0   \n",
       "16284   Transport-moving        Husband  White    Male          5178   \n",
       "\n",
       "       capital.loss  hours.per.week income  \n",
       "Id                                          \n",
       "16280             0              44  <=50K  \n",
       "16281             0              40  <=50K  \n",
       "16282             0              42  <=50K  \n",
       "16283             0              40  <=50K  \n",
       "16284             0              60   >50K  "
      ]
     },
     "execution_count": 27,
     "metadata": {},
     "output_type": "execute_result"
    }
   ],
   "source": [
    "train.head()"
   ]
  },
  {
   "cell_type": "markdown",
   "metadata": {
    "papermill": {
     "duration": 0.099992,
     "end_time": "2020-12-21T02:53:13.474367",
     "exception": false,
     "start_time": "2020-12-21T02:53:13.374375",
     "status": "completed"
    },
    "tags": []
   },
   "source": [
    "### 4. 2. Divisão dos Dados"
   ]
  },
  {
   "cell_type": "markdown",
   "metadata": {
    "papermill": {
     "duration": 0.098588,
     "end_time": "2020-12-21T02:53:13.674305",
     "exception": false,
     "start_time": "2020-12-21T02:53:13.575717",
     "status": "completed"
    },
    "tags": []
   },
   "source": [
    "Agora, separaremos o nosso dataset em duas partes. A parte y conterá apenas a variável dependente \"income\", já a parte x, as variáveis dependentes"
   ]
  },
  {
   "cell_type": "code",
   "execution_count": 28,
   "metadata": {
    "execution": {
     "iopub.execute_input": "2020-12-21T02:53:13.883315Z",
     "iopub.status.busy": "2020-12-21T02:53:13.882408Z",
     "iopub.status.idle": "2020-12-21T02:53:13.885286Z",
     "shell.execute_reply": "2020-12-21T02:53:13.884766Z"
    },
    "papermill": {
     "duration": 0.109509,
     "end_time": "2020-12-21T02:53:13.885389",
     "exception": false,
     "start_time": "2020-12-21T02:53:13.775880",
     "status": "completed"
    },
    "tags": []
   },
   "outputs": [],
   "source": [
    "y_train = train.pop(\"income\")\n",
    "x_train = train"
   ]
  },
  {
   "cell_type": "code",
   "execution_count": 29,
   "metadata": {
    "execution": {
     "iopub.execute_input": "2020-12-21T02:53:14.103337Z",
     "iopub.status.busy": "2020-12-21T02:53:14.102334Z",
     "iopub.status.idle": "2020-12-21T02:53:14.106629Z",
     "shell.execute_reply": "2020-12-21T02:53:14.106103Z"
    },
    "papermill": {
     "duration": 0.120621,
     "end_time": "2020-12-21T02:53:14.106733",
     "exception": false,
     "start_time": "2020-12-21T02:53:13.986112",
     "status": "completed"
    },
    "tags": []
   },
   "outputs": [
    {
     "data": {
      "text/html": [
       "<div>\n",
       "<style scoped>\n",
       "    .dataframe tbody tr th:only-of-type {\n",
       "        vertical-align: middle;\n",
       "    }\n",
       "\n",
       "    .dataframe tbody tr th {\n",
       "        vertical-align: top;\n",
       "    }\n",
       "\n",
       "    .dataframe thead th {\n",
       "        text-align: right;\n",
       "    }\n",
       "</style>\n",
       "<table border=\"1\" class=\"dataframe\">\n",
       "  <thead>\n",
       "    <tr style=\"text-align: right;\">\n",
       "      <th></th>\n",
       "      <th>age</th>\n",
       "      <th>workclass</th>\n",
       "      <th>education.num</th>\n",
       "      <th>marital.status</th>\n",
       "      <th>occupation</th>\n",
       "      <th>relationship</th>\n",
       "      <th>race</th>\n",
       "      <th>sex</th>\n",
       "      <th>capital.gain</th>\n",
       "      <th>capital.loss</th>\n",
       "      <th>hours.per.week</th>\n",
       "    </tr>\n",
       "    <tr>\n",
       "      <th>Id</th>\n",
       "      <th></th>\n",
       "      <th></th>\n",
       "      <th></th>\n",
       "      <th></th>\n",
       "      <th></th>\n",
       "      <th></th>\n",
       "      <th></th>\n",
       "      <th></th>\n",
       "      <th></th>\n",
       "      <th></th>\n",
       "      <th></th>\n",
       "    </tr>\n",
       "  </thead>\n",
       "  <tbody>\n",
       "    <tr>\n",
       "      <th>16280</th>\n",
       "      <td>34</td>\n",
       "      <td>Private</td>\n",
       "      <td>10</td>\n",
       "      <td>Divorced</td>\n",
       "      <td>Exec-managerial</td>\n",
       "      <td>Own-child</td>\n",
       "      <td>White</td>\n",
       "      <td>Male</td>\n",
       "      <td>0</td>\n",
       "      <td>0</td>\n",
       "      <td>44</td>\n",
       "    </tr>\n",
       "    <tr>\n",
       "      <th>16281</th>\n",
       "      <td>58</td>\n",
       "      <td>Local-gov</td>\n",
       "      <td>6</td>\n",
       "      <td>Married-civ-spouse</td>\n",
       "      <td>Transport-moving</td>\n",
       "      <td>Husband</td>\n",
       "      <td>White</td>\n",
       "      <td>Male</td>\n",
       "      <td>0</td>\n",
       "      <td>0</td>\n",
       "      <td>40</td>\n",
       "    </tr>\n",
       "    <tr>\n",
       "      <th>16282</th>\n",
       "      <td>25</td>\n",
       "      <td>Private</td>\n",
       "      <td>10</td>\n",
       "      <td>Never-married</td>\n",
       "      <td>Machine-op-inspct</td>\n",
       "      <td>Not-in-family</td>\n",
       "      <td>White</td>\n",
       "      <td>Male</td>\n",
       "      <td>0</td>\n",
       "      <td>0</td>\n",
       "      <td>42</td>\n",
       "    </tr>\n",
       "    <tr>\n",
       "      <th>16283</th>\n",
       "      <td>24</td>\n",
       "      <td>Private</td>\n",
       "      <td>10</td>\n",
       "      <td>Divorced</td>\n",
       "      <td>Adm-clerical</td>\n",
       "      <td>Not-in-family</td>\n",
       "      <td>White</td>\n",
       "      <td>Female</td>\n",
       "      <td>0</td>\n",
       "      <td>0</td>\n",
       "      <td>40</td>\n",
       "    </tr>\n",
       "    <tr>\n",
       "      <th>16284</th>\n",
       "      <td>57</td>\n",
       "      <td>Self-emp-inc</td>\n",
       "      <td>9</td>\n",
       "      <td>Married-civ-spouse</td>\n",
       "      <td>Transport-moving</td>\n",
       "      <td>Husband</td>\n",
       "      <td>White</td>\n",
       "      <td>Male</td>\n",
       "      <td>5178</td>\n",
       "      <td>0</td>\n",
       "      <td>60</td>\n",
       "    </tr>\n",
       "  </tbody>\n",
       "</table>\n",
       "</div>"
      ],
      "text/plain": [
       "       age     workclass  education.num      marital.status  \\\n",
       "Id                                                            \n",
       "16280   34       Private             10            Divorced   \n",
       "16281   58     Local-gov              6  Married-civ-spouse   \n",
       "16282   25       Private             10       Never-married   \n",
       "16283   24       Private             10            Divorced   \n",
       "16284   57  Self-emp-inc              9  Married-civ-spouse   \n",
       "\n",
       "              occupation   relationship   race     sex  capital.gain  \\\n",
       "Id                                                                     \n",
       "16280    Exec-managerial      Own-child  White    Male             0   \n",
       "16281   Transport-moving        Husband  White    Male             0   \n",
       "16282  Machine-op-inspct  Not-in-family  White    Male             0   \n",
       "16283       Adm-clerical  Not-in-family  White  Female             0   \n",
       "16284   Transport-moving        Husband  White    Male          5178   \n",
       "\n",
       "       capital.loss  hours.per.week  \n",
       "Id                                   \n",
       "16280             0              44  \n",
       "16281             0              40  \n",
       "16282             0              42  \n",
       "16283             0              40  \n",
       "16284             0              60  "
      ]
     },
     "execution_count": 29,
     "metadata": {},
     "output_type": "execute_result"
    }
   ],
   "source": [
    "x_train.head()"
   ]
  },
  {
   "cell_type": "markdown",
   "metadata": {
    "papermill": {
     "duration": 0.101599,
     "end_time": "2020-12-21T02:53:14.310641",
     "exception": false,
     "start_time": "2020-12-21T02:53:14.209042",
     "status": "completed"
    },
    "tags": []
   },
   "source": [
    "Seccionaremos o nosso dataset em 3 partes: numérica, esparsa e categórica."
   ]
  },
  {
   "cell_type": "code",
   "execution_count": 30,
   "metadata": {
    "execution": {
     "iopub.execute_input": "2020-12-21T02:53:14.535966Z",
     "iopub.status.busy": "2020-12-21T02:53:14.534975Z",
     "iopub.status.idle": "2020-12-21T02:53:14.543332Z",
     "shell.execute_reply": "2020-12-21T02:53:14.542595Z"
    },
    "papermill": {
     "duration": 0.130111,
     "end_time": "2020-12-21T02:53:14.543496",
     "exception": false,
     "start_time": "2020-12-21T02:53:14.413385",
     "status": "completed"
    },
    "tags": []
   },
   "outputs": [
    {
     "name": "stdout",
     "output_type": "stream",
     "text": [
      "Colunas numéricas:  ['age', 'education.num', 'hours.per.week']\n",
      "Colunas esparsas:  ['capital.gain', 'capital.loss']\n",
      "Colunas categóricas:  ['workclass', 'marital.status', 'occupation', 'relationship', 'race', 'sex']\n"
     ]
    }
   ],
   "source": [
    "numerical_cols = list(x_train.select_dtypes(include=[np.number]).columns.values)\n",
    "\n",
    "numerical_cols.remove('capital.gain')\n",
    "numerical_cols.remove('capital.loss')\n",
    "\n",
    "sparse_cols = ['capital.gain','capital.loss']\n",
    "\n",
    "categorical_cols = list(x_train.select_dtypes(exclude=[np.number]).columns.values)\n",
    "\n",
    "print(\"Colunas numéricas: \", numerical_cols)\n",
    "print(\"Colunas esparsas: \", sparse_cols)\n",
    "print(\"Colunas categóricas: \", categorical_cols)"
   ]
  },
  {
   "cell_type": "markdown",
   "metadata": {
    "papermill": {
     "duration": 0.101206,
     "end_time": "2020-12-21T02:53:14.747318",
     "exception": false,
     "start_time": "2020-12-21T02:53:14.646112",
     "status": "completed"
    },
    "tags": []
   },
   "source": [
    "### 4. 3 Dados Faltantes\n"
   ]
  },
  {
   "cell_type": "markdown",
   "metadata": {
    "papermill": {
     "duration": 0.103467,
     "end_time": "2020-12-21T02:53:14.953083",
     "exception": false,
     "start_time": "2020-12-21T02:53:14.849616",
     "status": "completed"
    },
    "tags": []
   },
   "source": [
    "Para os dados faltantes, utilizaremos a classe `SimpleImputer` do scikit-learn. A estratégia adotada pelo método será substituir dados faltantes pelo valor de maior ocorrencia na coluna, ou seja, a moda."
   ]
  },
  {
   "cell_type": "code",
   "execution_count": 31,
   "metadata": {
    "execution": {
     "iopub.execute_input": "2020-12-21T02:53:15.161445Z",
     "iopub.status.busy": "2020-12-21T02:53:15.160628Z",
     "iopub.status.idle": "2020-12-21T02:53:15.340129Z",
     "shell.execute_reply": "2020-12-21T02:53:15.339521Z"
    },
    "papermill": {
     "duration": 0.28649,
     "end_time": "2020-12-21T02:53:15.340247",
     "exception": false,
     "start_time": "2020-12-21T02:53:15.053757",
     "status": "completed"
    },
    "tags": []
   },
   "outputs": [],
   "source": [
    "from sklearn.impute import SimpleImputer\n",
    "\n",
    "simple_imputer = SimpleImputer(strategy='most_frequent')"
   ]
  },
  {
   "cell_type": "markdown",
   "metadata": {
    "papermill": {
     "duration": 0.104541,
     "end_time": "2020-12-21T02:53:15.548847",
     "exception": false,
     "start_time": "2020-12-21T02:53:15.444306",
     "status": "completed"
    },
    "tags": []
   },
   "source": [
    "#### 4. 3. 1. Dados Categóricos"
   ]
  },
  {
   "cell_type": "markdown",
   "metadata": {
    "papermill": {
     "duration": 0.10073,
     "end_time": "2020-12-21T02:53:15.749745",
     "exception": false,
     "start_time": "2020-12-21T02:53:15.649015",
     "status": "completed"
    },
    "tags": []
   },
   "source": [
    "Para transformar os dado categóricos em valores numéricos, utilizaremos o `OneHotEncoder` e, assim, nosso modelo de predição poderá interpretar corretamente esses valores."
   ]
  },
  {
   "cell_type": "code",
   "execution_count": 32,
   "metadata": {
    "execution": {
     "iopub.execute_input": "2020-12-21T02:53:15.960519Z",
     "iopub.status.busy": "2020-12-21T02:53:15.959645Z",
     "iopub.status.idle": "2020-12-21T02:53:15.962168Z",
     "shell.execute_reply": "2020-12-21T02:53:15.962607Z"
    },
    "papermill": {
     "duration": 0.109103,
     "end_time": "2020-12-21T02:53:15.962730",
     "exception": false,
     "start_time": "2020-12-21T02:53:15.853627",
     "status": "completed"
    },
    "tags": []
   },
   "outputs": [],
   "source": [
    "from sklearn.preprocessing import OneHotEncoder\n",
    "\n",
    "one_hot = OneHotEncoder(sparse=False)"
   ]
  },
  {
   "cell_type": "markdown",
   "metadata": {
    "papermill": {
     "duration": 0.101296,
     "end_time": "2020-12-21T02:53:16.167510",
     "exception": false,
     "start_time": "2020-12-21T02:53:16.066214",
     "status": "completed"
    },
    "tags": []
   },
   "source": [
    "Criaremos uma sequência de comandos (pipeline) para preencher os dados faltantes e tranformar os valores categórigo em numéricos.\n"
   ]
  },
  {
   "cell_type": "code",
   "execution_count": 33,
   "metadata": {
    "execution": {
     "iopub.execute_input": "2020-12-21T02:53:16.376492Z",
     "iopub.status.busy": "2020-12-21T02:53:16.375722Z",
     "iopub.status.idle": "2020-12-21T02:53:16.381269Z",
     "shell.execute_reply": "2020-12-21T02:53:16.380678Z"
    },
    "papermill": {
     "duration": 0.113328,
     "end_time": "2020-12-21T02:53:16.381368",
     "exception": false,
     "start_time": "2020-12-21T02:53:16.268040",
     "status": "completed"
    },
    "tags": []
   },
   "outputs": [],
   "source": [
    "from sklearn.pipeline import Pipeline"
   ]
  },
  {
   "cell_type": "code",
   "execution_count": 34,
   "metadata": {
    "execution": {
     "iopub.execute_input": "2020-12-21T02:53:16.604514Z",
     "iopub.status.busy": "2020-12-21T02:53:16.603587Z",
     "iopub.status.idle": "2020-12-21T02:53:16.605882Z",
     "shell.execute_reply": "2020-12-21T02:53:16.606397Z"
    },
    "papermill": {
     "duration": 0.113052,
     "end_time": "2020-12-21T02:53:16.606513",
     "exception": false,
     "start_time": "2020-12-21T02:53:16.493461",
     "status": "completed"
    },
    "tags": []
   },
   "outputs": [],
   "source": [
    "categorical_pipeline = Pipeline(steps = [\n",
    "    ('imputer', SimpleImputer(strategy = 'most_frequent')),\n",
    "    ('onehot', OneHotEncoder(drop='if_binary'))])"
   ]
  },
  {
   "cell_type": "markdown",
   "metadata": {
    "papermill": {
     "duration": 0.103298,
     "end_time": "2020-12-21T02:53:16.812365",
     "exception": false,
     "start_time": "2020-12-21T02:53:16.709067",
     "status": "completed"
    },
    "tags": []
   },
   "source": [
    "#### 4. 3. 2. Dados Numéricos e esparsos"
   ]
  },
  {
   "cell_type": "markdown",
   "metadata": {
    "papermill": {
     "duration": 0.230404,
     "end_time": "2020-12-21T02:53:17.146522",
     "exception": false,
     "start_time": "2020-12-21T02:53:16.916118",
     "status": "completed"
    },
    "tags": []
   },
   "source": [
    "Para ambas as categorias, normalizaremos seus valores. Para os dados numéricos, utilizaremos o método `StandardScaler`, para os dados esparsos, `RobustScaler()`"
   ]
  },
  {
   "cell_type": "code",
   "execution_count": 35,
   "metadata": {
    "execution": {
     "iopub.execute_input": "2020-12-21T02:53:17.466408Z",
     "iopub.status.busy": "2020-12-21T02:53:17.463314Z",
     "iopub.status.idle": "2020-12-21T02:53:17.467387Z",
     "shell.execute_reply": "2020-12-21T02:53:17.468258Z"
    },
    "papermill": {
     "duration": 0.164786,
     "end_time": "2020-12-21T02:53:17.468435",
     "exception": false,
     "start_time": "2020-12-21T02:53:17.303649",
     "status": "completed"
    },
    "tags": []
   },
   "outputs": [],
   "source": [
    "from sklearn.preprocessing import StandardScaler\n",
    "\n",
    "numerical_pipeline = Pipeline(steps = [\n",
    "    ('scaler', StandardScaler())\n",
    "])"
   ]
  },
  {
   "cell_type": "code",
   "execution_count": 36,
   "metadata": {
    "execution": {
     "iopub.execute_input": "2020-12-21T02:53:17.722910Z",
     "iopub.status.busy": "2020-12-21T02:53:17.721999Z",
     "iopub.status.idle": "2020-12-21T02:53:17.724931Z",
     "shell.execute_reply": "2020-12-21T02:53:17.724350Z"
    },
    "papermill": {
     "duration": 0.11014,
     "end_time": "2020-12-21T02:53:17.725028",
     "exception": false,
     "start_time": "2020-12-21T02:53:17.614888",
     "status": "completed"
    },
    "tags": []
   },
   "outputs": [],
   "source": [
    "from sklearn.preprocessing import RobustScaler\n",
    "\n",
    "sparse_pipeline = Pipeline(steps = [\n",
    "    ('scaler', RobustScaler())\n",
    "])"
   ]
  },
  {
   "cell_type": "markdown",
   "metadata": {
    "papermill": {
     "duration": 0.102922,
     "end_time": "2020-12-21T02:53:17.931029",
     "exception": false,
     "start_time": "2020-12-21T02:53:17.828107",
     "status": "completed"
    },
    "tags": []
   },
   "source": [
    "Por fim, utilizaremos o ColumnTransformer() para aplicar as pipelines as suas respectivas colunas do dataset."
   ]
  },
  {
   "cell_type": "code",
   "execution_count": 37,
   "metadata": {
    "execution": {
     "iopub.execute_input": "2020-12-21T02:53:18.163999Z",
     "iopub.status.busy": "2020-12-21T02:53:18.163172Z",
     "iopub.status.idle": "2020-12-21T02:53:18.171709Z",
     "shell.execute_reply": "2020-12-21T02:53:18.171167Z"
    },
    "papermill": {
     "duration": 0.116688,
     "end_time": "2020-12-21T02:53:18.171811",
     "exception": false,
     "start_time": "2020-12-21T02:53:18.055123",
     "status": "completed"
    },
    "tags": []
   },
   "outputs": [],
   "source": [
    "from sklearn.compose import ColumnTransformer\n",
    "\n",
    "# Cria o nosso Pré-Processador\n",
    "\n",
    "# Cada pipeline está associada a suas respectivas colunas no dataset\n",
    "preprocessor = ColumnTransformer(transformers = [\n",
    "    ('num', numerical_pipeline, numerical_cols),\n",
    "    ('spr', sparse_pipeline, sparse_cols),\n",
    "    ('cat', categorical_pipeline, categorical_cols)\n",
    "])"
   ]
  },
  {
   "cell_type": "code",
   "execution_count": 38,
   "metadata": {
    "execution": {
     "iopub.execute_input": "2020-12-21T02:53:18.391252Z",
     "iopub.status.busy": "2020-12-21T02:53:18.390257Z",
     "iopub.status.idle": "2020-12-21T02:53:19.735999Z",
     "shell.execute_reply": "2020-12-21T02:53:19.735220Z"
    },
    "papermill": {
     "duration": 1.460674,
     "end_time": "2020-12-21T02:53:19.736243",
     "exception": false,
     "start_time": "2020-12-21T02:53:18.275569",
     "status": "completed"
    },
    "tags": []
   },
   "outputs": [],
   "source": [
    "x_train = preprocessor.fit_transform(x_train)"
   ]
  },
  {
   "cell_type": "markdown",
   "metadata": {
    "papermill": {
     "duration": 0.102807,
     "end_time": "2020-12-21T02:53:19.945169",
     "exception": false,
     "start_time": "2020-12-21T02:53:19.842362",
     "status": "completed"
    },
    "tags": []
   },
   "source": [
    "Neste caso, aproveitaremos para pré-processar os dados de teste que serão posteriormente utilizados."
   ]
  },
  {
   "cell_type": "code",
   "execution_count": 39,
   "metadata": {
    "execution": {
     "iopub.execute_input": "2020-12-21T02:53:20.186955Z",
     "iopub.status.busy": "2020-12-21T02:53:20.186329Z",
     "iopub.status.idle": "2020-12-21T02:53:20.340525Z",
     "shell.execute_reply": "2020-12-21T02:53:20.339657Z"
    },
    "papermill": {
     "duration": 0.270504,
     "end_time": "2020-12-21T02:53:20.340651",
     "exception": false,
     "start_time": "2020-12-21T02:53:20.070147",
     "status": "completed"
    },
    "tags": []
   },
   "outputs": [],
   "source": [
    "test_data = pd.read_csv('../input/adult-pmr3508/test_data.csv',index_col=['Id'], na_values=\"?\")\n",
    "\n",
    "x_test = test_data.drop(['fnlwgt','education','native.country'], axis=1)\n",
    "\n",
    "x_test = preprocessor.transform(x_test)"
   ]
  },
  {
   "cell_type": "markdown",
   "metadata": {
    "papermill": {
     "duration": 0.103799,
     "end_time": "2020-12-21T02:53:20.547521",
     "exception": false,
     "start_time": "2020-12-21T02:53:20.443722",
     "status": "completed"
    },
    "tags": []
   },
   "source": [
    "Para viabilizar a aplicação dos diferentes métodos de classificação, separaremos o nosso dataset em dois tipos de dados: de treino e de validação."
   ]
  },
  {
   "cell_type": "code",
   "execution_count": 40,
   "metadata": {
    "execution": {
     "iopub.execute_input": "2020-12-21T02:53:20.759330Z",
     "iopub.status.busy": "2020-12-21T02:53:20.758459Z",
     "iopub.status.idle": "2020-12-21T02:53:20.766366Z",
     "shell.execute_reply": "2020-12-21T02:53:20.765834Z"
    },
    "papermill": {
     "duration": 0.11753,
     "end_time": "2020-12-21T02:53:20.766467",
     "exception": false,
     "start_time": "2020-12-21T02:53:20.648937",
     "status": "completed"
    },
    "tags": []
   },
   "outputs": [],
   "source": [
    "from sklearn.model_selection import train_test_split\n",
    "x_train, x_valid, y_train, y_valid = train_test_split(x_train, y_train, test_size=0.25, random_state=42)"
   ]
  },
  {
   "cell_type": "markdown",
   "metadata": {
    "papermill": {
     "duration": 0.10281,
     "end_time": "2020-12-21T02:53:20.975793",
     "exception": false,
     "start_time": "2020-12-21T02:53:20.872983",
     "status": "completed"
    },
    "tags": []
   },
   "source": [
    "## 5. Modelos Preditivos"
   ]
  },
  {
   "cell_type": "markdown",
   "metadata": {
    "papermill": {
     "duration": 0.16888,
     "end_time": "2020-12-21T02:53:21.280555",
     "exception": false,
     "start_time": "2020-12-21T02:53:21.111675",
     "status": "completed"
    },
    "tags": []
   },
   "source": [
    "Como fator de comparação, manteremos o modelo preditivo elaborado com o classificador KNN e, em seguida, utilizaremos outros 4 modelos de classificação para explorar os diferentes métodos aprendidos ao longo do curso."
   ]
  },
  {
   "cell_type": "markdown",
   "metadata": {
    "papermill": {
     "duration": 0.156633,
     "end_time": "2020-12-21T02:53:21.603813",
     "exception": false,
     "start_time": "2020-12-21T02:53:21.447180",
     "status": "completed"
    },
    "tags": []
   },
   "source": [
    "### 5. 1. KNN\n"
   ]
  },
  {
   "cell_type": "markdown",
   "metadata": {
    "papermill": {
     "duration": 0.169434,
     "end_time": "2020-12-21T02:53:21.942542",
     "exception": false,
     "start_time": "2020-12-21T02:53:21.773108",
     "status": "completed"
    },
    "tags": []
   },
   "source": [
    "Nessa etapa, utilizaremos o classificador KNN para lidar com nossos dados tratados. Partiremos de um valor de vizinhos `n_neighbors=10`. Em seguida, aplicaremos o método de validação cruzada para definir a acurácia do nosso classificador. "
   ]
  },
  {
   "cell_type": "code",
   "execution_count": 41,
   "metadata": {
    "execution": {
     "iopub.execute_input": "2020-12-21T02:53:22.286008Z",
     "iopub.status.busy": "2020-12-21T02:53:22.285107Z",
     "iopub.status.idle": "2020-12-21T02:53:52.437913Z",
     "shell.execute_reply": "2020-12-21T02:53:52.438492Z"
    },
    "papermill": {
     "duration": 30.329266,
     "end_time": "2020-12-21T02:53:52.438628",
     "exception": false,
     "start_time": "2020-12-21T02:53:22.109362",
     "status": "completed"
    },
    "tags": []
   },
   "outputs": [
    {
     "name": "stdout",
     "output_type": "stream",
     "text": [
      "Acurácia com cross validation: 0.8630030966511162\n"
     ]
    }
   ],
   "source": [
    "from sklearn.neighbors import KNeighborsClassifier\n",
    "\n",
    "from sklearn.model_selection import cross_val_score\n",
    "\n",
    "knn = KNeighborsClassifier(n_neighbors=10)\n",
    "\n",
    "score = cross_val_score(knn, x_train, y_train, cv = 5, scoring=\"accuracy\")\n",
    "print(\"Acurácia com cross validation:\", score.mean())"
   ]
  },
  {
   "cell_type": "markdown",
   "metadata": {
    "papermill": {
     "duration": 0.103238,
     "end_time": "2020-12-21T02:53:52.648355",
     "exception": false,
     "start_time": "2020-12-21T02:53:52.545117",
     "status": "completed"
    },
    "tags": []
   },
   "source": [
    "Com 10 vizinhos, alcançamos uma acurácia de aproximadamente 86.3%. No entanto, não sabemos se este é o melhor número de vizinhos para o problema, para isso, vasculharemos alguns números para tirarmos uma conclusão mais concreta."
   ]
  },
  {
   "cell_type": "code",
   "execution_count": 42,
   "metadata": {
    "execution": {
     "iopub.execute_input": "2020-12-21T02:53:52.912729Z",
     "iopub.status.busy": "2020-12-21T02:53:52.881604Z",
     "iopub.status.idle": "2020-12-21T02:55:24.526070Z",
     "shell.execute_reply": "2020-12-21T02:55:24.526909Z"
    },
    "papermill": {
     "duration": 91.776489,
     "end_time": "2020-12-21T02:55:24.527123",
     "exception": false,
     "start_time": "2020-12-21T02:53:52.750634",
     "status": "completed"
    },
    "tags": []
   },
   "outputs": [
    {
     "name": "stdout",
     "output_type": "stream",
     "text": [
      "Melhor hiperparâmetro:  15\n",
      "Melhor acurácia:  0.8662404573102126\n"
     ]
    }
   ],
   "source": [
    "# Quantidades de vizinhos a serem testadas\n",
    "neighbors = [15, 20, 25]\n",
    "\n",
    "# Dicionário para guardar as pontuações de cada hiperparâmetro\n",
    "neighbors_scores = {}\n",
    "\n",
    "for n_neighbors in neighbors:\n",
    "    # Calcula a média de acurácia de cada classificador\n",
    "    score = cross_val_score(KNeighborsClassifier(n_neighbors=n_neighbors), x_train, y_train, cv = 5, scoring=\"accuracy\").mean()\n",
    "    \n",
    "    # Guarda essa acurácia\n",
    "    neighbors_scores[n_neighbors] = score\n",
    "\n",
    "# Obtém a quantidade de vizinhos com o melhor desempenho\n",
    "best_n = max(neighbors_scores, key=neighbors_scores.get)\n",
    "\n",
    "print(\"Melhor hiperparâmetro: \", best_n)\n",
    "print(\"Melhor acurácia: \", neighbors_scores[best_n])"
   ]
  },
  {
   "cell_type": "markdown",
   "metadata": {
    "papermill": {
     "duration": 0.103452,
     "end_time": "2020-12-21T02:55:24.736620",
     "exception": false,
     "start_time": "2020-12-21T02:55:24.633168",
     "status": "completed"
    },
    "tags": []
   },
   "source": [
    "### 5. 2. Random Forest Classifier"
   ]
  },
  {
   "cell_type": "markdown",
   "metadata": {
    "papermill": {
     "duration": 0.103414,
     "end_time": "2020-12-21T02:55:24.943601",
     "exception": false,
     "start_time": "2020-12-21T02:55:24.840187",
     "status": "completed"
    },
    "tags": []
   },
   "source": [
    "Iniciaremos o processo de classificação utilizando o modelo de classificação Random Forest implementado pelo pacote scikit-learn."
   ]
  },
  {
   "cell_type": "code",
   "execution_count": 43,
   "metadata": {
    "execution": {
     "iopub.execute_input": "2020-12-21T02:55:25.158586Z",
     "iopub.status.busy": "2020-12-21T02:55:25.157695Z",
     "iopub.status.idle": "2020-12-21T02:55:25.211478Z",
     "shell.execute_reply": "2020-12-21T02:55:25.210850Z"
    },
    "papermill": {
     "duration": 0.164231,
     "end_time": "2020-12-21T02:55:25.211584",
     "exception": false,
     "start_time": "2020-12-21T02:55:25.047353",
     "status": "completed"
    },
    "tags": []
   },
   "outputs": [],
   "source": [
    "from sklearn.ensemble import RandomForestClassifier\n",
    "\n",
    "# Instancia nosso classificador\n",
    "rfc = RandomForestClassifier(random_state=42)"
   ]
  },
  {
   "cell_type": "markdown",
   "metadata": {
    "papermill": {
     "duration": 0.101253,
     "end_time": "2020-12-21T02:55:25.417945",
     "exception": false,
     "start_time": "2020-12-21T02:55:25.316692",
     "status": "completed"
    },
    "tags": []
   },
   "source": [
    "Para obter os hiperparâmetros ideais para a maximização dos resultados, utilizaremos o código a seguir:"
   ]
  },
  {
   "cell_type": "code",
   "execution_count": 44,
   "metadata": {
    "execution": {
     "iopub.execute_input": "2020-12-21T02:55:25.640729Z",
     "iopub.status.busy": "2020-12-21T02:55:25.640111Z",
     "iopub.status.idle": "2020-12-21T03:36:59.078942Z",
     "shell.execute_reply": "2020-12-21T03:36:59.079806Z"
    },
    "papermill": {
     "duration": 2493.556321,
     "end_time": "2020-12-21T03:36:59.080035",
     "exception": false,
     "start_time": "2020-12-21T02:55:25.523714",
     "status": "completed"
    },
    "tags": []
   },
   "outputs": [
    {
     "name": "stderr",
     "output_type": "stream",
     "text": [
      "/opt/conda/lib/python3.7/site-packages/joblib/externals/loky/process_executor.py:706: UserWarning: A worker stopped while some jobs were given to the executor. This can be caused by a too short worker timeout or by a memory leak.\n",
      "  \"timeout or by a memory leak.\", UserWarning\n",
      "/opt/conda/lib/python3.7/site-packages/joblib/externals/loky/process_executor.py:706: UserWarning: A worker stopped while some jobs were given to the executor. This can be caused by a too short worker timeout or by a memory leak.\n",
      "  \"timeout or by a memory leak.\", UserWarning\n"
     ]
    },
    {
     "name": "stdout",
     "output_type": "stream",
     "text": [
      "41min 33s ± 0 ns per loop (mean ± std. dev. of 1 run, 1 loop each)\n",
      "Melhores hiperparâmetros: OrderedDict([('criterion', 'gini'), ('max_depth', 18), ('n_estimators', 500)])\n",
      "Desempenho do melhor modelo: 0.86423\n"
     ]
    }
   ],
   "source": [
    "from skopt import BayesSearchCV\n",
    "\n",
    "from skopt.space import Integer, Real\n",
    "\n",
    "# Cria o Bayes Search:\n",
    "rfc_search_cv = BayesSearchCV(estimator = rfc,\n",
    "                              search_spaces = {'n_estimators': Integer(100, 500),\n",
    "                                               'criterion': ['gini', 'entropy'],\n",
    "                                               'max_depth': Integer(1, 50),},\n",
    "                              cv = 5,\n",
    "                              n_iter = 20, n_jobs=-1, random_state=42)\n",
    "\n",
    "# Realizando a otimização por BayesSearch:\n",
    "%timeit -n 1 -r 1 rfc_search_cv.fit(x_train, y_train)\n",
    "\n",
    "print('Melhores hiperparâmetros: {}'.format(rfc_search_cv.best_params_))\n",
    "print('Desempenho do melhor modelo: {}'.format(round(rfc_search_cv.best_score_,5)))"
   ]
  },
  {
   "cell_type": "markdown",
   "metadata": {
    "papermill": {
     "duration": 0.130932,
     "end_time": "2020-12-21T03:36:59.363301",
     "exception": false,
     "start_time": "2020-12-21T03:36:59.232369",
     "status": "completed"
    },
    "tags": []
   },
   "source": [
    "### 5. 3. Support Vector Classifier\n"
   ]
  },
  {
   "cell_type": "markdown",
   "metadata": {
    "papermill": {
     "duration": 0.169663,
     "end_time": "2020-12-21T03:36:59.676018",
     "exception": false,
     "start_time": "2020-12-21T03:36:59.506355",
     "status": "completed"
    },
    "tags": []
   },
   "source": [
    "Outro método que será utilizado é o SVM, implementado pelo scikit-learn."
   ]
  },
  {
   "cell_type": "code",
   "execution_count": 45,
   "metadata": {
    "execution": {
     "iopub.execute_input": "2020-12-21T03:36:59.916201Z",
     "iopub.status.busy": "2020-12-21T03:36:59.915167Z",
     "iopub.status.idle": "2020-12-21T03:36:59.917231Z",
     "shell.execute_reply": "2020-12-21T03:36:59.917851Z"
    },
    "papermill": {
     "duration": 0.120367,
     "end_time": "2020-12-21T03:36:59.918003",
     "exception": false,
     "start_time": "2020-12-21T03:36:59.797636",
     "status": "completed"
    },
    "tags": []
   },
   "outputs": [],
   "source": [
    "from sklearn.svm import SVC\n",
    "\n",
    "svc = SVC(random_state=42, probability=True)"
   ]
  },
  {
   "cell_type": "markdown",
   "metadata": {
    "papermill": {
     "duration": 0.108524,
     "end_time": "2020-12-21T03:37:00.137820",
     "exception": false,
     "start_time": "2020-12-21T03:37:00.029296",
     "status": "completed"
    },
    "tags": []
   },
   "source": [
    "Para hiperparâmetros padrões, observamos o seguinte resultado:"
   ]
  },
  {
   "cell_type": "code",
   "execution_count": 46,
   "metadata": {
    "execution": {
     "iopub.execute_input": "2020-12-21T03:37:00.414719Z",
     "iopub.status.busy": "2020-12-21T03:37:00.381290Z",
     "iopub.status.idle": "2020-12-21T03:41:22.136813Z",
     "shell.execute_reply": "2020-12-21T03:41:22.137644Z"
    },
    "papermill": {
     "duration": 261.893525,
     "end_time": "2020-12-21T03:41:22.137830",
     "exception": false,
     "start_time": "2020-12-21T03:37:00.244305",
     "status": "completed"
    },
    "tags": []
   },
   "outputs": [
    {
     "name": "stdout",
     "output_type": "stream",
     "text": [
      "Acurácia com cross validation: 0.8012457108616969\n"
     ]
    }
   ],
   "source": [
    "from sklearn.model_selection import cross_val_score\n",
    "\n",
    "score = cross_val_score(svc, x_train, y_train, cv = 4, scoring=\"accuracy\")\n",
    "print(\"Acurácia com cross validation:\", score.mean())"
   ]
  },
  {
   "cell_type": "markdown",
   "metadata": {
    "papermill": {
     "duration": 0.160118,
     "end_time": "2020-12-21T03:41:22.457909",
     "exception": false,
     "start_time": "2020-12-21T03:41:22.297791",
     "status": "completed"
    },
    "tags": []
   },
   "source": [
    "A fim de otimizar o algorítmo, buscamos os hiperparâmetros que otimizam a efetividade."
   ]
  },
  {
   "cell_type": "code",
   "execution_count": 47,
   "metadata": {
    "execution": {
     "iopub.execute_input": "2020-12-21T03:41:22.828836Z",
     "iopub.status.busy": "2020-12-21T03:41:22.797437Z",
     "iopub.status.idle": "2020-12-21T03:55:26.802279Z",
     "shell.execute_reply": "2020-12-21T03:55:26.803261Z"
    },
    "papermill": {
     "duration": 844.190659,
     "end_time": "2020-12-21T03:55:26.803446",
     "exception": false,
     "start_time": "2020-12-21T03:41:22.612787",
     "status": "completed"
    },
    "tags": []
   },
   "outputs": [
    {
     "name": "stdout",
     "output_type": "stream",
     "text": [
      "14min 3s ± 0 ns per loop (mean ± std. dev. of 1 run, 1 loop each)\n",
      "Melhores hiperparâmetros: OrderedDict([('C', 16.249795807263695), ('gamma', 'auto')])\n",
      "Desempenho do melhor modelo: 0.87054\n"
     ]
    }
   ],
   "source": [
    "# Importa o Bayes Search:\n",
    "from skopt import BayesSearchCV\n",
    "\n",
    "\n",
    "\n",
    "# Cria o Bayes Search:\n",
    "svc_search_cv = BayesSearchCV(estimator = svc,\n",
    "                              search_spaces = {'C': Real(1e-2, 20),\n",
    "                                               'gamma': ['scale', 'auto'],},\n",
    "                              cv = 2,\n",
    "                              n_iter = 15, n_jobs=-1, random_state=42)\n",
    "\n",
    "# Realizando a otimização por BayesSearch:\n",
    "%timeit -n 1 -r 1 svc_search_cv.fit(x_train, y_train)\n",
    "\n",
    "print('Melhores hiperparâmetros: {}'.format(svc_search_cv.best_params_))\n",
    "print('Desempenho do melhor modelo: {}'.format(round(svc_search_cv.best_score_,5)))"
   ]
  },
  {
   "cell_type": "markdown",
   "metadata": {
    "papermill": {
     "duration": 0.107666,
     "end_time": "2020-12-21T03:55:27.022299",
     "exception": false,
     "start_time": "2020-12-21T03:55:26.914633",
     "status": "completed"
    },
    "tags": []
   },
   "source": [
    "### 5. 4. XGBoost"
   ]
  },
  {
   "cell_type": "markdown",
   "metadata": {
    "papermill": {
     "duration": 0.107517,
     "end_time": "2020-12-21T03:55:27.239704",
     "exception": false,
     "start_time": "2020-12-21T03:55:27.132187",
     "status": "completed"
    },
    "tags": []
   },
   "source": [
    "O XGBoost consiste em um método de boosting (aprendido ao longo do curso), cujos resultados de classificação tendem a ser bem efetivos. Para iniciar o processo, utilizaremos a classe XGBClassifier da biblioteca xgboost."
   ]
  },
  {
   "cell_type": "code",
   "execution_count": 48,
   "metadata": {
    "execution": {
     "iopub.execute_input": "2020-12-21T03:55:27.463521Z",
     "iopub.status.busy": "2020-12-21T03:55:27.462886Z",
     "iopub.status.idle": "2020-12-21T03:55:28.300403Z",
     "shell.execute_reply": "2020-12-21T03:55:28.299456Z"
    },
    "papermill": {
     "duration": 0.952681,
     "end_time": "2020-12-21T03:55:28.300537",
     "exception": false,
     "start_time": "2020-12-21T03:55:27.347856",
     "status": "completed"
    },
    "tags": []
   },
   "outputs": [],
   "source": [
    "from xgboost import XGBClassifier\n",
    "\n",
    "# Instancia nosso classificador\n",
    "xgb = XGBClassifier(random_state=42)"
   ]
  },
  {
   "cell_type": "markdown",
   "metadata": {
    "papermill": {
     "duration": 0.107036,
     "end_time": "2020-12-21T03:55:28.516763",
     "exception": false,
     "start_time": "2020-12-21T03:55:28.409727",
     "status": "completed"
    },
    "tags": []
   },
   "source": [
    "Para o obter os hiperparâmetros, faz-se:"
   ]
  },
  {
   "cell_type": "code",
   "execution_count": 49,
   "metadata": {
    "execution": {
     "iopub.execute_input": "2020-12-21T03:55:28.793951Z",
     "iopub.status.busy": "2020-12-21T03:55:28.791336Z",
     "iopub.status.idle": "2020-12-21T04:22:42.923262Z",
     "shell.execute_reply": "2020-12-21T04:22:42.924292Z"
    },
    "papermill": {
     "duration": 1634.296492,
     "end_time": "2020-12-21T04:22:42.924493",
     "exception": false,
     "start_time": "2020-12-21T03:55:28.628001",
     "status": "completed"
    },
    "tags": []
   },
   "outputs": [
    {
     "name": "stdout",
     "output_type": "stream",
     "text": [
      "27min 14s ± 0 ns per loop (mean ± std. dev. of 1 run, 1 loop each)\n",
      "Melhores hiperparâmetros: OrderedDict([('learning_rate', 0.5158989671882724), ('max_depth', 2), ('n_estimators', 500), ('reg_alpha', 1e-14), ('reg_lambda', 10.0)])\n",
      "Desempenho do melhor modelo: 0.87362\n"
     ]
    }
   ],
   "source": [
    "# Cria o Bayes Search:\n",
    "xgb_search_cv = BayesSearchCV(estimator = xgb,\n",
    "                              search_spaces = {'n_estimators': Integer(10, 500),\n",
    "                                               'learning_rate': Real(1e-3, 1),\n",
    "                                               'max_depth': Integer(1, 20),\n",
    "                                               'reg_alpha': Real(1e-14, 1e1, prior = 'log-uniform'),\n",
    "                                               'reg_lambda': Real(1e-14, 1e1, prior = 'log-uniform'),},\n",
    "                              cv = 5,\n",
    "                              n_iter = 75, n_jobs=-1, random_state=42)\n",
    "\n",
    "# Realizando a otimização por BayesSearch:\n",
    "%timeit -n 1 -r 1 xgb_search_cv.fit(x_train, y_train)\n",
    "\n",
    "print('Melhores hiperparâmetros: {}'.format(xgb_search_cv.best_params_))\n",
    "print('Desempenho do melhor modelo: {}'.format(round(xgb_search_cv.best_score_,5)))"
   ]
  },
  {
   "cell_type": "markdown",
   "metadata": {
    "papermill": {
     "duration": 0.107818,
     "end_time": "2020-12-21T04:22:43.147961",
     "exception": false,
     "start_time": "2020-12-21T04:22:43.040143",
     "status": "completed"
    },
    "tags": []
   },
   "source": [
    "### 5. 5. Rede Neural"
   ]
  },
  {
   "cell_type": "markdown",
   "metadata": {
    "papermill": {
     "duration": 0.122547,
     "end_time": "2020-12-21T04:22:43.379466",
     "exception": false,
     "start_time": "2020-12-21T04:22:43.256919",
     "status": "completed"
    },
    "tags": []
   },
   "source": [
    "Outro método visto ao longo do curso é o de redes neurais. Para aplicá-lo, utilizaremos a biblioteca scikit-learn, como foi feito no terceiro exercício programa da disciplina."
   ]
  },
  {
   "cell_type": "code",
   "execution_count": 50,
   "metadata": {
    "execution": {
     "iopub.execute_input": "2020-12-21T04:22:43.604667Z",
     "iopub.status.busy": "2020-12-21T04:22:43.603907Z",
     "iopub.status.idle": "2020-12-21T04:22:43.618618Z",
     "shell.execute_reply": "2020-12-21T04:22:43.618137Z"
    },
    "papermill": {
     "duration": 0.13098,
     "end_time": "2020-12-21T04:22:43.618718",
     "exception": false,
     "start_time": "2020-12-21T04:22:43.487738",
     "status": "completed"
    },
    "tags": []
   },
   "outputs": [],
   "source": [
    "from sklearn.neural_network import MLPClassifier\n",
    "\n",
    "mlp = MLPClassifier(random_state=42, early_stopping=True)"
   ]
  },
  {
   "cell_type": "markdown",
   "metadata": {
    "papermill": {
     "duration": 0.112498,
     "end_time": "2020-12-21T04:22:43.844531",
     "exception": false,
     "start_time": "2020-12-21T04:22:43.732033",
     "status": "completed"
    },
    "tags": []
   },
   "source": [
    "Otimizando seus hiperparâmetros:"
   ]
  },
  {
   "cell_type": "code",
   "execution_count": 51,
   "metadata": {
    "execution": {
     "iopub.execute_input": "2020-12-21T04:22:44.105061Z",
     "iopub.status.busy": "2020-12-21T04:22:44.104336Z",
     "iopub.status.idle": "2020-12-21T04:28:08.635460Z",
     "shell.execute_reply": "2020-12-21T04:28:08.636439Z"
    },
    "papermill": {
     "duration": 324.68095,
     "end_time": "2020-12-21T04:28:08.636677",
     "exception": false,
     "start_time": "2020-12-21T04:22:43.955727",
     "status": "completed"
    },
    "tags": []
   },
   "outputs": [
    {
     "name": "stdout",
     "output_type": "stream",
     "text": [
      "5min 24s ± 0 ns per loop (mean ± std. dev. of 1 run, 1 loop each)\n",
      "Melhores hiperparâmetros: {'alpha': 8.471746987003677e-08, 'hidden_layer_sizes': (32, 32), 'learning_rate': 'constant'}\n",
      "Desempenho do melhor modelo: 0.85698\n"
     ]
    }
   ],
   "source": [
    "from scipy.stats import loguniform as sp_loguniform\n",
    "from sklearn.model_selection import RandomizedSearchCV\n",
    "\n",
    "# Hiperparâmetros a serem otimizados\n",
    "hyperparams = {'hidden_layer_sizes': [(2 ** i, 2 ** j) for j in np.arange(5, 8) for i in np.arange(4, 7)],\n",
    "               'alpha': sp_loguniform(1e-10, 1e-1),\n",
    "               'learning_rate': ['constant','adaptive']}\n",
    "\n",
    "# Busca de Hiperparâmetros\n",
    "mlp_search_cv = RandomizedSearchCV(mlp, hyperparams, scoring='accuracy', n_iter=25, cv=3, n_jobs=-1, random_state=42)\n",
    "%timeit -n 1 -r 1 mlp_search_cv.fit(x_train, y_train)\n",
    "\n",
    "print('Melhores hiperparâmetros: {}'.format(mlp_search_cv.best_params_))\n",
    "print('Desempenho do melhor modelo: {}'.format(round(mlp_search_cv.best_score_,5)))"
   ]
  },
  {
   "cell_type": "markdown",
   "metadata": {
    "papermill": {
     "duration": 0.114058,
     "end_time": "2020-12-21T04:28:08.859257",
     "exception": false,
     "start_time": "2020-12-21T04:28:08.745199",
     "status": "completed"
    },
    "tags": []
   },
   "source": [
    "### 5. 6. Comparação"
   ]
  },
  {
   "cell_type": "markdown",
   "metadata": {
    "papermill": {
     "duration": 0.108371,
     "end_time": "2020-12-21T04:28:09.078151",
     "exception": false,
     "start_time": "2020-12-21T04:28:08.969780",
     "status": "completed"
    },
    "tags": []
   },
   "source": [
    "Para comparar os diferente métodos de classificação, exploraremos os valores estipulados pela acurácia e AUC. Dessa forma, será possível estabelecer o melhor modelo para a classificação desejada."
   ]
  },
  {
   "cell_type": "markdown",
   "metadata": {
    "papermill": {
     "duration": 0.108914,
     "end_time": "2020-12-21T04:28:09.298113",
     "exception": false,
     "start_time": "2020-12-21T04:28:09.189199",
     "status": "completed"
    },
    "tags": []
   },
   "source": [
    "Instanciaremos um LabelEncoder para transformar as classses em números inteiros."
   ]
  },
  {
   "cell_type": "code",
   "execution_count": 52,
   "metadata": {
    "execution": {
     "iopub.execute_input": "2020-12-21T04:28:09.521453Z",
     "iopub.status.busy": "2020-12-21T04:28:09.519854Z",
     "iopub.status.idle": "2020-12-21T04:28:09.522385Z",
     "shell.execute_reply": "2020-12-21T04:28:09.522976Z"
    },
    "papermill": {
     "duration": 0.115845,
     "end_time": "2020-12-21T04:28:09.523110",
     "exception": false,
     "start_time": "2020-12-21T04:28:09.407265",
     "status": "completed"
    },
    "tags": []
   },
   "outputs": [],
   "source": [
    "from sklearn.preprocessing import LabelEncoder\n",
    "le = LabelEncoder()"
   ]
  },
  {
   "cell_type": "markdown",
   "metadata": {
    "papermill": {
     "duration": 0.108864,
     "end_time": "2020-12-21T04:28:09.776808",
     "exception": false,
     "start_time": "2020-12-21T04:28:09.667944",
     "status": "completed"
    },
    "tags": []
   },
   "source": [
    "Os valores para os diferentes métodos podem ser observados abaixo."
   ]
  },
  {
   "cell_type": "code",
   "execution_count": 53,
   "metadata": {
    "execution": {
     "iopub.execute_input": "2020-12-21T04:28:10.013653Z",
     "iopub.status.busy": "2020-12-21T04:28:10.012617Z",
     "iopub.status.idle": "2020-12-21T04:28:19.583979Z",
     "shell.execute_reply": "2020-12-21T04:28:19.584812Z"
    },
    "papermill": {
     "duration": 9.697943,
     "end_time": "2020-12-21T04:28:19.584993",
     "exception": false,
     "start_time": "2020-12-21T04:28:09.887050",
     "status": "completed"
    },
    "tags": []
   },
   "outputs": [
    {
     "name": "stdout",
     "output_type": "stream",
     "text": [
      "Random Forest:\n",
      "AUC -------- Random Forest: 0.9175\n",
      "Acurácia --- Random Forest: 0.8646\n",
      "\n",
      "Support Vector Classifier:\n",
      "AUC -------- SVC: 0.9052\n",
      "Acurácia --- SVC: 0.8701\n",
      "\n",
      "Extreme Gradient Boosting:\n",
      "AUC -------- XGBoost: 0.9290\n",
      "Acurácia --- XGBoost: 0.8723\n",
      "\n",
      "Rede Neural:\n",
      "AUC -------- Rede Neural: 0.9104\n",
      "Acurácia --- Rede Neural: 0.8562\n"
     ]
    }
   ],
   "source": [
    "from sklearn.metrics import roc_auc_score\n",
    "from sklearn.metrics import accuracy_score\n",
    "\n",
    "rfc_roc_auc = roc_auc_score(le.fit_transform(y_valid), rfc_search_cv.predict_proba(x_valid)[:,1])\n",
    "rfc_acc = accuracy_score(y_valid, rfc_search_cv.predict(x_valid))\n",
    "print(\"Random Forest:\")\n",
    "print('AUC -------- Random Forest: {:.4f}'.format(rfc_roc_auc))\n",
    "print('Acurácia --- Random Forest: {:.4f}'.format(rfc_acc))\n",
    "print('')\n",
    "\n",
    "svc_roc_auc = roc_auc_score(le.fit_transform(y_valid), svc_search_cv.predict_proba(x_valid)[:,1])\n",
    "svc_acc = accuracy_score(y_valid, svc_search_cv.predict(x_valid))\n",
    "print(\"Support Vector Classifier:\")\n",
    "print('AUC -------- SVC: {:.4f}'.format(svc_roc_auc))\n",
    "print('Acurácia --- SVC: {:.4f}'.format(svc_acc))\n",
    "print('')\n",
    "\n",
    "\n",
    "xgb_roc_auc = roc_auc_score(le.fit_transform(y_valid), xgb_search_cv.predict_proba(x_valid)[:,1])\n",
    "xgb_acc = accuracy_score(y_valid, xgb_search_cv.predict(x_valid))\n",
    "print('Extreme Gradient Boosting:')\n",
    "print('AUC -------- XGBoost: {:.4f}'.format(xgb_roc_auc))\n",
    "print('Acurácia --- XGBoost: {:.4f}'.format(xgb_acc))\n",
    "print('')\n",
    "\n",
    "mlp_roc_auc = roc_auc_score(le.fit_transform(y_valid), mlp_search_cv.predict_proba(x_valid)[:,1])\n",
    "mlp_acc = accuracy_score(y_valid, mlp_search_cv.predict(x_valid))\n",
    "print('Rede Neural:')\n",
    "print('AUC -------- Rede Neural: {:.4f}'.format(mlp_roc_auc))\n",
    "print('Acurácia --- Rede Neural: {:.4f}'.format(mlp_acc))"
   ]
  },
  {
   "cell_type": "markdown",
   "metadata": {
    "papermill": {
     "duration": 0.146086,
     "end_time": "2020-12-21T04:28:19.914232",
     "exception": false,
     "start_time": "2020-12-21T04:28:19.768146",
     "status": "completed"
    },
    "tags": []
   },
   "source": [
    "Observa-se, por fim, que o modelo de Extreme Gradient Boosting obteve melhores resultados, uma vez que a acurácia e a AUC do mesmo foram as maiores entre todos os outros."
   ]
  },
  {
   "cell_type": "markdown",
   "metadata": {
    "papermill": {
     "duration": 0.123558,
     "end_time": "2020-12-21T04:28:20.152326",
     "exception": false,
     "start_time": "2020-12-21T04:28:20.028768",
     "status": "completed"
    },
    "tags": []
   },
   "source": [
    "### 5. 7. Dados de teste"
   ]
  },
  {
   "cell_type": "markdown",
   "metadata": {
    "papermill": {
     "duration": 0.108243,
     "end_time": "2020-12-21T04:28:20.371953",
     "exception": false,
     "start_time": "2020-12-21T04:28:20.263710",
     "status": "completed"
    },
    "tags": []
   },
   "source": [
    "Nesse momento, utilizaremos o nosso classificador XGBoost para predizer os dados de teste, para assim, submeter à plataforma."
   ]
  },
  {
   "cell_type": "code",
   "execution_count": 54,
   "metadata": {
    "execution": {
     "iopub.execute_input": "2020-12-21T04:28:20.613134Z",
     "iopub.status.busy": "2020-12-21T04:28:20.612379Z",
     "iopub.status.idle": "2020-12-21T04:28:20.616295Z",
     "shell.execute_reply": "2020-12-21T04:28:20.616821Z"
    },
    "papermill": {
     "duration": 0.137304,
     "end_time": "2020-12-21T04:28:20.616981",
     "exception": false,
     "start_time": "2020-12-21T04:28:20.479677",
     "status": "completed"
    },
    "tags": []
   },
   "outputs": [
    {
     "data": {
      "text/html": [
       "<div>\n",
       "<style scoped>\n",
       "    .dataframe tbody tr th:only-of-type {\n",
       "        vertical-align: middle;\n",
       "    }\n",
       "\n",
       "    .dataframe tbody tr th {\n",
       "        vertical-align: top;\n",
       "    }\n",
       "\n",
       "    .dataframe thead th {\n",
       "        text-align: right;\n",
       "    }\n",
       "</style>\n",
       "<table border=\"1\" class=\"dataframe\">\n",
       "  <thead>\n",
       "    <tr style=\"text-align: right;\">\n",
       "      <th></th>\n",
       "      <th>age</th>\n",
       "      <th>workclass</th>\n",
       "      <th>fnlwgt</th>\n",
       "      <th>education</th>\n",
       "      <th>education.num</th>\n",
       "      <th>marital.status</th>\n",
       "      <th>occupation</th>\n",
       "      <th>relationship</th>\n",
       "      <th>race</th>\n",
       "      <th>sex</th>\n",
       "      <th>capital.gain</th>\n",
       "      <th>capital.loss</th>\n",
       "      <th>hours.per.week</th>\n",
       "      <th>native.country</th>\n",
       "    </tr>\n",
       "    <tr>\n",
       "      <th>Id</th>\n",
       "      <th></th>\n",
       "      <th></th>\n",
       "      <th></th>\n",
       "      <th></th>\n",
       "      <th></th>\n",
       "      <th></th>\n",
       "      <th></th>\n",
       "      <th></th>\n",
       "      <th></th>\n",
       "      <th></th>\n",
       "      <th></th>\n",
       "      <th></th>\n",
       "      <th></th>\n",
       "      <th></th>\n",
       "    </tr>\n",
       "  </thead>\n",
       "  <tbody>\n",
       "    <tr>\n",
       "      <th>0</th>\n",
       "      <td>25</td>\n",
       "      <td>Private</td>\n",
       "      <td>120596</td>\n",
       "      <td>Bachelors</td>\n",
       "      <td>13</td>\n",
       "      <td>Never-married</td>\n",
       "      <td>Prof-specialty</td>\n",
       "      <td>Not-in-family</td>\n",
       "      <td>White</td>\n",
       "      <td>Male</td>\n",
       "      <td>0</td>\n",
       "      <td>0</td>\n",
       "      <td>44</td>\n",
       "      <td>United-States</td>\n",
       "    </tr>\n",
       "    <tr>\n",
       "      <th>1</th>\n",
       "      <td>64</td>\n",
       "      <td>State-gov</td>\n",
       "      <td>152537</td>\n",
       "      <td>Bachelors</td>\n",
       "      <td>13</td>\n",
       "      <td>Married-civ-spouse</td>\n",
       "      <td>Exec-managerial</td>\n",
       "      <td>Husband</td>\n",
       "      <td>White</td>\n",
       "      <td>Male</td>\n",
       "      <td>0</td>\n",
       "      <td>0</td>\n",
       "      <td>45</td>\n",
       "      <td>United-States</td>\n",
       "    </tr>\n",
       "    <tr>\n",
       "      <th>2</th>\n",
       "      <td>31</td>\n",
       "      <td>Private</td>\n",
       "      <td>100135</td>\n",
       "      <td>Masters</td>\n",
       "      <td>14</td>\n",
       "      <td>Divorced</td>\n",
       "      <td>Exec-managerial</td>\n",
       "      <td>Not-in-family</td>\n",
       "      <td>White</td>\n",
       "      <td>Female</td>\n",
       "      <td>0</td>\n",
       "      <td>0</td>\n",
       "      <td>40</td>\n",
       "      <td>United-States</td>\n",
       "    </tr>\n",
       "    <tr>\n",
       "      <th>3</th>\n",
       "      <td>45</td>\n",
       "      <td>Private</td>\n",
       "      <td>189123</td>\n",
       "      <td>HS-grad</td>\n",
       "      <td>9</td>\n",
       "      <td>Never-married</td>\n",
       "      <td>Machine-op-inspct</td>\n",
       "      <td>Own-child</td>\n",
       "      <td>White</td>\n",
       "      <td>Male</td>\n",
       "      <td>0</td>\n",
       "      <td>0</td>\n",
       "      <td>40</td>\n",
       "      <td>United-States</td>\n",
       "    </tr>\n",
       "    <tr>\n",
       "      <th>4</th>\n",
       "      <td>64</td>\n",
       "      <td>Self-emp-inc</td>\n",
       "      <td>487751</td>\n",
       "      <td>Bachelors</td>\n",
       "      <td>13</td>\n",
       "      <td>Married-civ-spouse</td>\n",
       "      <td>Exec-managerial</td>\n",
       "      <td>Husband</td>\n",
       "      <td>White</td>\n",
       "      <td>Male</td>\n",
       "      <td>0</td>\n",
       "      <td>0</td>\n",
       "      <td>50</td>\n",
       "      <td>United-States</td>\n",
       "    </tr>\n",
       "  </tbody>\n",
       "</table>\n",
       "</div>"
      ],
      "text/plain": [
       "    age     workclass  fnlwgt  education  education.num      marital.status  \\\n",
       "Id                                                                            \n",
       "0    25       Private  120596  Bachelors             13       Never-married   \n",
       "1    64     State-gov  152537  Bachelors             13  Married-civ-spouse   \n",
       "2    31       Private  100135    Masters             14            Divorced   \n",
       "3    45       Private  189123    HS-grad              9       Never-married   \n",
       "4    64  Self-emp-inc  487751  Bachelors             13  Married-civ-spouse   \n",
       "\n",
       "           occupation   relationship   race     sex  capital.gain  \\\n",
       "Id                                                                  \n",
       "0      Prof-specialty  Not-in-family  White    Male             0   \n",
       "1     Exec-managerial        Husband  White    Male             0   \n",
       "2     Exec-managerial  Not-in-family  White  Female             0   \n",
       "3   Machine-op-inspct      Own-child  White    Male             0   \n",
       "4     Exec-managerial        Husband  White    Male             0   \n",
       "\n",
       "    capital.loss  hours.per.week native.country  \n",
       "Id                                               \n",
       "0              0              44  United-States  \n",
       "1              0              45  United-States  \n",
       "2              0              40  United-States  \n",
       "3              0              40  United-States  \n",
       "4              0              50  United-States  "
      ]
     },
     "execution_count": 54,
     "metadata": {},
     "output_type": "execute_result"
    }
   ],
   "source": [
    "test_data.head()"
   ]
  },
  {
   "cell_type": "code",
   "execution_count": 55,
   "metadata": {
    "execution": {
     "iopub.execute_input": "2020-12-21T04:28:20.926005Z",
     "iopub.status.busy": "2020-12-21T04:28:20.925162Z",
     "iopub.status.idle": "2020-12-21T04:28:21.014014Z",
     "shell.execute_reply": "2020-12-21T04:28:21.013424Z"
    },
    "papermill": {
     "duration": 0.281831,
     "end_time": "2020-12-21T04:28:21.014139",
     "exception": false,
     "start_time": "2020-12-21T04:28:20.732308",
     "status": "completed"
    },
    "tags": []
   },
   "outputs": [],
   "source": [
    "predictions = xgb_search_cv.predict(x_test)"
   ]
  },
  {
   "cell_type": "markdown",
   "metadata": {
    "papermill": {
     "duration": 0.118452,
     "end_time": "2020-12-21T04:28:21.268654",
     "exception": false,
     "start_time": "2020-12-21T04:28:21.150202",
     "status": "completed"
    },
    "tags": []
   },
   "source": [
    "Por fim:"
   ]
  },
  {
   "cell_type": "code",
   "execution_count": 56,
   "metadata": {
    "execution": {
     "iopub.execute_input": "2020-12-21T04:28:21.507135Z",
     "iopub.status.busy": "2020-12-21T04:28:21.505964Z",
     "iopub.status.idle": "2020-12-21T04:28:21.509487Z",
     "shell.execute_reply": "2020-12-21T04:28:21.510040Z"
    },
    "papermill": {
     "duration": 0.120825,
     "end_time": "2020-12-21T04:28:21.510169",
     "exception": false,
     "start_time": "2020-12-21T04:28:21.389344",
     "status": "completed"
    },
    "tags": []
   },
   "outputs": [
    {
     "data": {
      "text/plain": [
       "array(['<=50K', '>50K', '<=50K', ..., '<=50K', '<=50K', '>50K'],\n",
       "      dtype=object)"
      ]
     },
     "execution_count": 56,
     "metadata": {},
     "output_type": "execute_result"
    }
   ],
   "source": [
    "predictions"
   ]
  },
  {
   "cell_type": "markdown",
   "metadata": {
    "papermill": {
     "duration": 0.125481,
     "end_time": "2020-12-21T04:28:21.746337",
     "exception": false,
     "start_time": "2020-12-21T04:28:21.620856",
     "status": "completed"
    },
    "tags": []
   },
   "source": [
    "## 6. Submissão "
   ]
  },
  {
   "cell_type": "markdown",
   "metadata": {
    "papermill": {
     "duration": 0.161662,
     "end_time": "2020-12-21T04:28:22.074749",
     "exception": false,
     "start_time": "2020-12-21T04:28:21.913087",
     "status": "completed"
    },
    "tags": []
   },
   "source": [
    "Nessa etapa, precisa-se criar um arquivo **.csv** para submeter ao Kaggle. Criaremos, então, um Dataframe e, a partir deste, incluiremos as colunas \"Id\" e \"income\". Por fim, salvaremos o arquivos."
   ]
  },
  {
   "cell_type": "code",
   "execution_count": 57,
   "metadata": {
    "execution": {
     "iopub.execute_input": "2020-12-21T04:28:22.403389Z",
     "iopub.status.busy": "2020-12-21T04:28:22.402183Z",
     "iopub.status.idle": "2020-12-21T04:28:22.407803Z",
     "shell.execute_reply": "2020-12-21T04:28:22.407068Z"
    },
    "papermill": {
     "duration": 0.16776,
     "end_time": "2020-12-21T04:28:22.407984",
     "exception": false,
     "start_time": "2020-12-21T04:28:22.240224",
     "status": "completed"
    },
    "tags": []
   },
   "outputs": [],
   "source": [
    "submission = pd.DataFrame ()"
   ]
  },
  {
   "cell_type": "code",
   "execution_count": 58,
   "metadata": {
    "execution": {
     "iopub.execute_input": "2020-12-21T04:28:22.702560Z",
     "iopub.status.busy": "2020-12-21T04:28:22.697139Z",
     "iopub.status.idle": "2020-12-21T04:28:22.705314Z",
     "shell.execute_reply": "2020-12-21T04:28:22.704750Z"
    },
    "papermill": {
     "duration": 0.135146,
     "end_time": "2020-12-21T04:28:22.705418",
     "exception": false,
     "start_time": "2020-12-21T04:28:22.570272",
     "status": "completed"
    },
    "tags": []
   },
   "outputs": [],
   "source": [
    "submission[0] = test_data.index\n",
    "submission[1] = predictions\n",
    "submission.columns = ['Id','income']"
   ]
  },
  {
   "cell_type": "code",
   "execution_count": 59,
   "metadata": {
    "execution": {
     "iopub.execute_input": "2020-12-21T04:28:22.949547Z",
     "iopub.status.busy": "2020-12-21T04:28:22.948687Z",
     "iopub.status.idle": "2020-12-21T04:28:22.954216Z",
     "shell.execute_reply": "2020-12-21T04:28:22.953646Z"
    },
    "papermill": {
     "duration": 0.132813,
     "end_time": "2020-12-21T04:28:22.954331",
     "exception": false,
     "start_time": "2020-12-21T04:28:22.821518",
     "status": "completed"
    },
    "tags": []
   },
   "outputs": [
    {
     "data": {
      "text/html": [
       "<div>\n",
       "<style scoped>\n",
       "    .dataframe tbody tr th:only-of-type {\n",
       "        vertical-align: middle;\n",
       "    }\n",
       "\n",
       "    .dataframe tbody tr th {\n",
       "        vertical-align: top;\n",
       "    }\n",
       "\n",
       "    .dataframe thead th {\n",
       "        text-align: right;\n",
       "    }\n",
       "</style>\n",
       "<table border=\"1\" class=\"dataframe\">\n",
       "  <thead>\n",
       "    <tr style=\"text-align: right;\">\n",
       "      <th></th>\n",
       "      <th>Id</th>\n",
       "      <th>income</th>\n",
       "    </tr>\n",
       "  </thead>\n",
       "  <tbody>\n",
       "    <tr>\n",
       "      <th>0</th>\n",
       "      <td>0</td>\n",
       "      <td>&lt;=50K</td>\n",
       "    </tr>\n",
       "    <tr>\n",
       "      <th>1</th>\n",
       "      <td>1</td>\n",
       "      <td>&gt;50K</td>\n",
       "    </tr>\n",
       "    <tr>\n",
       "      <th>2</th>\n",
       "      <td>2</td>\n",
       "      <td>&lt;=50K</td>\n",
       "    </tr>\n",
       "    <tr>\n",
       "      <th>3</th>\n",
       "      <td>3</td>\n",
       "      <td>&lt;=50K</td>\n",
       "    </tr>\n",
       "    <tr>\n",
       "      <th>4</th>\n",
       "      <td>4</td>\n",
       "      <td>&gt;50K</td>\n",
       "    </tr>\n",
       "  </tbody>\n",
       "</table>\n",
       "</div>"
      ],
      "text/plain": [
       "   Id income\n",
       "0   0  <=50K\n",
       "1   1   >50K\n",
       "2   2  <=50K\n",
       "3   3  <=50K\n",
       "4   4   >50K"
      ]
     },
     "execution_count": 59,
     "metadata": {},
     "output_type": "execute_result"
    }
   ],
   "source": [
    "submission.head()"
   ]
  },
  {
   "cell_type": "code",
   "execution_count": 60,
   "metadata": {
    "execution": {
     "iopub.execute_input": "2020-12-21T04:28:23.191489Z",
     "iopub.status.busy": "2020-12-21T04:28:23.190800Z",
     "iopub.status.idle": "2020-12-21T04:28:23.458353Z",
     "shell.execute_reply": "2020-12-21T04:28:23.457749Z"
    },
    "papermill": {
     "duration": 0.384701,
     "end_time": "2020-12-21T04:28:23.458464",
     "exception": false,
     "start_time": "2020-12-21T04:28:23.073763",
     "status": "completed"
    },
    "tags": []
   },
   "outputs": [],
   "source": [
    "submission.to_csv('submission.csv',index = False)"
   ]
  }
 ],
 "metadata": {
  "kernelspec": {
   "display_name": "Python 3",
   "language": "python",
   "name": "python3"
  },
  "language_info": {
   "codemirror_mode": {
    "name": "ipython",
    "version": 3
   },
   "file_extension": ".py",
   "mimetype": "text/x-python",
   "name": "python",
   "nbconvert_exporter": "python",
   "pygments_lexer": "ipython3",
   "version": "3.7.6"
  },
  "papermill": {
   "duration": 5734.591556,
   "end_time": "2020-12-21T04:28:23.988308",
   "environment_variables": {},
   "exception": null,
   "input_path": "__notebook__.ipynb",
   "output_path": "__notebook__.ipynb",
   "parameters": {},
   "start_time": "2020-12-21T02:52:49.396752",
   "version": "2.1.0"
  }
 },
 "nbformat": 4,
 "nbformat_minor": 4
}
