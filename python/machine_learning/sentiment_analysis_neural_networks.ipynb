{
 "cells": [
  {
   "cell_type": "markdown",
   "metadata": {
    "papermill": {
     "duration": 0.060532,
     "end_time": "2020-12-07T11:48:25.230246",
     "exception": false,
     "start_time": "2020-12-07T11:48:25.169714",
     "status": "completed"
    },
    "tags": []
   },
   "source": [
    "# Análise de Sentimentos - PMR3508\n",
    "\n",
    "**Aluno: Gustavo Nunes Ribeiro**\n"
   ]
  },
  {
   "cell_type": "markdown",
   "metadata": {
    "papermill": {
     "duration": 0.057853,
     "end_time": "2020-12-07T11:48:25.347422",
     "exception": false,
     "start_time": "2020-12-07T11:48:25.289569",
     "status": "completed"
    },
    "tags": []
   },
   "source": [
    "## 1. Importação de Bibliotecas"
   ]
  },
  {
   "cell_type": "markdown",
   "metadata": {
    "papermill": {
     "duration": 0.057794,
     "end_time": "2020-12-07T11:48:25.463487",
     "exception": false,
     "start_time": "2020-12-07T11:48:25.405693",
     "status": "completed"
    },
    "tags": []
   },
   "source": [
    "Inicia-se o processo de análise importanto as bibliotecas necessárias para o seu desenvolvimento."
   ]
  },
  {
   "cell_type": "markdown",
   "metadata": {
    "papermill": {
     "duration": 0.058169,
     "end_time": "2020-12-07T11:48:25.580041",
     "exception": false,
     "start_time": "2020-12-07T11:48:25.521872",
     "status": "completed"
    },
    "tags": []
   },
   "source": [
    "Para a manipulação dos dados, importa-se as bibliotecas **numpy** e **pandas**."
   ]
  },
  {
   "cell_type": "code",
   "execution_count": 1,
   "metadata": {
    "execution": {
     "iopub.execute_input": "2020-12-07T11:48:25.702697Z",
     "iopub.status.busy": "2020-12-07T11:48:25.701867Z",
     "iopub.status.idle": "2020-12-07T11:48:25.705381Z",
     "shell.execute_reply": "2020-12-07T11:48:25.704608Z"
    },
    "papermill": {
     "duration": 0.066739,
     "end_time": "2020-12-07T11:48:25.705532",
     "exception": false,
     "start_time": "2020-12-07T11:48:25.638793",
     "status": "completed"
    },
    "tags": []
   },
   "outputs": [],
   "source": [
    "import numpy as np\n",
    "import pandas as pd"
   ]
  },
  {
   "cell_type": "markdown",
   "metadata": {
    "papermill": {
     "duration": 0.057905,
     "end_time": "2020-12-07T11:48:25.823170",
     "exception": false,
     "start_time": "2020-12-07T11:48:25.765265",
     "status": "completed"
    },
    "tags": []
   },
   "source": [
    "Para, possivelmente, visualizar os dados manipulados, utiliza-se a biblioteca **seaborn**."
   ]
  },
  {
   "cell_type": "code",
   "execution_count": 2,
   "metadata": {
    "execution": {
     "iopub.execute_input": "2020-12-07T11:48:25.948385Z",
     "iopub.status.busy": "2020-12-07T11:48:25.947555Z",
     "iopub.status.idle": "2020-12-07T11:48:27.056125Z",
     "shell.execute_reply": "2020-12-07T11:48:27.055471Z"
    },
    "papermill": {
     "duration": 1.173117,
     "end_time": "2020-12-07T11:48:27.056306",
     "exception": false,
     "start_time": "2020-12-07T11:48:25.883189",
     "status": "completed"
    },
    "tags": []
   },
   "outputs": [],
   "source": [
    "import seaborn as sns"
   ]
  },
  {
   "cell_type": "markdown",
   "metadata": {
    "papermill": {
     "duration": 0.058976,
     "end_time": "2020-12-07T11:48:27.174562",
     "exception": false,
     "start_time": "2020-12-07T11:48:27.115586",
     "status": "completed"
    },
    "tags": []
   },
   "source": [
    "Para o processamento dos texto, utiliza-se as seguintes bibliotecas:"
   ]
  },
  {
   "cell_type": "code",
   "execution_count": 3,
   "metadata": {
    "execution": {
     "iopub.execute_input": "2020-12-07T11:48:27.298564Z",
     "iopub.status.busy": "2020-12-07T11:48:27.297682Z",
     "iopub.status.idle": "2020-12-07T11:48:48.829092Z",
     "shell.execute_reply": "2020-12-07T11:48:48.828301Z"
    },
    "papermill": {
     "duration": 21.595977,
     "end_time": "2020-12-07T11:48:48.829223",
     "exception": false,
     "start_time": "2020-12-07T11:48:27.233246",
     "status": "completed"
    },
    "tags": []
   },
   "outputs": [
    {
     "name": "stdout",
     "output_type": "stream",
     "text": [
      "Collecting ftfy\r\n",
      "  Downloading ftfy-5.8.tar.gz (64 kB)\r\n",
      "\u001b[K     |████████████████████████████████| 64 kB 555 kB/s \r\n",
      "\u001b[?25hRequirement already satisfied: wcwidth in /opt/conda/lib/python3.7/site-packages (from ftfy) (0.1.9)\r\n",
      "Building wheels for collected packages: ftfy\r\n",
      "  Building wheel for ftfy (setup.py) ... \u001b[?25l-\b \b\\\b \bdone\r\n",
      "\u001b[?25h  Created wheel for ftfy: filename=ftfy-5.8-py3-none-any.whl size=45612 sha256=0221c82a70c99d6324a3e34a976f3d3e76d427d4ac3fec0b42c1e1fabd3cb3d0\r\n",
      "  Stored in directory: /root/.cache/pip/wheels/49/1c/fc/8b19700f939810cd8fd9495ae34934b246279791288eda1c31\r\n",
      "Successfully built ftfy\r\n",
      "Installing collected packages: ftfy\r\n",
      "Successfully installed ftfy-5.8\r\n",
      "\u001b[33mWARNING: You are using pip version 20.2.4; however, version 20.3.1 is available.\r\n",
      "You should consider upgrading via the '/opt/conda/bin/python3.7 -m pip install --upgrade pip' command.\u001b[0m\r\n",
      "Requirement already satisfied: gensim in /opt/conda/lib/python3.7/site-packages (3.8.3)\r\n",
      "Requirement already satisfied: numpy>=1.11.3 in /opt/conda/lib/python3.7/site-packages (from gensim) (1.18.5)\r\n",
      "Requirement already satisfied: scipy>=0.18.1 in /opt/conda/lib/python3.7/site-packages (from gensim) (1.4.1)\r\n",
      "Requirement already satisfied: smart-open>=1.8.1 in /opt/conda/lib/python3.7/site-packages (from gensim) (3.0.0)\r\n",
      "Requirement already satisfied: six>=1.5.0 in /opt/conda/lib/python3.7/site-packages (from gensim) (1.14.0)\r\n",
      "Requirement already satisfied: requests in /opt/conda/lib/python3.7/site-packages (from smart-open>=1.8.1->gensim) (2.23.0)\r\n",
      "Requirement already satisfied: chardet<4,>=3.0.2 in /opt/conda/lib/python3.7/site-packages (from requests->smart-open>=1.8.1->gensim) (3.0.4)\r\n",
      "Requirement already satisfied: idna<3,>=2.5 in /opt/conda/lib/python3.7/site-packages (from requests->smart-open>=1.8.1->gensim) (2.9)\r\n",
      "Requirement already satisfied: urllib3!=1.25.0,!=1.25.1,<1.26,>=1.21.1 in /opt/conda/lib/python3.7/site-packages (from requests->smart-open>=1.8.1->gensim) (1.25.9)\r\n",
      "Requirement already satisfied: certifi>=2017.4.17 in /opt/conda/lib/python3.7/site-packages (from requests->smart-open>=1.8.1->gensim) (2020.11.8)\r\n",
      "\u001b[33mWARNING: You are using pip version 20.2.4; however, version 20.3.1 is available.\r\n",
      "You should consider upgrading via the '/opt/conda/bin/python3.7 -m pip install --upgrade pip' command.\u001b[0m\r\n"
     ]
    }
   ],
   "source": [
    "!pip install ftfy\n",
    "!pip install gensim"
   ]
  },
  {
   "cell_type": "markdown",
   "metadata": {
    "papermill": {
     "duration": 0.065698,
     "end_time": "2020-12-07T11:48:48.961651",
     "exception": false,
     "start_time": "2020-12-07T11:48:48.895953",
     "status": "completed"
    },
    "tags": []
   },
   "source": [
    "## 2. Importação dos Dados\n"
   ]
  },
  {
   "cell_type": "markdown",
   "metadata": {
    "papermill": {
     "duration": 0.06516,
     "end_time": "2020-12-07T11:48:49.092105",
     "exception": false,
     "start_time": "2020-12-07T11:48:49.026945",
     "status": "completed"
    },
    "tags": []
   },
   "source": [
    "Para treinar o modelo, utiliza-se o Dataset de treino"
   ]
  },
  {
   "cell_type": "code",
   "execution_count": 4,
   "metadata": {
    "execution": {
     "iopub.execute_input": "2020-12-07T11:48:49.231245Z",
     "iopub.status.busy": "2020-12-07T11:48:49.230421Z",
     "iopub.status.idle": "2020-12-07T11:48:50.110905Z",
     "shell.execute_reply": "2020-12-07T11:48:50.111520Z"
    },
    "papermill": {
     "duration": 0.954638,
     "end_time": "2020-12-07T11:48:50.111707",
     "exception": false,
     "start_time": "2020-12-07T11:48:49.157069",
     "status": "completed"
    },
    "tags": []
   },
   "outputs": [],
   "source": [
    "train = pd.read_csv(\"../input/sentiment-analysis-pmr3508/data_train.csv\")"
   ]
  },
  {
   "cell_type": "markdown",
   "metadata": {
    "papermill": {
     "duration": 0.065059,
     "end_time": "2020-12-07T11:48:50.243050",
     "exception": false,
     "start_time": "2020-12-07T11:48:50.177991",
     "status": "completed"
    },
    "tags": []
   },
   "source": [
    "Para visualizar a disposição dos dados importados, utiliza-se a função `head()`"
   ]
  },
  {
   "cell_type": "code",
   "execution_count": 5,
   "metadata": {
    "execution": {
     "iopub.execute_input": "2020-12-07T11:48:50.394393Z",
     "iopub.status.busy": "2020-12-07T11:48:50.393613Z",
     "iopub.status.idle": "2020-12-07T11:48:50.403988Z",
     "shell.execute_reply": "2020-12-07T11:48:50.403068Z"
    },
    "papermill": {
     "duration": 0.095603,
     "end_time": "2020-12-07T11:48:50.404123",
     "exception": false,
     "start_time": "2020-12-07T11:48:50.308520",
     "status": "completed"
    },
    "tags": []
   },
   "outputs": [
    {
     "data": {
      "text/html": [
       "<div>\n",
       "<style scoped>\n",
       "    .dataframe tbody tr th:only-of-type {\n",
       "        vertical-align: middle;\n",
       "    }\n",
       "\n",
       "    .dataframe tbody tr th {\n",
       "        vertical-align: top;\n",
       "    }\n",
       "\n",
       "    .dataframe thead th {\n",
       "        text-align: right;\n",
       "    }\n",
       "</style>\n",
       "<table border=\"1\" class=\"dataframe\">\n",
       "  <thead>\n",
       "    <tr style=\"text-align: right;\">\n",
       "      <th></th>\n",
       "      <th>review</th>\n",
       "      <th>positive</th>\n",
       "    </tr>\n",
       "  </thead>\n",
       "  <tbody>\n",
       "    <tr>\n",
       "      <th>0</th>\n",
       "      <td>Bromwell High is a cartoon comedy. It ran at t...</td>\n",
       "      <td>1</td>\n",
       "    </tr>\n",
       "    <tr>\n",
       "      <th>1</th>\n",
       "      <td>Homelessness (or Houselessness as George Carli...</td>\n",
       "      <td>1</td>\n",
       "    </tr>\n",
       "    <tr>\n",
       "      <th>2</th>\n",
       "      <td>Brilliant over-acting by Lesley Ann Warren. Be...</td>\n",
       "      <td>1</td>\n",
       "    </tr>\n",
       "    <tr>\n",
       "      <th>3</th>\n",
       "      <td>This is easily the most underrated film inn th...</td>\n",
       "      <td>1</td>\n",
       "    </tr>\n",
       "    <tr>\n",
       "      <th>4</th>\n",
       "      <td>This is not the typical Mel Brooks film. It wa...</td>\n",
       "      <td>1</td>\n",
       "    </tr>\n",
       "  </tbody>\n",
       "</table>\n",
       "</div>"
      ],
      "text/plain": [
       "                                              review  positive\n",
       "0  Bromwell High is a cartoon comedy. It ran at t...         1\n",
       "1  Homelessness (or Houselessness as George Carli...         1\n",
       "2  Brilliant over-acting by Lesley Ann Warren. Be...         1\n",
       "3  This is easily the most underrated film inn th...         1\n",
       "4  This is not the typical Mel Brooks film. It wa...         1"
      ]
     },
     "execution_count": 5,
     "metadata": {},
     "output_type": "execute_result"
    }
   ],
   "source": [
    "train.head()"
   ]
  },
  {
   "cell_type": "markdown",
   "metadata": {
    "papermill": {
     "duration": 0.065317,
     "end_time": "2020-12-07T11:48:50.535361",
     "exception": false,
     "start_time": "2020-12-07T11:48:50.470044",
     "status": "completed"
    },
    "tags": []
   },
   "source": [
    "## 3. Pré-Processamento dos Dados"
   ]
  },
  {
   "cell_type": "markdown",
   "metadata": {
    "papermill": {
     "duration": 0.065599,
     "end_time": "2020-12-07T11:48:50.666984",
     "exception": false,
     "start_time": "2020-12-07T11:48:50.601385",
     "status": "completed"
    },
    "tags": []
   },
   "source": [
    "Como ação preventiva, droparemos, caso exista, todas a linhas duplicadas do Dataset."
   ]
  },
  {
   "cell_type": "code",
   "execution_count": 6,
   "metadata": {
    "execution": {
     "iopub.execute_input": "2020-12-07T11:48:50.805385Z",
     "iopub.status.busy": "2020-12-07T11:48:50.804465Z",
     "iopub.status.idle": "2020-12-07T11:48:50.809043Z",
     "shell.execute_reply": "2020-12-07T11:48:50.808267Z"
    },
    "papermill": {
     "duration": 0.075748,
     "end_time": "2020-12-07T11:48:50.809169",
     "exception": false,
     "start_time": "2020-12-07T11:48:50.733421",
     "status": "completed"
    },
    "tags": []
   },
   "outputs": [
    {
     "data": {
      "text/plain": [
       "(24984, 2)"
      ]
     },
     "execution_count": 6,
     "metadata": {},
     "output_type": "execute_result"
    }
   ],
   "source": [
    "train.shape"
   ]
  },
  {
   "cell_type": "code",
   "execution_count": 7,
   "metadata": {
    "execution": {
     "iopub.execute_input": "2020-12-07T11:48:50.988524Z",
     "iopub.status.busy": "2020-12-07T11:48:50.987483Z",
     "iopub.status.idle": "2020-12-07T11:48:51.080242Z",
     "shell.execute_reply": "2020-12-07T11:48:51.079507Z"
    },
    "papermill": {
     "duration": 0.193946,
     "end_time": "2020-12-07T11:48:51.080389",
     "exception": false,
     "start_time": "2020-12-07T11:48:50.886443",
     "status": "completed"
    },
    "tags": []
   },
   "outputs": [
    {
     "data": {
      "text/plain": [
       "(24888, 2)"
      ]
     },
     "execution_count": 7,
     "metadata": {},
     "output_type": "execute_result"
    }
   ],
   "source": [
    "\n",
    "train = train.drop_duplicates(keep='first')\n",
    "train.shape"
   ]
  },
  {
   "cell_type": "markdown",
   "metadata": {
    "papermill": {
     "duration": 0.066836,
     "end_time": "2020-12-07T11:48:51.214576",
     "exception": false,
     "start_time": "2020-12-07T11:48:51.147740",
     "status": "completed"
    },
    "tags": []
   },
   "source": [
    "Nota-se uma quantidade significativa de dados duplicados foram eliminados."
   ]
  },
  {
   "cell_type": "markdown",
   "metadata": {
    "papermill": {
     "duration": 0.067708,
     "end_time": "2020-12-07T11:48:51.349548",
     "exception": false,
     "start_time": "2020-12-07T11:48:51.281840",
     "status": "completed"
    },
    "tags": []
   },
   "source": [
    "Além disso, analisa-se a distruibuição dos dados, se é balanceada ou não."
   ]
  },
  {
   "cell_type": "code",
   "execution_count": 8,
   "metadata": {
    "execution": {
     "iopub.execute_input": "2020-12-07T11:48:51.490805Z",
     "iopub.status.busy": "2020-12-07T11:48:51.490019Z",
     "iopub.status.idle": "2020-12-07T11:48:51.741351Z",
     "shell.execute_reply": "2020-12-07T11:48:51.740598Z"
    },
    "papermill": {
     "duration": 0.324559,
     "end_time": "2020-12-07T11:48:51.741475",
     "exception": false,
     "start_time": "2020-12-07T11:48:51.416916",
     "status": "completed"
    },
    "tags": []
   },
   "outputs": [
    {
     "data": {
      "text/plain": [
       "<seaborn.axisgrid.FacetGrid at 0x7f42163f0790>"
      ]
     },
     "execution_count": 8,
     "metadata": {},
     "output_type": "execute_result"
    },
    {
     "data": {
      "image/png": "[encoded data removed]",
      "text/plain": [
       "<Figure size 360x360 with 1 Axes>"
      ]
     },
     "metadata": {
      "needs_background": "light"
     },
     "output_type": "display_data"
    }
   ],
   "source": [
    "sns.catplot(x=\"positive\", kind=\"count\", palette=\"Purples\", data=train)"
   ]
  },
  {
   "cell_type": "markdown",
   "metadata": {
    "papermill": {
     "duration": 0.07063,
     "end_time": "2020-12-07T11:48:51.881498",
     "exception": false,
     "start_time": "2020-12-07T11:48:51.810868",
     "status": "completed"
    },
    "tags": []
   },
   "source": [
    "Como pode ser observado, os dados estão distribuídos de forma igualitária, não havendo, portanto, necessidade de balanceá-los."
   ]
  },
  {
   "cell_type": "markdown",
   "metadata": {
    "papermill": {
     "duration": 0.069639,
     "end_time": "2020-12-07T11:48:52.022355",
     "exception": false,
     "start_time": "2020-12-07T11:48:51.952716",
     "status": "completed"
    },
    "tags": []
   },
   "source": [
    "Em seguida, para preparar os dados que serão utilizados, é necessário tratá-los. A forma como será feita foi definida e disponibilizada pelo monitor da disciplina. Dentre as ações, pode-se destacar a tokenização do texto, a remoção de caractéres especiais e pontuações, a transformação para letras minúsculas, entre outras ações."
   ]
  },
  {
   "cell_type": "code",
   "execution_count": 9,
   "metadata": {
    "execution": {
     "iopub.execute_input": "2020-12-07T11:48:52.170726Z",
     "iopub.status.busy": "2020-12-07T11:48:52.169863Z",
     "iopub.status.idle": "2020-12-07T11:48:52.236528Z",
     "shell.execute_reply": "2020-12-07T11:48:52.235663Z"
    },
    "papermill": {
     "duration": 0.144956,
     "end_time": "2020-12-07T11:48:52.236718",
     "exception": false,
     "start_time": "2020-12-07T11:48:52.091762",
     "status": "completed"
    },
    "tags": []
   },
   "outputs": [],
   "source": [
    "import re\n",
    "import string\n",
    "from ftfy import fix_text\n",
    "\n",
    "def preptext(text):\n",
    "    txt=text.replace(\"<br />\",\" \") #retirando tags\n",
    "    txt=fix_text(txt) #consertando Mojibakes (Ver https://pypi.org/project/ftfy/)\n",
    "    txt=txt.lower() #passando tudo para minúsculo\n",
    "    txt=txt.translate(str.maketrans('', '', string.punctuation)) #retirando toda pontuação\n",
    "    txt=txt.replace(\" — \", \" \") #retirando hífens\n",
    "    txt=re.sub(\"\\d+\", ' <number> ', txt) #colocando um token especial para os números\n",
    "    txt=re.sub(' +', ' ', txt) #deletando espaços extras\n",
    "    return txt"
   ]
  },
  {
   "cell_type": "markdown",
   "metadata": {
    "papermill": {
     "duration": 0.069204,
     "end_time": "2020-12-07T11:48:52.375439",
     "exception": false,
     "start_time": "2020-12-07T11:48:52.306235",
     "status": "completed"
    },
    "tags": []
   },
   "source": [
    "Agora, dividi-se o dataset em duas partes, os atributos **X** e a classe **y**."
   ]
  },
  {
   "cell_type": "code",
   "execution_count": 10,
   "metadata": {
    "execution": {
     "iopub.execute_input": "2020-12-07T11:48:52.519866Z",
     "iopub.status.busy": "2020-12-07T11:48:52.518964Z",
     "iopub.status.idle": "2020-12-07T11:48:52.521993Z",
     "shell.execute_reply": "2020-12-07T11:48:52.522579Z"
    },
    "papermill": {
     "duration": 0.07831,
     "end_time": "2020-12-07T11:48:52.522744",
     "exception": false,
     "start_time": "2020-12-07T11:48:52.444434",
     "status": "completed"
    },
    "tags": []
   },
   "outputs": [],
   "source": [
    "X_train = train['review']\n",
    "y_train = train['positive']"
   ]
  },
  {
   "cell_type": "code",
   "execution_count": 11,
   "metadata": {
    "execution": {
     "iopub.execute_input": "2020-12-07T11:48:52.668128Z",
     "iopub.status.busy": "2020-12-07T11:48:52.667235Z",
     "iopub.status.idle": "2020-12-07T11:48:52.671943Z",
     "shell.execute_reply": "2020-12-07T11:48:52.671312Z"
    },
    "papermill": {
     "duration": 0.080216,
     "end_time": "2020-12-07T11:48:52.672069",
     "exception": false,
     "start_time": "2020-12-07T11:48:52.591853",
     "status": "completed"
    },
    "tags": []
   },
   "outputs": [
    {
     "data": {
      "text/plain": [
       "0    Bromwell High is a cartoon comedy. It ran at t...\n",
       "1    Homelessness (or Houselessness as George Carli...\n",
       "2    Brilliant over-acting by Lesley Ann Warren. Be...\n",
       "3    This is easily the most underrated film inn th...\n",
       "4    This is not the typical Mel Brooks film. It wa...\n",
       "Name: review, dtype: object"
      ]
     },
     "execution_count": 11,
     "metadata": {},
     "output_type": "execute_result"
    }
   ],
   "source": [
    "X_train.head()"
   ]
  },
  {
   "cell_type": "markdown",
   "metadata": {
    "papermill": {
     "duration": 0.069184,
     "end_time": "2020-12-07T11:48:52.810895",
     "exception": false,
     "start_time": "2020-12-07T11:48:52.741711",
     "status": "completed"
    },
    "tags": []
   },
   "source": [
    "Aplica-se, portanto, a função criada e obtêm-se os dados padronizados."
   ]
  },
  {
   "cell_type": "code",
   "execution_count": 12,
   "metadata": {
    "execution": {
     "iopub.execute_input": "2020-12-07T11:48:52.977229Z",
     "iopub.status.busy": "2020-12-07T11:48:52.955862Z",
     "iopub.status.idle": "2020-12-07T11:50:02.159251Z",
     "shell.execute_reply": "2020-12-07T11:50:02.159914Z"
    },
    "papermill": {
     "duration": 69.279914,
     "end_time": "2020-12-07T11:50:02.160089",
     "exception": false,
     "start_time": "2020-12-07T11:48:52.880175",
     "status": "completed"
    },
    "tags": []
   },
   "outputs": [
    {
     "data": {
      "text/plain": [
       "0    bromwell high is a cartoon comedy it ran at th...\n",
       "1    homelessness or houselessness as george carlin...\n",
       "2    brilliant overacting by lesley ann warren best...\n",
       "3    this is easily the most underrated film inn th...\n",
       "4    this is not the typical mel brooks film it was...\n",
       "Name: review, dtype: object"
      ]
     },
     "execution_count": 12,
     "metadata": {},
     "output_type": "execute_result"
    }
   ],
   "source": [
    "X_train = X_train.apply(preptext)\n",
    "X_train.head()"
   ]
  },
  {
   "cell_type": "markdown",
   "metadata": {
    "papermill": {
     "duration": 0.074041,
     "end_time": "2020-12-07T11:50:02.310870",
     "exception": false,
     "start_time": "2020-12-07T11:50:02.236829",
     "status": "completed"
    },
    "tags": []
   },
   "source": [
    "Para trabalhar com os dados obtidos, é necessário armazenar cada uma das palavras dentro de um vetor."
   ]
  },
  {
   "cell_type": "code",
   "execution_count": 13,
   "metadata": {
    "execution": {
     "iopub.execute_input": "2020-12-07T11:50:02.470692Z",
     "iopub.status.busy": "2020-12-07T11:50:02.469866Z",
     "iopub.status.idle": "2020-12-07T11:50:03.416101Z",
     "shell.execute_reply": "2020-12-07T11:50:03.415488Z"
    },
    "papermill": {
     "duration": 1.029409,
     "end_time": "2020-12-07T11:50:03.416242",
     "exception": false,
     "start_time": "2020-12-07T11:50:02.386833",
     "status": "completed"
    },
    "tags": []
   },
   "outputs": [
    {
     "data": {
      "text/plain": [
       "0    [bromwell, high, is, a, cartoon, comedy, it, r...\n",
       "1    [homelessness, or, houselessness, as, george, ...\n",
       "2    [brilliant, overacting, by, lesley, ann, warre...\n",
       "3    [this, is, easily, the, most, underrated, film...\n",
       "4    [this, is, not, the, typical, mel, brooks, fil...\n",
       "Name: review, dtype: object"
      ]
     },
     "execution_count": 13,
     "metadata": {},
     "output_type": "execute_result"
    }
   ],
   "source": [
    "X_train = X_train.apply(lambda x: x.split())\n",
    "X_train.head()"
   ]
  },
  {
   "cell_type": "markdown",
   "metadata": {
    "papermill": {
     "duration": 0.071402,
     "end_time": "2020-12-07T11:50:03.558982",
     "exception": false,
     "start_time": "2020-12-07T11:50:03.487580",
     "status": "completed"
    },
    "tags": []
   },
   "source": [
    "### 3. 1. Word Embedding "
   ]
  },
  {
   "cell_type": "markdown",
   "metadata": {
    "papermill": {
     "duration": 0.074064,
     "end_time": "2020-12-07T11:50:03.704368",
     "exception": false,
     "start_time": "2020-12-07T11:50:03.630304",
     "status": "completed"
    },
    "tags": []
   },
   "source": [
    "Para utilizar as palavras, antes inseridas em vetores, é necessário transformá-las em vetores numéricos. Para isso, utiliza-se o modelo **Doc2Vec**. \n"
   ]
  },
  {
   "cell_type": "code",
   "execution_count": 14,
   "metadata": {
    "execution": {
     "iopub.execute_input": "2020-12-07T11:50:03.911722Z",
     "iopub.status.busy": "2020-12-07T11:50:03.910782Z",
     "iopub.status.idle": "2020-12-07T11:50:06.160482Z",
     "shell.execute_reply": "2020-12-07T11:50:06.159584Z"
    },
    "papermill": {
     "duration": 2.382077,
     "end_time": "2020-12-07T11:50:06.160626",
     "exception": false,
     "start_time": "2020-12-07T11:50:03.778549",
     "status": "completed"
    },
    "tags": []
   },
   "outputs": [],
   "source": [
    "from gensim.models.doc2vec import Doc2Vec\n",
    "d2v = Doc2Vec.load(\"../input/analise-sentimentos/doc2vec\")"
   ]
  },
  {
   "cell_type": "code",
   "execution_count": 15,
   "metadata": {
    "execution": {
     "iopub.execute_input": "2020-12-07T11:50:06.317003Z",
     "iopub.status.busy": "2020-12-07T11:50:06.316147Z",
     "iopub.status.idle": "2020-12-07T11:50:06.319403Z",
     "shell.execute_reply": "2020-12-07T11:50:06.318800Z"
    },
    "papermill": {
     "duration": 0.08192,
     "end_time": "2020-12-07T11:50:06.319571",
     "exception": false,
     "start_time": "2020-12-07T11:50:06.237651",
     "status": "completed"
    },
    "tags": []
   },
   "outputs": [],
   "source": [
    "#Função disponibilizada no GitHub pelo Felipe Polo\n",
    "def emb(txt, model, normalize=False): \n",
    "    model.random.seed(42)\n",
    "    x=model.infer_vector(txt, steps=20)\n",
    "    \n",
    "    if normalize: return(x/np.sqrt(x@x))\n",
    "    else: return(x)"
   ]
  },
  {
   "cell_type": "markdown",
   "metadata": {
    "papermill": {
     "duration": 0.072051,
     "end_time": "2020-12-07T11:50:06.463541",
     "exception": false,
     "start_time": "2020-12-07T11:50:06.391490",
     "status": "completed"
    },
    "tags": []
   },
   "source": [
    "Uma vez definida a função, a aplica-se ao nosso dataset."
   ]
  },
  {
   "cell_type": "code",
   "execution_count": 16,
   "metadata": {
    "execution": {
     "iopub.execute_input": "2020-12-07T11:50:06.616640Z",
     "iopub.status.busy": "2020-12-07T11:50:06.615541Z",
     "iopub.status.idle": "2020-12-07T11:54:14.949904Z",
     "shell.execute_reply": "2020-12-07T11:54:14.950551Z"
    },
    "papermill": {
     "duration": 248.41522,
     "end_time": "2020-12-07T11:54:14.950734",
     "exception": false,
     "start_time": "2020-12-07T11:50:06.535514",
     "status": "completed"
    },
    "tags": []
   },
   "outputs": [
    {
     "data": {
      "text/plain": [
       "(24888, 50)"
      ]
     },
     "execution_count": 16,
     "metadata": {},
     "output_type": "execute_result"
    }
   ],
   "source": [
    "X_train = X_train.to_list()\n",
    "X_train = [emb(x, d2v) for x in X_train] \n",
    "X_train = np.array(X_train)\n",
    "X_train.shape"
   ]
  },
  {
   "cell_type": "code",
   "execution_count": 17,
   "metadata": {
    "execution": {
     "iopub.execute_input": "2020-12-07T11:54:15.102265Z",
     "iopub.status.busy": "2020-12-07T11:54:15.101286Z",
     "iopub.status.idle": "2020-12-07T11:54:15.106442Z",
     "shell.execute_reply": "2020-12-07T11:54:15.105690Z"
    },
    "papermill": {
     "duration": 0.083062,
     "end_time": "2020-12-07T11:54:15.106598",
     "exception": false,
     "start_time": "2020-12-07T11:54:15.023536",
     "status": "completed"
    },
    "tags": []
   },
   "outputs": [
    {
     "data": {
      "text/plain": [
       "array([[-0.19010174,  0.09099033, -0.81909645, ...,  0.4700647 ,\n",
       "         0.6645498 ,  0.04297624],\n",
       "       [ 0.45501634,  0.18242425, -1.777562  , ...,  0.12909065,\n",
       "        -0.02368977,  1.4491358 ],\n",
       "       [-0.5374058 ,  0.5839215 ,  0.3649743 , ..., -0.0648883 ,\n",
       "         0.71846503,  0.0019397 ],\n",
       "       ...,\n",
       "       [-1.24933   , -0.7087177 , -0.5482241 , ..., -0.15500566,\n",
       "        -0.1219629 , -0.2968659 ],\n",
       "       [-0.19273654,  0.15433277, -0.3144202 , ...,  0.474921  ,\n",
       "        -0.07705972, -0.166927  ],\n",
       "       [-0.98778456,  0.47884825, -0.12010094, ..., -0.25440702,\n",
       "         0.49671653,  0.13248508]], dtype=float32)"
      ]
     },
     "execution_count": 17,
     "metadata": {},
     "output_type": "execute_result"
    }
   ],
   "source": [
    "X_train"
   ]
  },
  {
   "cell_type": "markdown",
   "metadata": {
    "papermill": {
     "duration": 0.074203,
     "end_time": "2020-12-07T11:54:15.255771",
     "exception": false,
     "start_time": "2020-12-07T11:54:15.181568",
     "status": "completed"
    },
    "tags": []
   },
   "source": [
    "Como utilizaremos o mesmo processo na base de validação, faremos o processo para o dataset de treino."
   ]
  },
  {
   "cell_type": "code",
   "execution_count": 18,
   "metadata": {
    "execution": {
     "iopub.execute_input": "2020-12-07T11:54:15.413147Z",
     "iopub.status.busy": "2020-12-07T11:54:15.412286Z",
     "iopub.status.idle": "2020-12-07T11:54:15.951386Z",
     "shell.execute_reply": "2020-12-07T11:54:15.950566Z"
    },
    "papermill": {
     "duration": 0.622648,
     "end_time": "2020-12-07T11:54:15.951522",
     "exception": false,
     "start_time": "2020-12-07T11:54:15.328874",
     "status": "completed"
    },
    "tags": []
   },
   "outputs": [],
   "source": [
    "test = pd.read_csv(\"../input/sentiment-analysis-pmr3508/data_test1.csv\")"
   ]
  },
  {
   "cell_type": "code",
   "execution_count": 19,
   "metadata": {
    "execution": {
     "iopub.execute_input": "2020-12-07T11:54:16.103238Z",
     "iopub.status.busy": "2020-12-07T11:54:16.102495Z",
     "iopub.status.idle": "2020-12-07T11:54:16.200099Z",
     "shell.execute_reply": "2020-12-07T11:54:16.199397Z"
    },
    "papermill": {
     "duration": 0.175519,
     "end_time": "2020-12-07T11:54:16.200235",
     "exception": false,
     "start_time": "2020-12-07T11:54:16.024716",
     "status": "completed"
    },
    "tags": []
   },
   "outputs": [
    {
     "ename": "NameError",
     "evalue": "name 'valid' is not defined",
     "output_type": "error",
     "traceback": [
      "\u001b[0;31m---------------------------------------------------------------------------\u001b[0m",
      "\u001b[0;31mNameError\u001b[0m                                 Traceback (most recent call last)",
      "\u001b[0;32m<ipython-input-19-b6498a48990c>\u001b[0m in \u001b[0;36m<module>\u001b[0;34m\u001b[0m\n\u001b[0;32m----> 1\u001b[0;31m \u001b[0mX_valid\u001b[0m \u001b[0;34m=\u001b[0m \u001b[0mvalid\u001b[0m\u001b[0;34m[\u001b[0m\u001b[0;34m'review'\u001b[0m\u001b[0;34m]\u001b[0m\u001b[0;34m.\u001b[0m\u001b[0mtolist\u001b[0m\u001b[0;34m(\u001b[0m\u001b[0;34m)\u001b[0m\u001b[0;34m\u001b[0m\u001b[0;34m\u001b[0m\u001b[0m\n\u001b[0m\u001b[1;32m      2\u001b[0m \u001b[0my_valid\u001b[0m \u001b[0;34m=\u001b[0m \u001b[0mvalid\u001b[0m\u001b[0;34m[\u001b[0m\u001b[0;34m'positive'\u001b[0m\u001b[0;34m]\u001b[0m\u001b[0;34m\u001b[0m\u001b[0;34m\u001b[0m\u001b[0m\n",
      "\u001b[0;31mNameError\u001b[0m: name 'valid' is not defined"
     ]
    }
   ],
   "source": [
    "X_valid = valid['review'].tolist()\n",
    "y_valid = valid['positive']"
   ]
  },
  {
   "cell_type": "code",
   "execution_count": 20,
   "metadata": {
    "execution": {
     "iopub.execute_input": "2020-12-07T11:54:16.369259Z",
     "iopub.status.busy": "2020-12-07T11:54:16.368293Z",
     "iopub.status.idle": "2020-12-07T11:54:16.373813Z",
     "shell.execute_reply": "2020-12-07T11:54:16.373079Z"
    },
    "papermill": {
     "duration": 0.099016,
     "end_time": "2020-12-07T11:54:16.373939",
     "exception": false,
     "start_time": "2020-12-07T11:54:16.274923",
     "status": "completed"
    },
    "tags": []
   },
   "outputs": [
    {
     "ename": "NameError",
     "evalue": "name 'X_valid' is not defined",
     "output_type": "error",
     "traceback": [
      "\u001b[0;31m---------------------------------------------------------------------------\u001b[0m",
      "\u001b[0;31mNameError\u001b[0m                                 Traceback (most recent call last)",
      "\u001b[0;32m<ipython-input-20-b761a29ae5ed>\u001b[0m in \u001b[0;36m<module>\u001b[0;34m\u001b[0m\n\u001b[0;32m----> 1\u001b[0;31m \u001b[0mX_valid\u001b[0m \u001b[0;34m=\u001b[0m \u001b[0;34m[\u001b[0m\u001b[0mclean\u001b[0m\u001b[0;34m(\u001b[0m\u001b[0mx\u001b[0m\u001b[0;34m)\u001b[0m\u001b[0;34m.\u001b[0m\u001b[0msplit\u001b[0m\u001b[0;34m(\u001b[0m\u001b[0;34m)\u001b[0m \u001b[0;32mfor\u001b[0m \u001b[0mx\u001b[0m \u001b[0;32min\u001b[0m \u001b[0mX_valid\u001b[0m\u001b[0;34m]\u001b[0m\u001b[0;34m\u001b[0m\u001b[0;34m\u001b[0m\u001b[0m\n\u001b[0m\u001b[1;32m      2\u001b[0m \u001b[0mX_valid\u001b[0m \u001b[0;34m=\u001b[0m \u001b[0;34m[\u001b[0m\u001b[0memb\u001b[0m\u001b[0;34m(\u001b[0m\u001b[0mx\u001b[0m\u001b[0;34m,\u001b[0m \u001b[0md2v\u001b[0m\u001b[0;34m)\u001b[0m \u001b[0;32mfor\u001b[0m \u001b[0mx\u001b[0m \u001b[0;32min\u001b[0m \u001b[0mX_valid\u001b[0m\u001b[0;34m]\u001b[0m\u001b[0;34m\u001b[0m\u001b[0;34m\u001b[0m\u001b[0m\n\u001b[1;32m      3\u001b[0m \u001b[0mX_valid\u001b[0m \u001b[0;34m=\u001b[0m \u001b[0mnp\u001b[0m\u001b[0;34m.\u001b[0m\u001b[0marray\u001b[0m\u001b[0;34m(\u001b[0m\u001b[0mX_valid\u001b[0m\u001b[0;34m)\u001b[0m\u001b[0;34m\u001b[0m\u001b[0;34m\u001b[0m\u001b[0m\n",
      "\u001b[0;31mNameError\u001b[0m: name 'X_valid' is not defined"
     ]
    }
   ],
   "source": [
    "X_valid = [clean(x).split() for x in X_valid]\n",
    "X_valid = [emb(x, d2v) for x in X_valid] \n",
    "X_valid = np.array(X_valid)"
   ]
  },
  {
   "cell_type": "code",
   "execution_count": 21,
   "metadata": {
    "execution": {
     "iopub.execute_input": "2020-12-07T11:54:16.538943Z",
     "iopub.status.busy": "2020-12-07T11:54:16.537774Z",
     "iopub.status.idle": "2020-12-07T11:54:16.542547Z",
     "shell.execute_reply": "2020-12-07T11:54:16.541794Z"
    },
    "papermill": {
     "duration": 0.093869,
     "end_time": "2020-12-07T11:54:16.542674",
     "exception": false,
     "start_time": "2020-12-07T11:54:16.448805",
     "status": "completed"
    },
    "tags": []
   },
   "outputs": [
    {
     "ename": "NameError",
     "evalue": "name 'X_valid' is not defined",
     "output_type": "error",
     "traceback": [
      "\u001b[0;31m---------------------------------------------------------------------------\u001b[0m",
      "\u001b[0;31mNameError\u001b[0m                                 Traceback (most recent call last)",
      "\u001b[0;32m<ipython-input-21-9f9d4d4c8c0e>\u001b[0m in \u001b[0;36m<module>\u001b[0;34m\u001b[0m\n\u001b[0;32m----> 1\u001b[0;31m \u001b[0mX_valid\u001b[0m\u001b[0;34m\u001b[0m\u001b[0;34m\u001b[0m\u001b[0m\n\u001b[0m",
      "\u001b[0;31mNameError\u001b[0m: name 'X_valid' is not defined"
     ]
    }
   ],
   "source": [
    "X_valid"
   ]
  },
  {
   "cell_type": "markdown",
   "metadata": {
    "papermill": {
     "duration": 0.074577,
     "end_time": "2020-12-07T11:54:16.692159",
     "exception": false,
     "start_time": "2020-12-07T11:54:16.617582",
     "status": "completed"
    },
    "tags": []
   },
   "source": [
    "Uma vez com os dados processados, pode-se partir para a classificação."
   ]
  },
  {
   "cell_type": "markdown",
   "metadata": {
    "papermill": {
     "duration": 0.07573,
     "end_time": "2020-12-07T11:54:16.843680",
     "exception": false,
     "start_time": "2020-12-07T11:54:16.767950",
     "status": "completed"
    },
    "tags": []
   },
   "source": [
    "## 4. Classificação"
   ]
  },
  {
   "cell_type": "markdown",
   "metadata": {
    "papermill": {
     "duration": 0.074899,
     "end_time": "2020-12-07T11:54:16.996733",
     "exception": false,
     "start_time": "2020-12-07T11:54:16.921834",
     "status": "completed"
    },
    "tags": []
   },
   "source": [
    "A seguir, utiliza-se diversos algoritmos de classificação."
   ]
  },
  {
   "cell_type": "markdown",
   "metadata": {
    "papermill": {
     "duration": 0.074699,
     "end_time": "2020-12-07T11:54:17.146572",
     "exception": false,
     "start_time": "2020-12-07T11:54:17.071873",
     "status": "completed"
    },
    "tags": []
   },
   "source": [
    "### 4. 1. Rede neural (1 camada oculta)"
   ]
  },
  {
   "cell_type": "markdown",
   "metadata": {
    "papermill": {
     "duration": 0.076142,
     "end_time": "2020-12-07T11:54:17.298693",
     "exception": false,
     "start_time": "2020-12-07T11:54:17.222551",
     "status": "completed"
    },
    "tags": []
   },
   "source": [
    "Nesse caso, em que será projetada uma camada oculta de rede neural, utiliza-se a MLPClassifier do Scikit-Learn. Assim, otimiza-se a quantidade de neurônios na única camada escondida, o coeficiente de regularização e o tipo da taxa de aprendizado."
   ]
  },
  {
   "cell_type": "code",
   "execution_count": 22,
   "metadata": {
    "execution": {
     "iopub.execute_input": "2020-12-07T11:54:17.459110Z",
     "iopub.status.busy": "2020-12-07T11:54:17.458239Z",
     "iopub.status.idle": "2020-12-07T11:56:33.270739Z",
     "shell.execute_reply": "2020-12-07T11:56:33.269606Z"
    },
    "papermill": {
     "duration": 135.897043,
     "end_time": "2020-12-07T11:56:33.270942",
     "exception": false,
     "start_time": "2020-12-07T11:54:17.373899",
     "status": "completed"
    },
    "tags": []
   },
   "outputs": [
    {
     "name": "stdout",
     "output_type": "stream",
     "text": [
      "Fitting 2 folds for each of 30 candidates, totalling 60 fits\n"
     ]
    },
    {
     "name": "stderr",
     "output_type": "stream",
     "text": [
      "[Parallel(n_jobs=-1)]: Using backend LokyBackend with 4 concurrent workers.\n",
      "[Parallel(n_jobs=-1)]: Done  33 tasks      | elapsed:  1.2min\n",
      "[Parallel(n_jobs=-1)]: Done  60 out of  60 | elapsed:  2.2min finished\n"
     ]
    }
   ],
   "source": [
    "from sklearn.neural_network import MLPClassifier\n",
    "from sklearn.model_selection import RandomizedSearchCV\n",
    "from scipy.stats import loguniform as sp_loguniform\n",
    "\n",
    "# Modelo de Rede Neural de 1 camada escondida\n",
    "mlp_1l = MLPClassifier(random_state=10, early_stopping=True)\n",
    "\n",
    "# Hiperparâmetros a serem otimizados\n",
    "hyperparams = {'hidden_layer_sizes': [(2 ** i) for i in np.arange(6, 12)],\n",
    "               'alpha': sp_loguniform(0.000001, 0.1),\n",
    "               'learning_rate': ['constant','adaptive']}\n",
    "\n",
    "# Busca de Hiperparâmetros\n",
    "mlp_clf_1l = RandomizedSearchCV(mlp_1l, hyperparams, scoring='roc_auc', n_iter=30, cv=2, n_jobs=-1, random_state=0, verbose=2)\n",
    "search_mlp = mlp_clf_1l.fit(X_train, y_train)"
   ]
  },
  {
   "cell_type": "markdown",
   "metadata": {
    "papermill": {
     "duration": 0.077873,
     "end_time": "2020-12-07T11:56:33.426127",
     "exception": false,
     "start_time": "2020-12-07T11:56:33.348254",
     "status": "completed"
    },
    "tags": []
   },
   "source": [
    "Para otimizar os parâmetros, utiliza-se:\n"
   ]
  },
  {
   "cell_type": "code",
   "execution_count": 23,
   "metadata": {
    "execution": {
     "iopub.execute_input": "2020-12-07T11:56:33.588941Z",
     "iopub.status.busy": "2020-12-07T11:56:33.587684Z",
     "iopub.status.idle": "2020-12-07T11:56:33.593299Z",
     "shell.execute_reply": "2020-12-07T11:56:33.592536Z"
    },
    "papermill": {
     "duration": 0.090312,
     "end_time": "2020-12-07T11:56:33.593449",
     "exception": false,
     "start_time": "2020-12-07T11:56:33.503137",
     "status": "completed"
    },
    "tags": []
   },
   "outputs": [
    {
     "data": {
      "text/plain": [
       "({'alpha': 0.003077201812975572,\n",
       "  'hidden_layer_sizes': 128,\n",
       "  'learning_rate': 'adaptive'},\n",
       " 0.888881796852369)"
      ]
     },
     "execution_count": 23,
     "metadata": {},
     "output_type": "execute_result"
    }
   ],
   "source": [
    "search_mlp.best_params_, search_mlp.best_score_"
   ]
  },
  {
   "cell_type": "markdown",
   "metadata": {
    "papermill": {
     "duration": 0.079883,
     "end_time": "2020-12-07T11:56:33.754001",
     "exception": false,
     "start_time": "2020-12-07T11:56:33.674118",
     "status": "completed"
    },
    "tags": []
   },
   "source": [
    "### 4. 2. Rede neural (2 camada oculta)"
   ]
  },
  {
   "cell_type": "markdown",
   "metadata": {
    "papermill": {
     "duration": 0.084032,
     "end_time": "2020-12-07T11:56:33.917773",
     "exception": false,
     "start_time": "2020-12-07T11:56:33.833741",
     "status": "completed"
    },
    "tags": []
   },
   "source": [
    "Como esperado, testaremos o classificador com 2 camada ocultas, manipulando da mesma forma como foi feita anteriormente, utilizando a MLPClassifier do Scikit-Learn."
   ]
  },
  {
   "cell_type": "code",
   "execution_count": 24,
   "metadata": {
    "execution": {
     "iopub.execute_input": "2020-12-07T11:56:34.094646Z",
     "iopub.status.busy": "2020-12-07T11:56:34.090730Z",
     "iopub.status.idle": "2020-12-07T11:58:50.715106Z",
     "shell.execute_reply": "2020-12-07T11:58:50.715701Z"
    },
    "papermill": {
     "duration": 136.716315,
     "end_time": "2020-12-07T11:58:50.715881",
     "exception": false,
     "start_time": "2020-12-07T11:56:33.999566",
     "status": "completed"
    },
    "tags": []
   },
   "outputs": [
    {
     "name": "stdout",
     "output_type": "stream",
     "text": [
      "Fitting 2 folds for each of 25 candidates, totalling 50 fits\n"
     ]
    },
    {
     "name": "stderr",
     "output_type": "stream",
     "text": [
      "[Parallel(n_jobs=-1)]: Using backend LokyBackend with 4 concurrent workers.\n",
      "[Parallel(n_jobs=-1)]: Done  33 tasks      | elapsed:  1.5min\n",
      "[Parallel(n_jobs=-1)]: Done  50 out of  50 | elapsed:  2.1min finished\n"
     ]
    }
   ],
   "source": [
    "from sklearn.neural_network import MLPClassifier\n",
    "from scipy.stats import loguniform as sp_loguniform\n",
    "\n",
    "# Modelo de Rede Neural de 2 camadas escondidas\n",
    "mlp_2l = MLPClassifier(random_state=42, early_stopping=True)\n",
    "\n",
    "# Hiperparâmetros a serem otimizados\n",
    "hyperparams = {'hidden_layer_sizes': [(2 ** i, 2 ** j) for j in np.arange(6, 10) for i in np.arange(6, 10)],\n",
    "               'alpha': sp_loguniform(0.000001, 0.1),\n",
    "               'learning_rate': ['constant','adaptive']}\n",
    "\n",
    "# Busca de Hiperparâmetros\n",
    "mlp_clf_2l = RandomizedSearchCV(mlp_2l, hyperparams, scoring='roc_auc', n_iter=25, cv=2, n_jobs=-1, random_state=0, verbose=2)\n",
    "search_mlp = mlp_clf_2l.fit(X_train, y_train)"
   ]
  },
  {
   "cell_type": "code",
   "execution_count": 25,
   "metadata": {
    "execution": {
     "iopub.execute_input": "2020-12-07T11:58:50.887226Z",
     "iopub.status.busy": "2020-12-07T11:58:50.886113Z",
     "iopub.status.idle": "2020-12-07T11:58:50.892102Z",
     "shell.execute_reply": "2020-12-07T11:58:50.891286Z"
    },
    "papermill": {
     "duration": 0.093909,
     "end_time": "2020-12-07T11:58:50.892272",
     "exception": false,
     "start_time": "2020-12-07T11:58:50.798363",
     "status": "completed"
    },
    "tags": []
   },
   "outputs": [
    {
     "data": {
      "text/plain": [
       "({'alpha': 0.0002029536243043474,\n",
       "  'hidden_layer_sizes': (512, 64),\n",
       "  'learning_rate': 'adaptive'},\n",
       " 0.8905242855690323)"
      ]
     },
     "execution_count": 25,
     "metadata": {},
     "output_type": "execute_result"
    }
   ],
   "source": [
    "search_mlp.best_params_, search_mlp.best_score_"
   ]
  },
  {
   "cell_type": "markdown",
   "metadata": {
    "papermill": {
     "duration": 0.080534,
     "end_time": "2020-12-07T11:58:51.054841",
     "exception": false,
     "start_time": "2020-12-07T11:58:50.974307",
     "status": "completed"
    },
    "tags": []
   },
   "source": [
    "Como pôde ser constatado, o modelo utilizando 2 camadas ocultas obteve melhor resultado, como esperado."
   ]
  },
  {
   "cell_type": "markdown",
   "metadata": {
    "papermill": {
     "duration": 0.079614,
     "end_time": "2020-12-07T11:58:51.215630",
     "exception": false,
     "start_time": "2020-12-07T11:58:51.136016",
     "status": "completed"
    },
    "tags": []
   },
   "source": [
    "### 4. 3. Rede neural (2 camadas ocultas) - Pytorch"
   ]
  },
  {
   "cell_type": "markdown",
   "metadata": {
    "papermill": {
     "duration": 0.082548,
     "end_time": "2020-12-07T11:58:51.379953",
     "exception": false,
     "start_time": "2020-12-07T11:58:51.297405",
     "status": "completed"
    },
    "tags": []
   },
   "source": [
    "Nesse modelo de classificação, utiliza-se framework Pytorch, muito utilizado em algoritmos de *DeepLearning*."
   ]
  },
  {
   "cell_type": "code",
   "execution_count": 26,
   "metadata": {
    "execution": {
     "iopub.execute_input": "2020-12-07T11:58:51.546361Z",
     "iopub.status.busy": "2020-12-07T11:58:51.545583Z",
     "iopub.status.idle": "2020-12-07T11:58:52.626958Z",
     "shell.execute_reply": "2020-12-07T11:58:52.625991Z"
    },
    "papermill": {
     "duration": 1.166689,
     "end_time": "2020-12-07T11:58:52.627117",
     "exception": false,
     "start_time": "2020-12-07T11:58:51.460428",
     "status": "completed"
    },
    "tags": []
   },
   "outputs": [
    {
     "data": {
      "text/plain": [
       "<torch._C.Generator at 0x7f41fde8a170>"
      ]
     },
     "execution_count": 26,
     "metadata": {},
     "output_type": "execute_result"
    }
   ],
   "source": [
    "# Colocando uma seed para garantir reprodutibilidade\n",
    "import torch\n",
    "torch.manual_seed(42)"
   ]
  },
  {
   "cell_type": "code",
   "execution_count": 27,
   "metadata": {
    "execution": {
     "iopub.execute_input": "2020-12-07T11:58:52.807598Z",
     "iopub.status.busy": "2020-12-07T11:58:52.806375Z",
     "iopub.status.idle": "2020-12-07T11:58:52.809988Z",
     "shell.execute_reply": "2020-12-07T11:58:52.809211Z"
    },
    "papermill": {
     "duration": 0.100829,
     "end_time": "2020-12-07T11:58:52.810122",
     "exception": false,
     "start_time": "2020-12-07T11:58:52.709293",
     "status": "completed"
    },
    "tags": []
   },
   "outputs": [],
   "source": [
    "import torch.nn as nn\n",
    "import torch.nn.functional as F\n",
    "\n",
    "# Nossa rede neural\n",
    "class MLPNet(nn.Module):\n",
    "    def __init__(self, hidden1_dim=512, hidden2_dim=256, p=0.25):\n",
    "        super().__init__()\n",
    "        # Primeira camada escondida de tamanho 'hidden1_dim'\n",
    "        self.fc1 = nn.Linear(50, hidden1_dim)\n",
    "        \n",
    "        # Segunda camada escondida de tamanho 'hidden2_dim'\n",
    "        self.fc2 = nn.Linear(hidden1_dim, hidden2_dim)\n",
    "        \n",
    "        # Camada de output de tamanho 2 (para as duas classes de target)\n",
    "        self.fc3 = nn.Linear(hidden2_dim, 2)\n",
    "\n",
    "        # Camada de Dropout para regularização\n",
    "        self.dropout = nn.Dropout(p)\n",
    "        \n",
    "    def forward(self, X, **kwargs):\n",
    "        # Aplicando a primeira camada escondida\n",
    "        fc_out = F.relu(self.fc1(X))\n",
    "        # Aplicando o Dropout\n",
    "        fc_out = self.dropout(fc_out)\n",
    "        \n",
    "        # Aplicando a segunda camada escondida\n",
    "        fc_out = F.relu(self.fc2(fc_out))\n",
    "        # Aplicando o Dropout\n",
    "        fc_out = self.dropout(fc_out)\n",
    "        \n",
    "        # Aplicando a camada de output\n",
    "        fc_out = self.fc3(fc_out)\n",
    "        # Obtendo as probabilidades de cada classe com um softmax\n",
    "        soft_out = F.softmax(fc_out, dim=-1)\n",
    "        \n",
    "        return soft_out"
   ]
  },
  {
   "cell_type": "code",
   "execution_count": 28,
   "metadata": {
    "execution": {
     "iopub.execute_input": "2020-12-07T11:58:52.982464Z",
     "iopub.status.busy": "2020-12-07T11:58:52.981518Z",
     "iopub.status.idle": "2020-12-07T11:58:53.010728Z",
     "shell.execute_reply": "2020-12-07T11:58:53.009928Z"
    },
    "papermill": {
     "duration": 0.117872,
     "end_time": "2020-12-07T11:58:53.010854",
     "exception": false,
     "start_time": "2020-12-07T11:58:52.892982",
     "status": "completed"
    },
    "tags": []
   },
   "outputs": [],
   "source": [
    "import torch\n",
    "\n",
    "# Instanciando a nossa rede\n",
    "device = 'cuda' if torch.cuda.is_available() else 'cpu'\n",
    "mlp_net = MLPNet().to(device)"
   ]
  },
  {
   "cell_type": "markdown",
   "metadata": {
    "papermill": {
     "duration": 0.08052,
     "end_time": "2020-12-07T11:58:53.172504",
     "exception": false,
     "start_time": "2020-12-07T11:58:53.091984",
     "status": "completed"
    },
    "tags": []
   },
   "source": [
    "Para otimizar os hiperparâmetros, utilizaremos a biblioteca Skorch do Scikit-Learn."
   ]
  },
  {
   "cell_type": "code",
   "execution_count": 29,
   "metadata": {
    "execution": {
     "iopub.execute_input": "2020-12-07T11:58:53.344869Z",
     "iopub.status.busy": "2020-12-07T11:58:53.343792Z",
     "iopub.status.idle": "2020-12-07T11:59:18.657964Z",
     "shell.execute_reply": "2020-12-07T11:59:18.657125Z"
    },
    "papermill": {
     "duration": 25.40454,
     "end_time": "2020-12-07T11:59:18.658099",
     "exception": false,
     "start_time": "2020-12-07T11:58:53.253559",
     "status": "completed"
    },
    "tags": []
   },
   "outputs": [
    {
     "name": "stdout",
     "output_type": "stream",
     "text": [
      "Collecting skorch\r\n",
      "  Downloading skorch-0.9.0-py3-none-any.whl (125 kB)\r\n",
      "\u001b[K     |████████████████████████████████| 125 kB 916 kB/s \r\n",
      "\u001b[?25hRequirement already satisfied: tqdm>=4.14.0 in /opt/conda/lib/python3.7/site-packages (from skorch) (4.45.0)\r\n",
      "Requirement already satisfied: numpy>=1.13.3 in /opt/conda/lib/python3.7/site-packages (from skorch) (1.18.5)\r\n",
      "Requirement already satisfied: tabulate>=0.7.7 in /opt/conda/lib/python3.7/site-packages (from skorch) (0.8.7)\r\n",
      "Requirement already satisfied: scikit-learn>=0.19.1 in /opt/conda/lib/python3.7/site-packages (from skorch) (0.23.2)\r\n",
      "Requirement already satisfied: scipy>=1.1.0 in /opt/conda/lib/python3.7/site-packages (from skorch) (1.4.1)\r\n",
      "Requirement already satisfied: joblib>=0.11 in /opt/conda/lib/python3.7/site-packages (from scikit-learn>=0.19.1->skorch) (0.14.1)\r\n",
      "Requirement already satisfied: threadpoolctl>=2.0.0 in /opt/conda/lib/python3.7/site-packages (from scikit-learn>=0.19.1->skorch) (2.1.0)\r\n",
      "Installing collected packages: skorch\r\n",
      "Successfully installed skorch-0.9.0\r\n",
      "\u001b[33mWARNING: You are using pip version 20.2.4; however, version 20.3.1 is available.\r\n",
      "You should consider upgrading via the '/opt/conda/bin/python3.7 -m pip install --upgrade pip' command.\u001b[0m\r\n",
      "Collecting scikit-learn==0.23.0\r\n",
      "  Downloading scikit_learn-0.23.0-cp37-cp37m-manylinux1_x86_64.whl (7.3 MB)\r\n",
      "\u001b[K     |████████████████████████████████| 7.3 MB 9.1 MB/s \r\n",
      "\u001b[?25hRequirement already satisfied: threadpoolctl>=2.0.0 in /opt/conda/lib/python3.7/site-packages (from scikit-learn==0.23.0) (2.1.0)\r\n",
      "Requirement already satisfied: numpy>=1.13.3 in /opt/conda/lib/python3.7/site-packages (from scikit-learn==0.23.0) (1.18.5)\r\n",
      "Requirement already satisfied: joblib>=0.11 in /opt/conda/lib/python3.7/site-packages (from scikit-learn==0.23.0) (0.14.1)\r\n",
      "Requirement already satisfied: scipy>=0.19.1 in /opt/conda/lib/python3.7/site-packages (from scikit-learn==0.23.0) (1.4.1)\r\n",
      "Installing collected packages: scikit-learn\r\n",
      "  Attempting uninstall: scikit-learn\r\n",
      "    Found existing installation: scikit-learn 0.23.2\r\n",
      "    Uninstalling scikit-learn-0.23.2:\r\n",
      "      Successfully uninstalled scikit-learn-0.23.2\r\n",
      "\u001b[31mERROR: After October 2020 you may experience errors when installing or updating packages. This is because pip will change the way that it resolves dependency conflicts.\r\n",
      "\r\n",
      "We recommend you use --use-feature=2020-resolver to test your packages with the new resolver before it becomes the default.\r\n",
      "\r\n",
      "kmeans-smote 0.1.2 requires imbalanced-learn<0.5,>=0.4.0, but you'll have imbalanced-learn 0.7.0 which is incompatible.\r\n",
      "kmeans-smote 0.1.2 requires numpy<1.16,>=1.13, but you'll have numpy 1.18.5 which is incompatible.\r\n",
      "kmeans-smote 0.1.2 requires scikit-learn<0.21,>=0.19.0, but you'll have scikit-learn 0.23.0 which is incompatible.\u001b[0m\r\n",
      "Successfully installed scikit-learn-0.23.0\r\n",
      "\u001b[33mWARNING: You are using pip version 20.2.4; however, version 20.3.1 is available.\r\n",
      "You should consider upgrading via the '/opt/conda/bin/python3.7 -m pip install --upgrade pip' command.\u001b[0m\r\n"
     ]
    }
   ],
   "source": [
    "!pip install skorch\n",
    "!pip install scikit-learn==0.23.0\n",
    "\n",
    "from numpy.ma import MaskedArray\n",
    "import sklearn.utils.fixes\n",
    "\n",
    "sklearn.utils.fixes.MaskedArray = MaskedArray"
   ]
  },
  {
   "cell_type": "code",
   "execution_count": 30,
   "metadata": {
    "execution": {
     "iopub.execute_input": "2020-12-07T11:59:18.869607Z",
     "iopub.status.busy": "2020-12-07T11:59:18.868569Z",
     "iopub.status.idle": "2020-12-07T11:59:19.073990Z",
     "shell.execute_reply": "2020-12-07T11:59:19.073186Z"
    },
    "papermill": {
     "duration": 0.314062,
     "end_time": "2020-12-07T11:59:19.074125",
     "exception": false,
     "start_time": "2020-12-07T11:59:18.760063",
     "status": "completed"
    },
    "tags": []
   },
   "outputs": [],
   "source": [
    "from torch import optim\n",
    "from skorch import NeuralNetClassifier\n",
    "\n",
    "# Criando uma Rede Neural do Skorch\n",
    "skorch_net = NeuralNetClassifier(mlp_net,\n",
    "                                 max_epochs=20,\n",
    "                                 lr=1e-4,\n",
    "                                 optimizer=optim.Adam,\n",
    "                                 optimizer__weight_decay=1e-4,\n",
    "                                 train_split=False,\n",
    "                                 verbose=0,\n",
    "                                 iterator_train__shuffle=True,\n",
    "                                 )"
   ]
  },
  {
   "cell_type": "markdown",
   "metadata": {
    "papermill": {
     "duration": 0.100441,
     "end_time": "2020-12-07T11:59:19.275057",
     "exception": false,
     "start_time": "2020-12-07T11:59:19.174616",
     "status": "completed"
    },
    "tags": []
   },
   "source": [
    "Agora otimizaremos a rede do skorch, utilizando o scikit-learn, porém utilizando o BayesSearchCV."
   ]
  },
  {
   "cell_type": "code",
   "execution_count": 31,
   "metadata": {
    "execution": {
     "iopub.execute_input": "2020-12-07T11:59:19.487240Z",
     "iopub.status.busy": "2020-12-07T11:59:19.486448Z",
     "iopub.status.idle": "2020-12-07T12:45:36.720124Z",
     "shell.execute_reply": "2020-12-07T12:45:36.719299Z"
    },
    "papermill": {
     "duration": 2777.343614,
     "end_time": "2020-12-07T12:45:36.720303",
     "exception": false,
     "start_time": "2020-12-07T11:59:19.376689",
     "status": "completed"
    },
    "tags": []
   },
   "outputs": [],
   "source": [
    "from skopt import BayesSearchCV\n",
    "from skopt.space import Real, Integer\n",
    "\n",
    "# Hiperparâmetros a serem otimizados\n",
    "hyperparams = {'module__hidden1_dim': Integer(256, 2048),\n",
    "               'module__hidden2_dim': Integer(128, 512),\n",
    "               'module__p': Real(0.1, 0.75, prior='uniform'),\n",
    "               'optimizer__weight_decay': Real(1e-10, 1e-2, prior='log-uniform')}\n",
    "\n",
    "# Busca de Hiperparâmetros\n",
    "skorch_clf = BayesSearchCV(skorch_net, hyperparams, scoring='roc_auc', n_iter=40, cv=3, n_jobs=-1, random_state=42, verbose=0)\n",
    "search_skorch = skorch_clf.fit(X_train.astype(np.float32), y_train.astype(np.int64))"
   ]
  },
  {
   "cell_type": "code",
   "execution_count": 32,
   "metadata": {
    "execution": {
     "iopub.execute_input": "2020-12-07T12:45:36.987755Z",
     "iopub.status.busy": "2020-12-07T12:45:36.986562Z",
     "iopub.status.idle": "2020-12-07T12:45:36.991616Z",
     "shell.execute_reply": "2020-12-07T12:45:36.990865Z"
    },
    "papermill": {
     "duration": 0.137301,
     "end_time": "2020-12-07T12:45:36.991744",
     "exception": false,
     "start_time": "2020-12-07T12:45:36.854443",
     "status": "completed"
    },
    "tags": []
   },
   "outputs": [
    {
     "data": {
      "text/plain": [
       "(OrderedDict([('module__hidden1_dim', 1578),\n",
       "              ('module__hidden2_dim', 128),\n",
       "              ('module__p', 0.5327401225433677),\n",
       "              ('optimizer__weight_decay', 2.136414491343834e-09)]),\n",
       " 0.8945960974556169)"
      ]
     },
     "execution_count": 32,
     "metadata": {},
     "output_type": "execute_result"
    }
   ],
   "source": [
    "search_skorch.best_params_, search_skorch.best_score_"
   ]
  },
  {
   "cell_type": "markdown",
   "metadata": {
    "papermill": {
     "duration": 0.104421,
     "end_time": "2020-12-07T12:45:37.205083",
     "exception": false,
     "start_time": "2020-12-07T12:45:37.100662",
     "status": "completed"
    },
    "tags": []
   },
   "source": [
    "### 4.4. KNN"
   ]
  },
  {
   "cell_type": "markdown",
   "metadata": {
    "papermill": {
     "duration": 0.102598,
     "end_time": "2020-12-07T12:45:37.410214",
     "exception": false,
     "start_time": "2020-12-07T12:45:37.307616",
     "status": "completed"
    },
    "tags": []
   },
   "source": [
    "Como método comparativo, implementa-se o KNN do scikit-learn."
   ]
  },
  {
   "cell_type": "code",
   "execution_count": 33,
   "metadata": {
    "execution": {
     "iopub.execute_input": "2020-12-07T12:45:37.626884Z",
     "iopub.status.busy": "2020-12-07T12:45:37.626064Z",
     "iopub.status.idle": "2020-12-07T12:47:13.676997Z",
     "shell.execute_reply": "2020-12-07T12:47:13.677841Z"
    },
    "papermill": {
     "duration": 96.163903,
     "end_time": "2020-12-07T12:47:13.678016",
     "exception": false,
     "start_time": "2020-12-07T12:45:37.514113",
     "status": "completed"
    },
    "tags": []
   },
   "outputs": [
    {
     "name": "stdout",
     "output_type": "stream",
     "text": [
      "[0.77460828 0.75371635 0.76576939 0.78344717 0.76295701 0.75532342\n",
      " 0.75090398 0.76657292 0.76768489 0.75602894]\n"
     ]
    }
   ],
   "source": [
    "from sklearn.neighbors import KNeighborsClassifier\n",
    "from sklearn.model_selection import cross_val_score\n",
    "\n",
    "knn = KNeighborsClassifier(n_neighbors=20)\n",
    "score_numeric = cross_val_score(knn, X_train, y_train, cv=10)\n",
    "print(score_numeric)"
   ]
  },
  {
   "cell_type": "code",
   "execution_count": 34,
   "metadata": {
    "execution": {
     "iopub.execute_input": "2020-12-07T12:47:13.890777Z",
     "iopub.status.busy": "2020-12-07T12:47:13.889646Z",
     "iopub.status.idle": "2020-12-07T12:47:14.124361Z",
     "shell.execute_reply": "2020-12-07T12:47:14.123566Z"
    },
    "papermill": {
     "duration": 0.343386,
     "end_time": "2020-12-07T12:47:14.124500",
     "exception": false,
     "start_time": "2020-12-07T12:47:13.781114",
     "status": "completed"
    },
    "tags": []
   },
   "outputs": [
    {
     "ename": "NameError",
     "evalue": "name 'X_test' is not defined",
     "output_type": "error",
     "traceback": [
      "\u001b[0;31m---------------------------------------------------------------------------\u001b[0m",
      "\u001b[0;31mNameError\u001b[0m                                 Traceback (most recent call last)",
      "\u001b[0;32m<ipython-input-34-615f1775b969>\u001b[0m in \u001b[0;36m<module>\u001b[0;34m\u001b[0m\n\u001b[1;32m      1\u001b[0m \u001b[0;32mfrom\u001b[0m \u001b[0msklearn\u001b[0m\u001b[0;34m.\u001b[0m\u001b[0mmetrics\u001b[0m \u001b[0;32mimport\u001b[0m \u001b[0mroc_auc_score\u001b[0m\u001b[0;34m\u001b[0m\u001b[0;34m\u001b[0m\u001b[0m\n\u001b[1;32m      2\u001b[0m \u001b[0mknn\u001b[0m\u001b[0;34m.\u001b[0m\u001b[0mfit\u001b[0m\u001b[0;34m(\u001b[0m\u001b[0mX_train\u001b[0m\u001b[0;34m,\u001b[0m \u001b[0my_train\u001b[0m\u001b[0;34m)\u001b[0m\u001b[0;34m\u001b[0m\u001b[0;34m\u001b[0m\u001b[0m\n\u001b[0;32m----> 3\u001b[0;31m \u001b[0mknn_pred\u001b[0m \u001b[0;34m=\u001b[0m \u001b[0mknn\u001b[0m\u001b[0;34m.\u001b[0m\u001b[0mpredict_proba\u001b[0m\u001b[0;34m(\u001b[0m\u001b[0mX_test\u001b[0m\u001b[0;34m)\u001b[0m\u001b[0;34m[\u001b[0m\u001b[0;34m:\u001b[0m\u001b[0;34m,\u001b[0m\u001b[0;36m1\u001b[0m\u001b[0;34m]\u001b[0m\u001b[0;34m\u001b[0m\u001b[0;34m\u001b[0m\u001b[0m\n\u001b[0m\u001b[1;32m      4\u001b[0m \u001b[0mroc_auc_score\u001b[0m\u001b[0;34m(\u001b[0m\u001b[0my_test\u001b[0m\u001b[0;34m,\u001b[0m \u001b[0mknn_pred\u001b[0m\u001b[0;34m)\u001b[0m\u001b[0;34m\u001b[0m\u001b[0;34m\u001b[0m\u001b[0m\n",
      "\u001b[0;31mNameError\u001b[0m: name 'X_test' is not defined"
     ]
    }
   ],
   "source": [
    "from sklearn.metrics import roc_auc_score\n",
    "knn.fit(X_train, y_train)\n",
    "knn_pred = knn.predict_proba(X_test)[:,1]\n",
    "roc_auc_score(y_test, knn_pred)"
   ]
  },
  {
   "cell_type": "markdown",
   "metadata": {
    "papermill": {
     "duration": 0.102316,
     "end_time": "2020-12-07T12:47:14.330116",
     "exception": false,
     "start_time": "2020-12-07T12:47:14.227800",
     "status": "completed"
    },
    "tags": []
   },
   "source": [
    "## 5. Comparação dos classificadores"
   ]
  },
  {
   "cell_type": "markdown",
   "metadata": {
    "papermill": {
     "duration": 0.103993,
     "end_time": "2020-12-07T12:47:14.537066",
     "exception": false,
     "start_time": "2020-12-07T12:47:14.433073",
     "status": "completed"
    },
    "tags": []
   },
   "source": [
    "Para estabelecer uma comparação para os diferente classificadores utilizados, utilizaremos as AUC's aplicadas ao dados de validação do modelo"
   ]
  },
  {
   "cell_type": "markdown",
   "metadata": {
    "papermill": {
     "duration": 0.102116,
     "end_time": "2020-12-07T12:47:14.742207",
     "exception": false,
     "start_time": "2020-12-07T12:47:14.640091",
     "status": "completed"
    },
    "tags": []
   },
   "source": [
    "### 5. 1. Rede neural (1 camada oculta)"
   ]
  },
  {
   "cell_type": "code",
   "execution_count": 35,
   "metadata": {
    "execution": {
     "iopub.execute_input": "2020-12-07T12:47:14.971461Z",
     "iopub.status.busy": "2020-12-07T12:47:14.969253Z",
     "iopub.status.idle": "2020-12-07T12:47:14.976489Z",
     "shell.execute_reply": "2020-12-07T12:47:14.975679Z"
    },
    "papermill": {
     "duration": 0.130078,
     "end_time": "2020-12-07T12:47:14.976626",
     "exception": false,
     "start_time": "2020-12-07T12:47:14.846548",
     "status": "completed"
    },
    "tags": []
   },
   "outputs": [
    {
     "ename": "NameError",
     "evalue": "name 'y_test' is not defined",
     "output_type": "error",
     "traceback": [
      "\u001b[0;31m---------------------------------------------------------------------------\u001b[0m",
      "\u001b[0;31mNameError\u001b[0m                                 Traceback (most recent call last)",
      "\u001b[0;32m<ipython-input-35-880d75ae839f>\u001b[0m in \u001b[0;36m<module>\u001b[0;34m\u001b[0m\n\u001b[1;32m      2\u001b[0m \u001b[0;34m\u001b[0m\u001b[0m\n\u001b[1;32m      3\u001b[0m \u001b[0;31m# Calculando a AUC da rede neural de 1 camada do sklearn\u001b[0m\u001b[0;34m\u001b[0m\u001b[0;34m\u001b[0m\u001b[0;34m\u001b[0m\u001b[0m\n\u001b[0;32m----> 4\u001b[0;31m \u001b[0mmlp_1l_roc_auc\u001b[0m \u001b[0;34m=\u001b[0m \u001b[0mroc_auc_score\u001b[0m\u001b[0;34m(\u001b[0m\u001b[0my_test\u001b[0m\u001b[0;34m,\u001b[0m \u001b[0mmlp_clf_1l\u001b[0m\u001b[0;34m.\u001b[0m\u001b[0mpredict_proba\u001b[0m\u001b[0;34m(\u001b[0m\u001b[0mX_test\u001b[0m\u001b[0;34m)\u001b[0m\u001b[0;34m[\u001b[0m\u001b[0;34m:\u001b[0m\u001b[0;34m,\u001b[0m\u001b[0;36m1\u001b[0m\u001b[0;34m]\u001b[0m\u001b[0;34m)\u001b[0m\u001b[0;34m\u001b[0m\u001b[0;34m\u001b[0m\u001b[0m\n\u001b[0m\u001b[1;32m      5\u001b[0m \u001b[0;34m\u001b[0m\u001b[0m\n\u001b[1;32m      6\u001b[0m \u001b[0mprint\u001b[0m\u001b[0;34m(\u001b[0m\u001b[0;34m'AUCs --- MLP (1 camada): {:.4f}'\u001b[0m\u001b[0;34m.\u001b[0m\u001b[0mformat\u001b[0m\u001b[0;34m(\u001b[0m\u001b[0mmlp_1l_roc_auc\u001b[0m\u001b[0;34m)\u001b[0m\u001b[0;34m)\u001b[0m\u001b[0;34m\u001b[0m\u001b[0;34m\u001b[0m\u001b[0m\n",
      "\u001b[0;31mNameError\u001b[0m: name 'y_test' is not defined"
     ]
    }
   ],
   "source": [
    "from sklearn.metrics import roc_auc_score\n",
    "\n",
    "# Calculando a AUC da rede neural de 1 camada do sklearn\n",
    "mlp_1l_roc_auc = roc_auc_score(y_test, mlp_clf_1l.predict_proba(X_test)[:,1])\n",
    "\n",
    "print('AUCs --- MLP (1 camada): {:.4f}'.format(mlp_1l_roc_auc))"
   ]
  },
  {
   "cell_type": "markdown",
   "metadata": {
    "papermill": {
     "duration": 0.10326,
     "end_time": "2020-12-07T12:47:15.184652",
     "exception": false,
     "start_time": "2020-12-07T12:47:15.081392",
     "status": "completed"
    },
    "tags": []
   },
   "source": [
    "### 5. 2. Rede neural (2 camadas ocultas)"
   ]
  },
  {
   "cell_type": "code",
   "execution_count": 36,
   "metadata": {
    "execution": {
     "iopub.execute_input": "2020-12-07T12:47:15.412431Z",
     "iopub.status.busy": "2020-12-07T12:47:15.409699Z",
     "iopub.status.idle": "2020-12-07T12:47:15.417923Z",
     "shell.execute_reply": "2020-12-07T12:47:15.417169Z"
    },
    "papermill": {
     "duration": 0.129424,
     "end_time": "2020-12-07T12:47:15.418056",
     "exception": false,
     "start_time": "2020-12-07T12:47:15.288632",
     "status": "completed"
    },
    "tags": []
   },
   "outputs": [
    {
     "ename": "NameError",
     "evalue": "name 'y_test' is not defined",
     "output_type": "error",
     "traceback": [
      "\u001b[0;31m---------------------------------------------------------------------------\u001b[0m",
      "\u001b[0;31mNameError\u001b[0m                                 Traceback (most recent call last)",
      "\u001b[0;32m<ipython-input-36-7282b10a4d44>\u001b[0m in \u001b[0;36m<module>\u001b[0;34m\u001b[0m\n\u001b[1;32m      2\u001b[0m \u001b[0;34m\u001b[0m\u001b[0m\n\u001b[1;32m      3\u001b[0m \u001b[0;31m# Calculando a AUC da rede neural de 2 camadas do sklearn\u001b[0m\u001b[0;34m\u001b[0m\u001b[0;34m\u001b[0m\u001b[0;34m\u001b[0m\u001b[0m\n\u001b[0;32m----> 4\u001b[0;31m \u001b[0mmlp_2l_roc_auc\u001b[0m \u001b[0;34m=\u001b[0m \u001b[0mroc_auc_score\u001b[0m\u001b[0;34m(\u001b[0m\u001b[0my_test\u001b[0m\u001b[0;34m,\u001b[0m \u001b[0mmlp_clf_2l\u001b[0m\u001b[0;34m.\u001b[0m\u001b[0mpredict_proba\u001b[0m\u001b[0;34m(\u001b[0m\u001b[0mX_test\u001b[0m\u001b[0;34m)\u001b[0m\u001b[0;34m[\u001b[0m\u001b[0;34m:\u001b[0m\u001b[0;34m,\u001b[0m\u001b[0;36m1\u001b[0m\u001b[0;34m]\u001b[0m\u001b[0;34m)\u001b[0m\u001b[0;34m\u001b[0m\u001b[0;34m\u001b[0m\u001b[0m\n\u001b[0m\u001b[1;32m      5\u001b[0m \u001b[0;34m\u001b[0m\u001b[0m\n\u001b[1;32m      6\u001b[0m \u001b[0mprint\u001b[0m\u001b[0;34m(\u001b[0m\u001b[0;34m'AUCs --- MLP (2 camadas): {:.4f}'\u001b[0m\u001b[0;34m.\u001b[0m\u001b[0mformat\u001b[0m\u001b[0;34m(\u001b[0m\u001b[0mmlp_2l_roc_auc\u001b[0m\u001b[0;34m)\u001b[0m\u001b[0;34m)\u001b[0m\u001b[0;34m\u001b[0m\u001b[0;34m\u001b[0m\u001b[0m\n",
      "\u001b[0;31mNameError\u001b[0m: name 'y_test' is not defined"
     ]
    }
   ],
   "source": [
    "from sklearn.metrics import roc_auc_score\n",
    "\n",
    "# Calculando a AUC da rede neural de 2 camadas do sklearn\n",
    "mlp_2l_roc_auc = roc_auc_score(y_test, mlp_clf_2l.predict_proba(X_test)[:,1])\n",
    "\n",
    "print('AUCs --- MLP (2 camadas): {:.4f}'.format(mlp_2l_roc_auc))"
   ]
  },
  {
   "cell_type": "markdown",
   "metadata": {
    "papermill": {
     "duration": 0.150425,
     "end_time": "2020-12-07T12:47:15.674296",
     "exception": false,
     "start_time": "2020-12-07T12:47:15.523871",
     "status": "completed"
    },
    "tags": []
   },
   "source": [
    "### 5. 3. Rede neural (2 camadas ocultas) - Pytorch"
   ]
  },
  {
   "cell_type": "code",
   "execution_count": 37,
   "metadata": {
    "execution": {
     "iopub.execute_input": "2020-12-07T12:47:15.899615Z",
     "iopub.status.busy": "2020-12-07T12:47:15.894405Z",
     "iopub.status.idle": "2020-12-07T12:47:15.907181Z",
     "shell.execute_reply": "2020-12-07T12:47:15.906428Z"
    },
    "papermill": {
     "duration": 0.128702,
     "end_time": "2020-12-07T12:47:15.907309",
     "exception": false,
     "start_time": "2020-12-07T12:47:15.778607",
     "status": "completed"
    },
    "tags": []
   },
   "outputs": [
    {
     "ename": "NameError",
     "evalue": "name 'y_test' is not defined",
     "output_type": "error",
     "traceback": [
      "\u001b[0;31m---------------------------------------------------------------------------\u001b[0m",
      "\u001b[0;31mNameError\u001b[0m                                 Traceback (most recent call last)",
      "\u001b[0;32m<ipython-input-37-a872ac3fdaf7>\u001b[0m in \u001b[0;36m<module>\u001b[0;34m\u001b[0m\n\u001b[1;32m      2\u001b[0m \u001b[0;34m\u001b[0m\u001b[0m\n\u001b[1;32m      3\u001b[0m \u001b[0;31m# Calculando a AUC da rede neural do Skorch\u001b[0m\u001b[0;34m\u001b[0m\u001b[0;34m\u001b[0m\u001b[0;34m\u001b[0m\u001b[0m\n\u001b[0;32m----> 4\u001b[0;31m \u001b[0mskorch_roc_auc\u001b[0m \u001b[0;34m=\u001b[0m \u001b[0mroc_auc_score\u001b[0m\u001b[0;34m(\u001b[0m\u001b[0my_test\u001b[0m\u001b[0;34m,\u001b[0m \u001b[0msearch_skorch\u001b[0m\u001b[0;34m.\u001b[0m\u001b[0mpredict_proba\u001b[0m\u001b[0;34m(\u001b[0m\u001b[0mX_test\u001b[0m\u001b[0;34m)\u001b[0m\u001b[0;34m[\u001b[0m\u001b[0;34m:\u001b[0m\u001b[0;34m,\u001b[0m\u001b[0;36m1\u001b[0m\u001b[0;34m]\u001b[0m\u001b[0;34m)\u001b[0m\u001b[0;34m\u001b[0m\u001b[0;34m\u001b[0m\u001b[0m\n\u001b[0m\u001b[1;32m      5\u001b[0m \u001b[0;34m\u001b[0m\u001b[0m\n\u001b[1;32m      6\u001b[0m \u001b[0mprint\u001b[0m\u001b[0;34m(\u001b[0m\u001b[0;34m'AUCs --- MLP (Skorch): {:.4f}'\u001b[0m\u001b[0;34m.\u001b[0m\u001b[0mformat\u001b[0m\u001b[0;34m(\u001b[0m\u001b[0mskorch_roc_auc\u001b[0m\u001b[0;34m)\u001b[0m\u001b[0;34m)\u001b[0m\u001b[0;34m\u001b[0m\u001b[0;34m\u001b[0m\u001b[0m\n",
      "\u001b[0;31mNameError\u001b[0m: name 'y_test' is not defined"
     ]
    }
   ],
   "source": [
    "from sklearn.metrics import roc_auc_score\n",
    "\n",
    "# Calculando a AUC da rede neural do Skorch\n",
    "skorch_roc_auc = roc_auc_score(y_test, search_skorch.predict_proba(X_test)[:,1])\n",
    "\n",
    "print('AUCs --- MLP (Skorch): {:.4f}'.format(skorch_roc_auc))"
   ]
  },
  {
   "cell_type": "markdown",
   "metadata": {
    "papermill": {
     "duration": 0.104157,
     "end_time": "2020-12-07T12:47:16.116723",
     "exception": false,
     "start_time": "2020-12-07T12:47:16.012566",
     "status": "completed"
    },
    "tags": []
   },
   "source": [
    "### 5. 4. KNN"
   ]
  },
  {
   "cell_type": "code",
   "execution_count": 38,
   "metadata": {
    "execution": {
     "iopub.execute_input": "2020-12-07T12:47:16.336427Z",
     "iopub.status.busy": "2020-12-07T12:47:16.331103Z",
     "iopub.status.idle": "2020-12-07T12:47:16.349692Z",
     "shell.execute_reply": "2020-12-07T12:47:16.348896Z"
    },
    "papermill": {
     "duration": 0.128497,
     "end_time": "2020-12-07T12:47:16.349844",
     "exception": false,
     "start_time": "2020-12-07T12:47:16.221347",
     "status": "completed"
    },
    "tags": []
   },
   "outputs": [
    {
     "ename": "NameError",
     "evalue": "name 'y_test' is not defined",
     "output_type": "error",
     "traceback": [
      "\u001b[0;31m---------------------------------------------------------------------------\u001b[0m",
      "\u001b[0;31mNameError\u001b[0m                                 Traceback (most recent call last)",
      "\u001b[0;32m<ipython-input-38-9196a3b9d8b8>\u001b[0m in \u001b[0;36m<module>\u001b[0;34m\u001b[0m\n\u001b[0;32m----> 1\u001b[0;31m \u001b[0mroc_auc_score\u001b[0m\u001b[0;34m(\u001b[0m\u001b[0my_test\u001b[0m\u001b[0;34m,\u001b[0m \u001b[0mknn_pred\u001b[0m\u001b[0;34m)\u001b[0m\u001b[0;34m\u001b[0m\u001b[0;34m\u001b[0m\u001b[0m\n\u001b[0m",
      "\u001b[0;31mNameError\u001b[0m: name 'y_test' is not defined"
     ]
    }
   ],
   "source": [
    "roc_auc_score(y_test, knn_pred)"
   ]
  },
  {
   "cell_type": "markdown",
   "metadata": {
    "papermill": {
     "duration": 0.106591,
     "end_time": "2020-12-07T12:47:16.562366",
     "exception": false,
     "start_time": "2020-12-07T12:47:16.455775",
     "status": "completed"
    },
    "tags": []
   },
   "source": [
    "Como constatado numéricamente, o melhor resultado (AUC ) foi obtido pela rede neural do Pytorch"
   ]
  },
  {
   "cell_type": "markdown",
   "metadata": {
    "papermill": {
     "duration": 0.105845,
     "end_time": "2020-12-07T12:47:16.773531",
     "exception": false,
     "start_time": "2020-12-07T12:47:16.667686",
     "status": "completed"
    },
    "tags": []
   },
   "source": [
    "## 6.Submissão dos dados "
   ]
  },
  {
   "cell_type": "markdown",
   "metadata": {
    "papermill": {
     "duration": 0.106813,
     "end_time": "2020-12-07T12:47:16.988897",
     "exception": false,
     "start_time": "2020-12-07T12:47:16.882084",
     "status": "completed"
    },
    "tags": []
   },
   "source": [
    "Importamos o dataset de test."
   ]
  },
  {
   "cell_type": "code",
   "execution_count": 39,
   "metadata": {
    "execution": {
     "iopub.execute_input": "2020-12-07T12:47:17.207205Z",
     "iopub.status.busy": "2020-12-07T12:47:17.206414Z",
     "iopub.status.idle": "2020-12-07T12:47:17.503562Z",
     "shell.execute_reply": "2020-12-07T12:47:17.502878Z"
    },
    "papermill": {
     "duration": 0.40933,
     "end_time": "2020-12-07T12:47:17.503703",
     "exception": false,
     "start_time": "2020-12-07T12:47:17.094373",
     "status": "completed"
    },
    "tags": []
   },
   "outputs": [],
   "source": [
    "test = pd.read_csv(\"../input/sentiment-analysis-pmr3508/data_test2_X.csv\")"
   ]
  },
  {
   "cell_type": "markdown",
   "metadata": {
    "papermill": {
     "duration": 0.104862,
     "end_time": "2020-12-07T12:47:17.713469",
     "exception": false,
     "start_time": "2020-12-07T12:47:17.608607",
     "status": "completed"
    },
    "tags": []
   },
   "source": [
    "Aplicamos os processos feitos no pré-processamento dos dados."
   ]
  },
  {
   "cell_type": "code",
   "execution_count": 40,
   "metadata": {
    "execution": {
     "iopub.execute_input": "2020-12-07T12:47:17.992794Z",
     "iopub.status.busy": "2020-12-07T12:47:17.954701Z",
     "iopub.status.idle": "2020-12-07T12:49:51.543033Z",
     "shell.execute_reply": "2020-12-07T12:49:51.542371Z"
    },
    "papermill": {
     "duration": 153.723889,
     "end_time": "2020-12-07T12:49:51.543166",
     "exception": false,
     "start_time": "2020-12-07T12:47:17.819277",
     "status": "completed"
    },
    "tags": []
   },
   "outputs": [],
   "source": [
    "X_predict = test['review'].tolist()\n",
    "X_predict = [preptext(x).split() for x in X_predict]\n",
    "X_predict = [emb(x, d2v) for x in X_predict] \n",
    "X_predict = np.array(X_predict)"
   ]
  },
  {
   "cell_type": "markdown",
   "metadata": {
    "papermill": {
     "duration": 0.116157,
     "end_time": "2020-12-07T12:49:51.766373",
     "exception": false,
     "start_time": "2020-12-07T12:49:51.650216",
     "status": "completed"
    },
    "tags": []
   },
   "source": [
    "Então, aplicamos o modelo de rede neural."
   ]
  },
  {
   "cell_type": "code",
   "execution_count": 41,
   "metadata": {
    "execution": {
     "iopub.execute_input": "2020-12-07T12:49:52.012859Z",
     "iopub.status.busy": "2020-12-07T12:49:52.011805Z",
     "iopub.status.idle": "2020-12-07T12:49:52.480369Z",
     "shell.execute_reply": "2020-12-07T12:49:52.479663Z"
    },
    "papermill": {
     "duration": 0.593162,
     "end_time": "2020-12-07T12:49:52.480502",
     "exception": false,
     "start_time": "2020-12-07T12:49:51.887340",
     "status": "completed"
    },
    "tags": []
   },
   "outputs": [],
   "source": [
    "prediction = search_skorch.predict_proba(X_predict)[:,1]"
   ]
  },
  {
   "cell_type": "code",
   "execution_count": 42,
   "metadata": {
    "execution": {
     "iopub.execute_input": "2020-12-07T12:49:52.701709Z",
     "iopub.status.busy": "2020-12-07T12:49:52.700655Z",
     "iopub.status.idle": "2020-12-07T12:49:52.705674Z",
     "shell.execute_reply": "2020-12-07T12:49:52.705037Z"
    },
    "papermill": {
     "duration": 0.117516,
     "end_time": "2020-12-07T12:49:52.705795",
     "exception": false,
     "start_time": "2020-12-07T12:49:52.588279",
     "status": "completed"
    },
    "tags": []
   },
   "outputs": [
    {
     "data": {
      "text/plain": [
       "array([0.0006905 , 0.47211865, 0.00264302, ..., 0.01366333, 0.1017729 ,\n",
       "       0.43044034], dtype=float32)"
      ]
     },
     "execution_count": 42,
     "metadata": {},
     "output_type": "execute_result"
    }
   ],
   "source": [
    "prediction"
   ]
  },
  {
   "cell_type": "markdown",
   "metadata": {
    "papermill": {
     "duration": 0.10869,
     "end_time": "2020-12-07T12:49:52.921653",
     "exception": false,
     "start_time": "2020-12-07T12:49:52.812963",
     "status": "completed"
    },
    "tags": []
   },
   "source": [
    "Por fim, para submete-lo ao Kaggle."
   ]
  },
  {
   "cell_type": "code",
   "execution_count": 43,
   "metadata": {
    "execution": {
     "iopub.execute_input": "2020-12-07T12:49:53.148567Z",
     "iopub.status.busy": "2020-12-07T12:49:53.147414Z",
     "iopub.status.idle": "2020-12-07T12:49:53.151072Z",
     "shell.execute_reply": "2020-12-07T12:49:53.151661Z"
    },
    "papermill": {
     "duration": 0.122381,
     "end_time": "2020-12-07T12:49:53.151815",
     "exception": false,
     "start_time": "2020-12-07T12:49:53.029434",
     "status": "completed"
    },
    "tags": []
   },
   "outputs": [
    {
     "data": {
      "text/html": [
       "<div>\n",
       "<style scoped>\n",
       "    .dataframe tbody tr th:only-of-type {\n",
       "        vertical-align: middle;\n",
       "    }\n",
       "\n",
       "    .dataframe tbody tr th {\n",
       "        vertical-align: top;\n",
       "    }\n",
       "\n",
       "    .dataframe thead th {\n",
       "        text-align: right;\n",
       "    }\n",
       "</style>\n",
       "<table border=\"1\" class=\"dataframe\">\n",
       "  <thead>\n",
       "    <tr style=\"text-align: right;\">\n",
       "      <th></th>\n",
       "      <th>positive</th>\n",
       "    </tr>\n",
       "  </thead>\n",
       "  <tbody>\n",
       "    <tr>\n",
       "      <th>0</th>\n",
       "      <td>0.000691</td>\n",
       "    </tr>\n",
       "    <tr>\n",
       "      <th>1</th>\n",
       "      <td>0.472119</td>\n",
       "    </tr>\n",
       "    <tr>\n",
       "      <th>2</th>\n",
       "      <td>0.002643</td>\n",
       "    </tr>\n",
       "    <tr>\n",
       "      <th>3</th>\n",
       "      <td>0.141318</td>\n",
       "    </tr>\n",
       "    <tr>\n",
       "      <th>4</th>\n",
       "      <td>0.089437</td>\n",
       "    </tr>\n",
       "    <tr>\n",
       "      <th>5</th>\n",
       "      <td>0.502346</td>\n",
       "    </tr>\n",
       "    <tr>\n",
       "      <th>6</th>\n",
       "      <td>0.048714</td>\n",
       "    </tr>\n",
       "    <tr>\n",
       "      <th>7</th>\n",
       "      <td>0.613221</td>\n",
       "    </tr>\n",
       "    <tr>\n",
       "      <th>8</th>\n",
       "      <td>0.908360</td>\n",
       "    </tr>\n",
       "    <tr>\n",
       "      <th>9</th>\n",
       "      <td>0.733542</td>\n",
       "    </tr>\n",
       "    <tr>\n",
       "      <th>10</th>\n",
       "      <td>0.980639</td>\n",
       "    </tr>\n",
       "    <tr>\n",
       "      <th>11</th>\n",
       "      <td>0.019027</td>\n",
       "    </tr>\n",
       "    <tr>\n",
       "      <th>12</th>\n",
       "      <td>0.972239</td>\n",
       "    </tr>\n",
       "    <tr>\n",
       "      <th>13</th>\n",
       "      <td>0.582661</td>\n",
       "    </tr>\n",
       "    <tr>\n",
       "      <th>14</th>\n",
       "      <td>0.888832</td>\n",
       "    </tr>\n",
       "  </tbody>\n",
       "</table>\n",
       "</div>"
      ],
      "text/plain": [
       "    positive\n",
       "0   0.000691\n",
       "1   0.472119\n",
       "2   0.002643\n",
       "3   0.141318\n",
       "4   0.089437\n",
       "5   0.502346\n",
       "6   0.048714\n",
       "7   0.613221\n",
       "8   0.908360\n",
       "9   0.733542\n",
       "10  0.980639\n",
       "11  0.019027\n",
       "12  0.972239\n",
       "13  0.582661\n",
       "14  0.888832"
      ]
     },
     "execution_count": 43,
     "metadata": {},
     "output_type": "execute_result"
    }
   ],
   "source": [
    "sub={'positive': prediction}\n",
    "sub=pd.DataFrame(sub)\n",
    "\n",
    "sub.head(15)"
   ]
  },
  {
   "cell_type": "code",
   "execution_count": 44,
   "metadata": {
    "execution": {
     "iopub.execute_input": "2020-12-07T12:49:53.373693Z",
     "iopub.status.busy": "2020-12-07T12:49:53.372844Z",
     "iopub.status.idle": "2020-12-07T12:49:53.708064Z",
     "shell.execute_reply": "2020-12-07T12:49:53.707144Z"
    },
    "papermill": {
     "duration": 0.44826,
     "end_time": "2020-12-07T12:49:53.708200",
     "exception": false,
     "start_time": "2020-12-07T12:49:53.259940",
     "status": "completed"
    },
    "tags": []
   },
   "outputs": [],
   "source": [
    "sub.to_csv(\"submission.csv\", index = True, index_label = 'Id')"
   ]
  }
 ],
 "metadata": {
  "kernelspec": {
   "display_name": "Python 3",
   "language": "python",
   "name": "python3"
  },
  "language_info": {
   "codemirror_mode": {
    "name": "ipython",
    "version": 3
   },
   "file_extension": ".py",
   "mimetype": "text/x-python",
   "name": "python",
   "nbconvert_exporter": "python",
   "pygments_lexer": "ipython3",
   "version": "3.7.6"
  },
  "papermill": {
   "duration": 3694.001016,
   "end_time": "2020-12-07T12:49:53.925226",
   "environment_variables": {},
   "exception": null,
   "input_path": "__notebook__.ipynb",
   "output_path": "__notebook__.ipynb",
   "parameters": {},
   "start_time": "2020-12-07T11:48:19.924210",
   "version": "2.1.0"
  }
 },
 "nbformat": 4,
 "nbformat_minor": 4
}
